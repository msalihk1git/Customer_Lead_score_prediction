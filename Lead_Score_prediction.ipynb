{
 "cells": [
  {
   "cell_type": "code",
   "execution_count": 222,
   "metadata": {},
   "outputs": [],
   "source": [
    "import numpy as np\n",
    "import pandas as pd\n",
    "import seaborn as sns\n",
    "import matplotlib.pyplot as plt\n",
    "from sklearn.model_selection import train_test_split\n",
    "from sklearn.preprocessing import OneHotEncoder, StandardScaler,LabelEncoder\n",
    "from sklearn.ensemble import RandomForestRegressor\n",
    "from sklearn.metrics import mean_squared_error, r2_score\n",
    "from sklearn.metrics import accuracy_score, precision_score, recall_score, f1_score\n",
    "from sklearn.metrics import confusion_matrix,classification_report\n",
    "import re\n",
    "from sklearn.linear_model import LogisticRegression\n"
   ]
  },
  {
   "cell_type": "code",
   "execution_count": 180,
   "metadata": {},
   "outputs": [],
   "source": [
    "df = pd.read_csv(\"Data_Science_Internship_Dump.csv\")"
   ]
  },
  {
   "cell_type": "code",
   "execution_count": 181,
   "metadata": {},
   "outputs": [
    {
     "data": {
      "text/html": [
       "<div>\n",
       "<style scoped>\n",
       "    .dataframe tbody tr th:only-of-type {\n",
       "        vertical-align: middle;\n",
       "    }\n",
       "\n",
       "    .dataframe tbody tr th {\n",
       "        vertical-align: top;\n",
       "    }\n",
       "\n",
       "    .dataframe thead th {\n",
       "        text-align: right;\n",
       "    }\n",
       "</style>\n",
       "<table border=\"1\" class=\"dataframe\">\n",
       "  <thead>\n",
       "    <tr style=\"text-align: right;\">\n",
       "      <th></th>\n",
       "      <th>Unnamed: 0</th>\n",
       "      <th>Agent_id</th>\n",
       "      <th>status</th>\n",
       "      <th>lost_reason</th>\n",
       "      <th>budget</th>\n",
       "      <th>lease</th>\n",
       "      <th>movein</th>\n",
       "      <th>source</th>\n",
       "      <th>source_city</th>\n",
       "      <th>source_country</th>\n",
       "      <th>utm_source</th>\n",
       "      <th>utm_medium</th>\n",
       "      <th>des_city</th>\n",
       "      <th>des_country</th>\n",
       "      <th>room_type</th>\n",
       "      <th>lead_id</th>\n",
       "    </tr>\n",
       "  </thead>\n",
       "  <tbody>\n",
       "    <tr>\n",
       "      <th>0</th>\n",
       "      <td>0</td>\n",
       "      <td>1deba9e96f404694373de9749ddd1ca8aa7bb823145a6f...</td>\n",
       "      <td>LOST</td>\n",
       "      <td>Not responding</td>\n",
       "      <td>NaN</td>\n",
       "      <td>NaN</td>\n",
       "      <td>NaN</td>\n",
       "      <td>9b2d5b4678781e53038e91ea5324530a03f27dc1d0e5f6...</td>\n",
       "      <td>9b2d5b4678781e53038e91ea5324530a03f27dc1d0e5f6...</td>\n",
       "      <td>9b2d5b4678781e53038e91ea5324530a03f27dc1d0e5f6...</td>\n",
       "      <td>3d59f7548e1af2151b64135003ce63c0a484c26b9b8b16...</td>\n",
       "      <td>268ad70eb5bc4737a2ae28162cbca30118cc94520e49ef...</td>\n",
       "      <td>ecc0e7dc084f141b29479058967d0bc07dee25d9690a98...</td>\n",
       "      <td>8d23a6e37e0a6431a8f1b43a91026dcff51170a89a6512...</td>\n",
       "      <td>NaN</td>\n",
       "      <td>cd5dc0d9393f3980d11d4ba6f88f8110c2b7a7f7796307...</td>\n",
       "    </tr>\n",
       "    <tr>\n",
       "      <th>1</th>\n",
       "      <td>1</td>\n",
       "      <td>299ae77a4ef350ae0dd37d6bba1c002d03444fb1edb236...</td>\n",
       "      <td>LOST</td>\n",
       "      <td>Low budget</td>\n",
       "      <td>NaN</td>\n",
       "      <td>NaN</td>\n",
       "      <td>NaN</td>\n",
       "      <td>9b2d5b4678781e53038e91ea5324530a03f27dc1d0e5f6...</td>\n",
       "      <td>9b2d5b4678781e53038e91ea5324530a03f27dc1d0e5f6...</td>\n",
       "      <td>9b2d5b4678781e53038e91ea5324530a03f27dc1d0e5f6...</td>\n",
       "      <td>3d59f7548e1af2151b64135003ce63c0a484c26b9b8b16...</td>\n",
       "      <td>268ad70eb5bc4737a2ae28162cbca30118cc94520e49ef...</td>\n",
       "      <td>5372372f3bf5896820cb2819300c3e681820d82c6efc54...</td>\n",
       "      <td>8d23a6e37e0a6431a8f1b43a91026dcff51170a89a6512...</td>\n",
       "      <td>NaN</td>\n",
       "      <td>b94693673a5f7178d1b114e4004ad52377d3244dd24a3d...</td>\n",
       "    </tr>\n",
       "    <tr>\n",
       "      <th>2</th>\n",
       "      <td>2</td>\n",
       "      <td>c213697430c006013012dd2aca82dd9732aa0a1a6bca13...</td>\n",
       "      <td>LOST</td>\n",
       "      <td>Not responding</td>\n",
       "      <td>£121 - £180 Per Week</td>\n",
       "      <td>Full Year Course Stay 40 - 44 weeks</td>\n",
       "      <td>31/08/22</td>\n",
       "      <td>7aae3e886e89fc1187a5c47d6cea1c22998ee610ade1f2...</td>\n",
       "      <td>9b8cc3c63cdf447e463c11544924bf027945cbd29675f7...</td>\n",
       "      <td>e09e10e67812e9d236ad900e5d46b4308fc62f5d69446a...</td>\n",
       "      <td>bbdefa2950f49882f295b1285d4fa9dec45fc4144bfb07...</td>\n",
       "      <td>09076eb7665d1fb9389c7c4517fee0b00e43092eb34821...</td>\n",
       "      <td>11ab03a1a8c367191355c152f39fe28cae5e426fce49ef...</td>\n",
       "      <td>8d23a6e37e0a6431a8f1b43a91026dcff51170a89a6512...</td>\n",
       "      <td>Ensuite</td>\n",
       "      <td>96ea4e2bf04496c044745938c0299c264c3f4ba079e572...</td>\n",
       "    </tr>\n",
       "    <tr>\n",
       "      <th>3</th>\n",
       "      <td>3</td>\n",
       "      <td>eac9815a500f908736d303e23aa227f0957177b0e6756b...</td>\n",
       "      <td>LOST</td>\n",
       "      <td>Low budget</td>\n",
       "      <td>0-0</td>\n",
       "      <td>0</td>\n",
       "      <td>NaN</td>\n",
       "      <td>ba2d0a29556ac20f86f45e4543c0825428cba33fd7a9ea...</td>\n",
       "      <td>a5f0d2d08eb0592087e3a3a2f9c1ba2c67cc30f2efd2bd...</td>\n",
       "      <td>e09e10e67812e9d236ad900e5d46b4308fc62f5d69446a...</td>\n",
       "      <td>bbdefa2950f49882f295b1285d4fa9dec45fc4144bfb07...</td>\n",
       "      <td>09076eb7665d1fb9389c7c4517fee0b00e43092eb34821...</td>\n",
       "      <td>19372fa44c57a01c37a5a8418779ca3d99b0b59731fb35...</td>\n",
       "      <td>8d23a6e37e0a6431a8f1b43a91026dcff51170a89a6512...</td>\n",
       "      <td>NaN</td>\n",
       "      <td>1d2b34d8add02a182a4129023766ca4585a8ddced0e5b3...</td>\n",
       "    </tr>\n",
       "    <tr>\n",
       "      <th>4</th>\n",
       "      <td>4</td>\n",
       "      <td>1deba9e96f404694373de9749ddd1ca8aa7bb823145a6f...</td>\n",
       "      <td>LOST</td>\n",
       "      <td>Junk lead</td>\n",
       "      <td>NaN</td>\n",
       "      <td>NaN</td>\n",
       "      <td>NaN</td>\n",
       "      <td>9b2d5b4678781e53038e91ea5324530a03f27dc1d0e5f6...</td>\n",
       "      <td>9b2d5b4678781e53038e91ea5324530a03f27dc1d0e5f6...</td>\n",
       "      <td>9b2d5b4678781e53038e91ea5324530a03f27dc1d0e5f6...</td>\n",
       "      <td>3d59f7548e1af2151b64135003ce63c0a484c26b9b8b16...</td>\n",
       "      <td>268ad70eb5bc4737a2ae28162cbca30118cc94520e49ef...</td>\n",
       "      <td>9b2d5b4678781e53038e91ea5324530a03f27dc1d0e5f6...</td>\n",
       "      <td>9b2d5b4678781e53038e91ea5324530a03f27dc1d0e5f6...</td>\n",
       "      <td>NaN</td>\n",
       "      <td>fc10fffd29cfbe93c55158fb47752a7501c211d253468c...</td>\n",
       "    </tr>\n",
       "  </tbody>\n",
       "</table>\n",
       "</div>"
      ],
      "text/plain": [
       "   Unnamed: 0                                           Agent_id status  \\\n",
       "0           0  1deba9e96f404694373de9749ddd1ca8aa7bb823145a6f...   LOST   \n",
       "1           1  299ae77a4ef350ae0dd37d6bba1c002d03444fb1edb236...   LOST   \n",
       "2           2  c213697430c006013012dd2aca82dd9732aa0a1a6bca13...   LOST   \n",
       "3           3  eac9815a500f908736d303e23aa227f0957177b0e6756b...   LOST   \n",
       "4           4  1deba9e96f404694373de9749ddd1ca8aa7bb823145a6f...   LOST   \n",
       "\n",
       "      lost_reason                budget                                lease  \\\n",
       "0  Not responding                   NaN                                  NaN   \n",
       "1      Low budget                   NaN                                  NaN   \n",
       "2  Not responding  £121 - £180 Per Week  Full Year Course Stay 40 - 44 weeks   \n",
       "3      Low budget                   0-0                                    0   \n",
       "4       Junk lead                   NaN                                  NaN   \n",
       "\n",
       "     movein                                             source  \\\n",
       "0       NaN  9b2d5b4678781e53038e91ea5324530a03f27dc1d0e5f6...   \n",
       "1       NaN  9b2d5b4678781e53038e91ea5324530a03f27dc1d0e5f6...   \n",
       "2  31/08/22  7aae3e886e89fc1187a5c47d6cea1c22998ee610ade1f2...   \n",
       "3       NaN  ba2d0a29556ac20f86f45e4543c0825428cba33fd7a9ea...   \n",
       "4       NaN  9b2d5b4678781e53038e91ea5324530a03f27dc1d0e5f6...   \n",
       "\n",
       "                                         source_city  \\\n",
       "0  9b2d5b4678781e53038e91ea5324530a03f27dc1d0e5f6...   \n",
       "1  9b2d5b4678781e53038e91ea5324530a03f27dc1d0e5f6...   \n",
       "2  9b8cc3c63cdf447e463c11544924bf027945cbd29675f7...   \n",
       "3  a5f0d2d08eb0592087e3a3a2f9c1ba2c67cc30f2efd2bd...   \n",
       "4  9b2d5b4678781e53038e91ea5324530a03f27dc1d0e5f6...   \n",
       "\n",
       "                                      source_country  \\\n",
       "0  9b2d5b4678781e53038e91ea5324530a03f27dc1d0e5f6...   \n",
       "1  9b2d5b4678781e53038e91ea5324530a03f27dc1d0e5f6...   \n",
       "2  e09e10e67812e9d236ad900e5d46b4308fc62f5d69446a...   \n",
       "3  e09e10e67812e9d236ad900e5d46b4308fc62f5d69446a...   \n",
       "4  9b2d5b4678781e53038e91ea5324530a03f27dc1d0e5f6...   \n",
       "\n",
       "                                          utm_source  \\\n",
       "0  3d59f7548e1af2151b64135003ce63c0a484c26b9b8b16...   \n",
       "1  3d59f7548e1af2151b64135003ce63c0a484c26b9b8b16...   \n",
       "2  bbdefa2950f49882f295b1285d4fa9dec45fc4144bfb07...   \n",
       "3  bbdefa2950f49882f295b1285d4fa9dec45fc4144bfb07...   \n",
       "4  3d59f7548e1af2151b64135003ce63c0a484c26b9b8b16...   \n",
       "\n",
       "                                          utm_medium  \\\n",
       "0  268ad70eb5bc4737a2ae28162cbca30118cc94520e49ef...   \n",
       "1  268ad70eb5bc4737a2ae28162cbca30118cc94520e49ef...   \n",
       "2  09076eb7665d1fb9389c7c4517fee0b00e43092eb34821...   \n",
       "3  09076eb7665d1fb9389c7c4517fee0b00e43092eb34821...   \n",
       "4  268ad70eb5bc4737a2ae28162cbca30118cc94520e49ef...   \n",
       "\n",
       "                                            des_city  \\\n",
       "0  ecc0e7dc084f141b29479058967d0bc07dee25d9690a98...   \n",
       "1  5372372f3bf5896820cb2819300c3e681820d82c6efc54...   \n",
       "2  11ab03a1a8c367191355c152f39fe28cae5e426fce49ef...   \n",
       "3  19372fa44c57a01c37a5a8418779ca3d99b0b59731fb35...   \n",
       "4  9b2d5b4678781e53038e91ea5324530a03f27dc1d0e5f6...   \n",
       "\n",
       "                                         des_country room_type  \\\n",
       "0  8d23a6e37e0a6431a8f1b43a91026dcff51170a89a6512...       NaN   \n",
       "1  8d23a6e37e0a6431a8f1b43a91026dcff51170a89a6512...       NaN   \n",
       "2  8d23a6e37e0a6431a8f1b43a91026dcff51170a89a6512...   Ensuite   \n",
       "3  8d23a6e37e0a6431a8f1b43a91026dcff51170a89a6512...       NaN   \n",
       "4  9b2d5b4678781e53038e91ea5324530a03f27dc1d0e5f6...       NaN   \n",
       "\n",
       "                                             lead_id  \n",
       "0  cd5dc0d9393f3980d11d4ba6f88f8110c2b7a7f7796307...  \n",
       "1  b94693673a5f7178d1b114e4004ad52377d3244dd24a3d...  \n",
       "2  96ea4e2bf04496c044745938c0299c264c3f4ba079e572...  \n",
       "3  1d2b34d8add02a182a4129023766ca4585a8ddced0e5b3...  \n",
       "4  fc10fffd29cfbe93c55158fb47752a7501c211d253468c...  "
      ]
     },
     "execution_count": 181,
     "metadata": {},
     "output_type": "execute_result"
    }
   ],
   "source": [
    "df.head()"
   ]
  },
  {
   "cell_type": "code",
   "execution_count": 182,
   "metadata": {},
   "outputs": [
    {
     "data": {
      "text/html": [
       "<div>\n",
       "<style scoped>\n",
       "    .dataframe tbody tr th:only-of-type {\n",
       "        vertical-align: middle;\n",
       "    }\n",
       "\n",
       "    .dataframe tbody tr th {\n",
       "        vertical-align: top;\n",
       "    }\n",
       "\n",
       "    .dataframe thead th {\n",
       "        text-align: right;\n",
       "    }\n",
       "</style>\n",
       "<table border=\"1\" class=\"dataframe\">\n",
       "  <thead>\n",
       "    <tr style=\"text-align: right;\">\n",
       "      <th></th>\n",
       "      <th>Unnamed: 0</th>\n",
       "      <th>Agent_id</th>\n",
       "      <th>status</th>\n",
       "      <th>lost_reason</th>\n",
       "      <th>budget</th>\n",
       "      <th>lease</th>\n",
       "      <th>movein</th>\n",
       "      <th>source</th>\n",
       "      <th>source_city</th>\n",
       "      <th>source_country</th>\n",
       "      <th>utm_source</th>\n",
       "      <th>utm_medium</th>\n",
       "      <th>des_city</th>\n",
       "      <th>des_country</th>\n",
       "      <th>room_type</th>\n",
       "      <th>lead_id</th>\n",
       "    </tr>\n",
       "  </thead>\n",
       "  <tbody>\n",
       "    <tr>\n",
       "      <th>46603</th>\n",
       "      <td>46603</td>\n",
       "      <td>2306878a9ad9b57686cd623dd285aaa9b25afdf627f651...</td>\n",
       "      <td>LOST</td>\n",
       "      <td>Low availability</td>\n",
       "      <td>£60 - £120 Per week</td>\n",
       "      <td>Complete Education Year Stay 50 - 52 weeks</td>\n",
       "      <td>01/09/22</td>\n",
       "      <td>9b2d5b4678781e53038e91ea5324530a03f27dc1d0e5f6...</td>\n",
       "      <td>7d1550b844ff586a6023216c06263105eed0a849a2a1f6...</td>\n",
       "      <td>8da82000ef9c4468ba47362a924b895e40662fed846942...</td>\n",
       "      <td>bbdefa2950f49882f295b1285d4fa9dec45fc4144bfb07...</td>\n",
       "      <td>09076eb7665d1fb9389c7c4517fee0b00e43092eb34821...</td>\n",
       "      <td>13d4b96b6ee361b737e22404aeecca45f322ba7d4c2c42...</td>\n",
       "      <td>8d23a6e37e0a6431a8f1b43a91026dcff51170a89a6512...</td>\n",
       "      <td>Studio</td>\n",
       "      <td>1aaa4a4a9092e4c0eabf958ed9aea59c50d8ea3f08f691...</td>\n",
       "    </tr>\n",
       "    <tr>\n",
       "      <th>46604</th>\n",
       "      <td>46604</td>\n",
       "      <td>327ec29056cc47c24bf922f7dc0f78261dad5c726d7353...</td>\n",
       "      <td>LOST</td>\n",
       "      <td>Semester stay</td>\n",
       "      <td>£60 - £120 Per week</td>\n",
       "      <td>Summer/Short Stay 8 - 12 weeks</td>\n",
       "      <td>29/09/22</td>\n",
       "      <td>9b2d5b4678781e53038e91ea5324530a03f27dc1d0e5f6...</td>\n",
       "      <td>9f2ba6981e36ea0fca6c16f42e6413d788d2a7499b8b7f...</td>\n",
       "      <td>8da82000ef9c4468ba47362a924b895e40662fed846942...</td>\n",
       "      <td>bbdefa2950f49882f295b1285d4fa9dec45fc4144bfb07...</td>\n",
       "      <td>09076eb7665d1fb9389c7c4517fee0b00e43092eb34821...</td>\n",
       "      <td>998c18dc0e513ab0035c7b858e3780bbbead88695a15de...</td>\n",
       "      <td>8d23a6e37e0a6431a8f1b43a91026dcff51170a89a6512...</td>\n",
       "      <td>Studio</td>\n",
       "      <td>1f90dbad4873cb9673ff3c7ec69fbac4289181453c6cea...</td>\n",
       "    </tr>\n",
       "    <tr>\n",
       "      <th>46605</th>\n",
       "      <td>46605</td>\n",
       "      <td>1134c0a7d44fdae1afd7f1f64e2789496784095ca0a050...</td>\n",
       "      <td>LOST</td>\n",
       "      <td>Low availability</td>\n",
       "      <td>£241 - £300 Per week</td>\n",
       "      <td>Full Year Course Stay 40 - 44 weeks</td>\n",
       "      <td>20/09/22</td>\n",
       "      <td>7aae3e886e89fc1187a5c47d6cea1c22998ee610ade1f2...</td>\n",
       "      <td>7d1550b844ff586a6023216c06263105eed0a849a2a1f6...</td>\n",
       "      <td>8da82000ef9c4468ba47362a924b895e40662fed846942...</td>\n",
       "      <td>bbdefa2950f49882f295b1285d4fa9dec45fc4144bfb07...</td>\n",
       "      <td>09076eb7665d1fb9389c7c4517fee0b00e43092eb34821...</td>\n",
       "      <td>ecc0e7dc084f141b29479058967d0bc07dee25d9690a98...</td>\n",
       "      <td>8d23a6e37e0a6431a8f1b43a91026dcff51170a89a6512...</td>\n",
       "      <td>Studio</td>\n",
       "      <td>d9e0f455b68a6573544ffac32292541a510fe2daffe2bb...</td>\n",
       "    </tr>\n",
       "    <tr>\n",
       "      <th>46606</th>\n",
       "      <td>46606</td>\n",
       "      <td>8b8b029f1142f5cbc825aa6cbee01406c915c6b055db79...</td>\n",
       "      <td>LOST</td>\n",
       "      <td>Low availability</td>\n",
       "      <td>1108</td>\n",
       "      <td>294</td>\n",
       "      <td>30/08/22</td>\n",
       "      <td>d684761c17c11590f6e2525b48141cb2c0c6f2be5df4e2...</td>\n",
       "      <td>e9c722cbefc2f055ae60b4e2cbe73a2d99537eab0c37f3...</td>\n",
       "      <td>b936ee09e20b3b2234907cde349cda1c1a5327c4a486bf...</td>\n",
       "      <td>7f3fa48ca885678134842fa7456f3ece53a97f843b6101...</td>\n",
       "      <td>abb8e2badd5b6265c3237170cc599257a4f566706715d2...</td>\n",
       "      <td>ecc0e7dc084f141b29479058967d0bc07dee25d9690a98...</td>\n",
       "      <td>8d23a6e37e0a6431a8f1b43a91026dcff51170a89a6512...</td>\n",
       "      <td>NaN</td>\n",
       "      <td>1f90dbad4873cb9673ff3c7ec69fbac4289181453c6cea...</td>\n",
       "    </tr>\n",
       "    <tr>\n",
       "      <th>46607</th>\n",
       "      <td>46607</td>\n",
       "      <td>1ea65ea38f2f574b3875ba895e4ff76b284b7725041612...</td>\n",
       "      <td>LOST</td>\n",
       "      <td>Low availability</td>\n",
       "      <td>£181 - £240 Per Week</td>\n",
       "      <td>Full Year Course Stay 40 - 44 weeks</td>\n",
       "      <td>01/09/22</td>\n",
       "      <td>7aae3e886e89fc1187a5c47d6cea1c22998ee610ade1f2...</td>\n",
       "      <td>1496126b7015defbc3b1d129a46096a5c135075aff2add...</td>\n",
       "      <td>e09e10e67812e9d236ad900e5d46b4308fc62f5d69446a...</td>\n",
       "      <td>bbdefa2950f49882f295b1285d4fa9dec45fc4144bfb07...</td>\n",
       "      <td>09076eb7665d1fb9389c7c4517fee0b00e43092eb34821...</td>\n",
       "      <td>618738f7143c9b43a98a6b42d743a6595069a9b4dcf42d...</td>\n",
       "      <td>8d23a6e37e0a6431a8f1b43a91026dcff51170a89a6512...</td>\n",
       "      <td>Studio</td>\n",
       "      <td>7520a8abba2b44d7f37c0ddbe5f7f3d87540b2b7a670e9...</td>\n",
       "    </tr>\n",
       "  </tbody>\n",
       "</table>\n",
       "</div>"
      ],
      "text/plain": [
       "       Unnamed: 0                                           Agent_id status  \\\n",
       "46603       46603  2306878a9ad9b57686cd623dd285aaa9b25afdf627f651...   LOST   \n",
       "46604       46604  327ec29056cc47c24bf922f7dc0f78261dad5c726d7353...   LOST   \n",
       "46605       46605  1134c0a7d44fdae1afd7f1f64e2789496784095ca0a050...   LOST   \n",
       "46606       46606  8b8b029f1142f5cbc825aa6cbee01406c915c6b055db79...   LOST   \n",
       "46607       46607  1ea65ea38f2f574b3875ba895e4ff76b284b7725041612...   LOST   \n",
       "\n",
       "            lost_reason                budget  \\\n",
       "46603  Low availability   £60 - £120 Per week   \n",
       "46604     Semester stay   £60 - £120 Per week   \n",
       "46605  Low availability  £241 - £300 Per week   \n",
       "46606  Low availability                  1108   \n",
       "46607  Low availability  £181 - £240 Per Week   \n",
       "\n",
       "                                            lease    movein  \\\n",
       "46603  Complete Education Year Stay 50 - 52 weeks  01/09/22   \n",
       "46604              Summer/Short Stay 8 - 12 weeks  29/09/22   \n",
       "46605         Full Year Course Stay 40 - 44 weeks  20/09/22   \n",
       "46606                                         294  30/08/22   \n",
       "46607         Full Year Course Stay 40 - 44 weeks  01/09/22   \n",
       "\n",
       "                                                  source  \\\n",
       "46603  9b2d5b4678781e53038e91ea5324530a03f27dc1d0e5f6...   \n",
       "46604  9b2d5b4678781e53038e91ea5324530a03f27dc1d0e5f6...   \n",
       "46605  7aae3e886e89fc1187a5c47d6cea1c22998ee610ade1f2...   \n",
       "46606  d684761c17c11590f6e2525b48141cb2c0c6f2be5df4e2...   \n",
       "46607  7aae3e886e89fc1187a5c47d6cea1c22998ee610ade1f2...   \n",
       "\n",
       "                                             source_city  \\\n",
       "46603  7d1550b844ff586a6023216c06263105eed0a849a2a1f6...   \n",
       "46604  9f2ba6981e36ea0fca6c16f42e6413d788d2a7499b8b7f...   \n",
       "46605  7d1550b844ff586a6023216c06263105eed0a849a2a1f6...   \n",
       "46606  e9c722cbefc2f055ae60b4e2cbe73a2d99537eab0c37f3...   \n",
       "46607  1496126b7015defbc3b1d129a46096a5c135075aff2add...   \n",
       "\n",
       "                                          source_country  \\\n",
       "46603  8da82000ef9c4468ba47362a924b895e40662fed846942...   \n",
       "46604  8da82000ef9c4468ba47362a924b895e40662fed846942...   \n",
       "46605  8da82000ef9c4468ba47362a924b895e40662fed846942...   \n",
       "46606  b936ee09e20b3b2234907cde349cda1c1a5327c4a486bf...   \n",
       "46607  e09e10e67812e9d236ad900e5d46b4308fc62f5d69446a...   \n",
       "\n",
       "                                              utm_source  \\\n",
       "46603  bbdefa2950f49882f295b1285d4fa9dec45fc4144bfb07...   \n",
       "46604  bbdefa2950f49882f295b1285d4fa9dec45fc4144bfb07...   \n",
       "46605  bbdefa2950f49882f295b1285d4fa9dec45fc4144bfb07...   \n",
       "46606  7f3fa48ca885678134842fa7456f3ece53a97f843b6101...   \n",
       "46607  bbdefa2950f49882f295b1285d4fa9dec45fc4144bfb07...   \n",
       "\n",
       "                                              utm_medium  \\\n",
       "46603  09076eb7665d1fb9389c7c4517fee0b00e43092eb34821...   \n",
       "46604  09076eb7665d1fb9389c7c4517fee0b00e43092eb34821...   \n",
       "46605  09076eb7665d1fb9389c7c4517fee0b00e43092eb34821...   \n",
       "46606  abb8e2badd5b6265c3237170cc599257a4f566706715d2...   \n",
       "46607  09076eb7665d1fb9389c7c4517fee0b00e43092eb34821...   \n",
       "\n",
       "                                                des_city  \\\n",
       "46603  13d4b96b6ee361b737e22404aeecca45f322ba7d4c2c42...   \n",
       "46604  998c18dc0e513ab0035c7b858e3780bbbead88695a15de...   \n",
       "46605  ecc0e7dc084f141b29479058967d0bc07dee25d9690a98...   \n",
       "46606  ecc0e7dc084f141b29479058967d0bc07dee25d9690a98...   \n",
       "46607  618738f7143c9b43a98a6b42d743a6595069a9b4dcf42d...   \n",
       "\n",
       "                                             des_country room_type  \\\n",
       "46603  8d23a6e37e0a6431a8f1b43a91026dcff51170a89a6512...    Studio   \n",
       "46604  8d23a6e37e0a6431a8f1b43a91026dcff51170a89a6512...    Studio   \n",
       "46605  8d23a6e37e0a6431a8f1b43a91026dcff51170a89a6512...    Studio   \n",
       "46606  8d23a6e37e0a6431a8f1b43a91026dcff51170a89a6512...       NaN   \n",
       "46607  8d23a6e37e0a6431a8f1b43a91026dcff51170a89a6512...    Studio   \n",
       "\n",
       "                                                 lead_id  \n",
       "46603  1aaa4a4a9092e4c0eabf958ed9aea59c50d8ea3f08f691...  \n",
       "46604  1f90dbad4873cb9673ff3c7ec69fbac4289181453c6cea...  \n",
       "46605  d9e0f455b68a6573544ffac32292541a510fe2daffe2bb...  \n",
       "46606  1f90dbad4873cb9673ff3c7ec69fbac4289181453c6cea...  \n",
       "46607  7520a8abba2b44d7f37c0ddbe5f7f3d87540b2b7a670e9...  "
      ]
     },
     "execution_count": 182,
     "metadata": {},
     "output_type": "execute_result"
    }
   ],
   "source": [
    "df.tail()"
   ]
  },
  {
   "cell_type": "code",
   "execution_count": 183,
   "metadata": {},
   "outputs": [
    {
     "name": "stdout",
     "output_type": "stream",
     "text": [
      "<class 'pandas.core.frame.DataFrame'>\n",
      "RangeIndex: 46608 entries, 0 to 46607\n",
      "Data columns (total 16 columns):\n",
      " #   Column          Non-Null Count  Dtype \n",
      "---  ------          --------------  ----- \n",
      " 0   Unnamed: 0      46608 non-null  int64 \n",
      " 1   Agent_id        46608 non-null  object\n",
      " 2   status          46608 non-null  object\n",
      " 3   lost_reason     43244 non-null  object\n",
      " 4   budget          42908 non-null  object\n",
      " 5   lease           44267 non-null  object\n",
      " 6   movein          32970 non-null  object\n",
      " 7   source          46608 non-null  object\n",
      " 8   source_city     46608 non-null  object\n",
      " 9   source_country  46608 non-null  object\n",
      " 10  utm_source      46608 non-null  object\n",
      " 11  utm_medium      46608 non-null  object\n",
      " 12  des_city        46608 non-null  object\n",
      " 13  des_country     46608 non-null  object\n",
      " 14  room_type       23061 non-null  object\n",
      " 15  lead_id         46608 non-null  object\n",
      "dtypes: int64(1), object(15)\n",
      "memory usage: 5.7+ MB\n"
     ]
    }
   ],
   "source": [
    "df.info()"
   ]
  },
  {
   "cell_type": "code",
   "execution_count": 184,
   "metadata": {},
   "outputs": [
    {
     "data": {
      "text/plain": [
       "(46608, 16)"
      ]
     },
     "execution_count": 184,
     "metadata": {},
     "output_type": "execute_result"
    }
   ],
   "source": [
    "df.shape"
   ]
  },
  {
   "cell_type": "code",
   "execution_count": 185,
   "metadata": {},
   "outputs": [
    {
     "data": {
      "text/plain": [
       "46317"
      ]
     },
     "execution_count": 185,
     "metadata": {},
     "output_type": "execute_result"
    }
   ],
   "source": [
    "# Removing leads with status other than WON or LOST\n",
    "df = df[df['status'].isin(['WON','LOST'])]\n",
    "df.status.count()"
   ]
  },
  {
   "cell_type": "code",
   "execution_count": 186,
   "metadata": {},
   "outputs": [
    {
     "data": {
      "text/plain": [
       "Unnamed: 0            0\n",
       "Agent_id              0\n",
       "status                0\n",
       "lost_reason        3073\n",
       "budget             3694\n",
       "lease              2336\n",
       "movein            13610\n",
       "source                0\n",
       "source_city           0\n",
       "source_country        0\n",
       "utm_source            0\n",
       "utm_medium            0\n",
       "des_city              0\n",
       "des_country           0\n",
       "room_type         23491\n",
       "lead_id               0\n",
       "dtype: int64"
      ]
     },
     "execution_count": 186,
     "metadata": {},
     "output_type": "execute_result"
    }
   ],
   "source": [
    "#Checking for null values\n",
    "df.isna().sum()"
   ]
  },
  {
   "cell_type": "code",
   "execution_count": 187,
   "metadata": {},
   "outputs": [],
   "source": [
    "#Replacing '9b2d5b4678781e53038e91ea5324530a03f27dc1d0e5f6c9bc9d493a23be9de0' to  NAN value:--\n",
    "df = df.replace('9b2d5b4678781e53038e91ea5324530a03f27dc1d0e5f6c9bc9d493a23be9de0', np.nan)"
   ]
  },
  {
   "cell_type": "code",
   "execution_count": 188,
   "metadata": {},
   "outputs": [
    {
     "data": {
      "text/plain": [
       "Unnamed: 0            0\n",
       "Agent_id              0\n",
       "status                0\n",
       "lost_reason        3073\n",
       "budget             3694\n",
       "lease              2336\n",
       "movein            13610\n",
       "source             5951\n",
       "source_city        8831\n",
       "source_country     8622\n",
       "utm_source           61\n",
       "utm_medium         3184\n",
       "des_city           2529\n",
       "des_country        2529\n",
       "room_type         23491\n",
       "lead_id               0\n",
       "dtype: int64"
      ]
     },
     "execution_count": 188,
     "metadata": {},
     "output_type": "execute_result"
    }
   ],
   "source": [
    "df.isna().sum()"
   ]
  },
  {
   "cell_type": "code",
   "execution_count": 189,
   "metadata": {},
   "outputs": [
    {
     "data": {
      "text/plain": [
       "LOST    43244\n",
       "WON      3073\n",
       "Name: status, dtype: int64"
      ]
     },
     "execution_count": 189,
     "metadata": {},
     "output_type": "execute_result"
    }
   ],
   "source": [
    "df['status'].value_counts()"
   ]
  },
  {
   "cell_type": "code",
   "execution_count": 190,
   "metadata": {},
   "outputs": [
    {
     "data": {
      "image/png": "[encoded data removed]",
      "text/plain": [
       "<Figure size 432x288 with 1 Axes>"
      ]
     },
     "metadata": {
      "needs_background": "light"
     },
     "output_type": "display_data"
    }
   ],
   "source": [
    "sns.countplot(x=\"status\",data=df)\n",
    "plt.show()"
   ]
  },
  {
   "cell_type": "code",
   "execution_count": 191,
   "metadata": {},
   "outputs": [
    {
     "data": {
      "image/png": "[encoded data removed]",
      "text/plain": [
       "<Figure size 1080x864 with 2 Axes>"
      ]
     },
     "metadata": {
      "needs_background": "light"
     },
     "output_type": "display_data"
    }
   ],
   "source": [
    "#Correlation using heat map in input Dataset\n",
    "\n",
    "plt.figure(figsize=(15,12))\n",
    "sns.heatmap(df.corr(),annot=True,cmap=\"YlGnBu\")\n",
    "plt.title(\"Correlation Plot - Heat Map\")\n",
    "plt.show()\n"
   ]
  },
  {
   "cell_type": "code",
   "execution_count": 192,
   "metadata": {},
   "outputs": [
    {
     "data": {
      "text/plain": [
       "<seaborn.axisgrid.PairGrid at 0x238d37ca430>"
      ]
     },
     "execution_count": 192,
     "metadata": {},
     "output_type": "execute_result"
    },
    {
     "data": {
      "image/png": "[encoded data removed]",
      "text/plain": [
       "<Figure size 218.75x180 with 2 Axes>"
      ]
     },
     "metadata": {
      "needs_background": "light"
     },
     "output_type": "display_data"
    }
   ],
   "source": [
    "#Pairplot using sns\n",
    "sns.pairplot(df,hue=\"status\")"
   ]
  },
  {
   "cell_type": "code",
   "execution_count": 193,
   "metadata": {},
   "outputs": [],
   "source": [
    "#  considering only data which has <10% none values\n",
    "cols = []\n",
    "\n",
    "for i in df.columns:\n",
    "  if df[i].isnull().sum() < len(df)/10:\n",
    "    cols.append(i)"
   ]
  },
  {
   "cell_type": "code",
   "execution_count": 194,
   "metadata": {},
   "outputs": [
    {
     "data": {
      "text/plain": [
       "['Unnamed: 0',\n",
       " 'Agent_id',\n",
       " 'status',\n",
       " 'lost_reason',\n",
       " 'budget',\n",
       " 'lease',\n",
       " 'utm_source',\n",
       " 'utm_medium',\n",
       " 'des_city',\n",
       " 'des_country',\n",
       " 'lead_id']"
      ]
     },
     "execution_count": 194,
     "metadata": {},
     "output_type": "execute_result"
    }
   ],
   "source": [
    "cols"
   ]
  },
  {
   "cell_type": "code",
   "execution_count": 195,
   "metadata": {},
   "outputs": [
    {
     "data": {
      "text/html": [
       "<div>\n",
       "<style scoped>\n",
       "    .dataframe tbody tr th:only-of-type {\n",
       "        vertical-align: middle;\n",
       "    }\n",
       "\n",
       "    .dataframe tbody tr th {\n",
       "        vertical-align: top;\n",
       "    }\n",
       "\n",
       "    .dataframe thead th {\n",
       "        text-align: right;\n",
       "    }\n",
       "</style>\n",
       "<table border=\"1\" class=\"dataframe\">\n",
       "  <thead>\n",
       "    <tr style=\"text-align: right;\">\n",
       "      <th></th>\n",
       "      <th>Unnamed: 0</th>\n",
       "      <th>Agent_id</th>\n",
       "      <th>status</th>\n",
       "      <th>lost_reason</th>\n",
       "      <th>budget</th>\n",
       "      <th>lease</th>\n",
       "      <th>utm_source</th>\n",
       "      <th>utm_medium</th>\n",
       "      <th>des_city</th>\n",
       "      <th>des_country</th>\n",
       "      <th>lead_id</th>\n",
       "    </tr>\n",
       "  </thead>\n",
       "  <tbody>\n",
       "    <tr>\n",
       "      <th>0</th>\n",
       "      <td>0</td>\n",
       "      <td>1deba9e96f404694373de9749ddd1ca8aa7bb823145a6f...</td>\n",
       "      <td>LOST</td>\n",
       "      <td>Not responding</td>\n",
       "      <td>NaN</td>\n",
       "      <td>NaN</td>\n",
       "      <td>3d59f7548e1af2151b64135003ce63c0a484c26b9b8b16...</td>\n",
       "      <td>268ad70eb5bc4737a2ae28162cbca30118cc94520e49ef...</td>\n",
       "      <td>ecc0e7dc084f141b29479058967d0bc07dee25d9690a98...</td>\n",
       "      <td>8d23a6e37e0a6431a8f1b43a91026dcff51170a89a6512...</td>\n",
       "      <td>cd5dc0d9393f3980d11d4ba6f88f8110c2b7a7f7796307...</td>\n",
       "    </tr>\n",
       "    <tr>\n",
       "      <th>1</th>\n",
       "      <td>1</td>\n",
       "      <td>299ae77a4ef350ae0dd37d6bba1c002d03444fb1edb236...</td>\n",
       "      <td>LOST</td>\n",
       "      <td>Low budget</td>\n",
       "      <td>NaN</td>\n",
       "      <td>NaN</td>\n",
       "      <td>3d59f7548e1af2151b64135003ce63c0a484c26b9b8b16...</td>\n",
       "      <td>268ad70eb5bc4737a2ae28162cbca30118cc94520e49ef...</td>\n",
       "      <td>5372372f3bf5896820cb2819300c3e681820d82c6efc54...</td>\n",
       "      <td>8d23a6e37e0a6431a8f1b43a91026dcff51170a89a6512...</td>\n",
       "      <td>b94693673a5f7178d1b114e4004ad52377d3244dd24a3d...</td>\n",
       "    </tr>\n",
       "    <tr>\n",
       "      <th>2</th>\n",
       "      <td>2</td>\n",
       "      <td>c213697430c006013012dd2aca82dd9732aa0a1a6bca13...</td>\n",
       "      <td>LOST</td>\n",
       "      <td>Not responding</td>\n",
       "      <td>£121 - £180 Per Week</td>\n",
       "      <td>Full Year Course Stay 40 - 44 weeks</td>\n",
       "      <td>bbdefa2950f49882f295b1285d4fa9dec45fc4144bfb07...</td>\n",
       "      <td>09076eb7665d1fb9389c7c4517fee0b00e43092eb34821...</td>\n",
       "      <td>11ab03a1a8c367191355c152f39fe28cae5e426fce49ef...</td>\n",
       "      <td>8d23a6e37e0a6431a8f1b43a91026dcff51170a89a6512...</td>\n",
       "      <td>96ea4e2bf04496c044745938c0299c264c3f4ba079e572...</td>\n",
       "    </tr>\n",
       "    <tr>\n",
       "      <th>3</th>\n",
       "      <td>3</td>\n",
       "      <td>eac9815a500f908736d303e23aa227f0957177b0e6756b...</td>\n",
       "      <td>LOST</td>\n",
       "      <td>Low budget</td>\n",
       "      <td>0-0</td>\n",
       "      <td>0</td>\n",
       "      <td>bbdefa2950f49882f295b1285d4fa9dec45fc4144bfb07...</td>\n",
       "      <td>09076eb7665d1fb9389c7c4517fee0b00e43092eb34821...</td>\n",
       "      <td>19372fa44c57a01c37a5a8418779ca3d99b0b59731fb35...</td>\n",
       "      <td>8d23a6e37e0a6431a8f1b43a91026dcff51170a89a6512...</td>\n",
       "      <td>1d2b34d8add02a182a4129023766ca4585a8ddced0e5b3...</td>\n",
       "    </tr>\n",
       "    <tr>\n",
       "      <th>4</th>\n",
       "      <td>4</td>\n",
       "      <td>1deba9e96f404694373de9749ddd1ca8aa7bb823145a6f...</td>\n",
       "      <td>LOST</td>\n",
       "      <td>Junk lead</td>\n",
       "      <td>NaN</td>\n",
       "      <td>NaN</td>\n",
       "      <td>3d59f7548e1af2151b64135003ce63c0a484c26b9b8b16...</td>\n",
       "      <td>268ad70eb5bc4737a2ae28162cbca30118cc94520e49ef...</td>\n",
       "      <td>NaN</td>\n",
       "      <td>NaN</td>\n",
       "      <td>fc10fffd29cfbe93c55158fb47752a7501c211d253468c...</td>\n",
       "    </tr>\n",
       "  </tbody>\n",
       "</table>\n",
       "</div>"
      ],
      "text/plain": [
       "   Unnamed: 0                                           Agent_id status  \\\n",
       "0           0  1deba9e96f404694373de9749ddd1ca8aa7bb823145a6f...   LOST   \n",
       "1           1  299ae77a4ef350ae0dd37d6bba1c002d03444fb1edb236...   LOST   \n",
       "2           2  c213697430c006013012dd2aca82dd9732aa0a1a6bca13...   LOST   \n",
       "3           3  eac9815a500f908736d303e23aa227f0957177b0e6756b...   LOST   \n",
       "4           4  1deba9e96f404694373de9749ddd1ca8aa7bb823145a6f...   LOST   \n",
       "\n",
       "      lost_reason                budget                                lease  \\\n",
       "0  Not responding                   NaN                                  NaN   \n",
       "1      Low budget                   NaN                                  NaN   \n",
       "2  Not responding  £121 - £180 Per Week  Full Year Course Stay 40 - 44 weeks   \n",
       "3      Low budget                   0-0                                    0   \n",
       "4       Junk lead                   NaN                                  NaN   \n",
       "\n",
       "                                          utm_source  \\\n",
       "0  3d59f7548e1af2151b64135003ce63c0a484c26b9b8b16...   \n",
       "1  3d59f7548e1af2151b64135003ce63c0a484c26b9b8b16...   \n",
       "2  bbdefa2950f49882f295b1285d4fa9dec45fc4144bfb07...   \n",
       "3  bbdefa2950f49882f295b1285d4fa9dec45fc4144bfb07...   \n",
       "4  3d59f7548e1af2151b64135003ce63c0a484c26b9b8b16...   \n",
       "\n",
       "                                          utm_medium  \\\n",
       "0  268ad70eb5bc4737a2ae28162cbca30118cc94520e49ef...   \n",
       "1  268ad70eb5bc4737a2ae28162cbca30118cc94520e49ef...   \n",
       "2  09076eb7665d1fb9389c7c4517fee0b00e43092eb34821...   \n",
       "3  09076eb7665d1fb9389c7c4517fee0b00e43092eb34821...   \n",
       "4  268ad70eb5bc4737a2ae28162cbca30118cc94520e49ef...   \n",
       "\n",
       "                                            des_city  \\\n",
       "0  ecc0e7dc084f141b29479058967d0bc07dee25d9690a98...   \n",
       "1  5372372f3bf5896820cb2819300c3e681820d82c6efc54...   \n",
       "2  11ab03a1a8c367191355c152f39fe28cae5e426fce49ef...   \n",
       "3  19372fa44c57a01c37a5a8418779ca3d99b0b59731fb35...   \n",
       "4                                                NaN   \n",
       "\n",
       "                                         des_country  \\\n",
       "0  8d23a6e37e0a6431a8f1b43a91026dcff51170a89a6512...   \n",
       "1  8d23a6e37e0a6431a8f1b43a91026dcff51170a89a6512...   \n",
       "2  8d23a6e37e0a6431a8f1b43a91026dcff51170a89a6512...   \n",
       "3  8d23a6e37e0a6431a8f1b43a91026dcff51170a89a6512...   \n",
       "4                                                NaN   \n",
       "\n",
       "                                             lead_id  \n",
       "0  cd5dc0d9393f3980d11d4ba6f88f8110c2b7a7f7796307...  \n",
       "1  b94693673a5f7178d1b114e4004ad52377d3244dd24a3d...  \n",
       "2  96ea4e2bf04496c044745938c0299c264c3f4ba079e572...  \n",
       "3  1d2b34d8add02a182a4129023766ca4585a8ddced0e5b3...  \n",
       "4  fc10fffd29cfbe93c55158fb47752a7501c211d253468c...  "
      ]
     },
     "execution_count": 195,
     "metadata": {},
     "output_type": "execute_result"
    }
   ],
   "source": [
    "#create dataframe of the columns above\n",
    "df =  df.loc[:,cols]\n",
    "df.head()"
   ]
  },
  {
   "cell_type": "code",
   "execution_count": 196,
   "metadata": {},
   "outputs": [],
   "source": [
    "# replacing the nan values in the columns with the most frequent values of the particular column :-\n",
    "df2 = df.apply(lambda x: x.fillna(x.value_counts().index[0]))"
   ]
  },
  {
   "cell_type": "code",
   "execution_count": 197,
   "metadata": {},
   "outputs": [
    {
     "data": {
      "text/html": [
       "<div>\n",
       "<style scoped>\n",
       "    .dataframe tbody tr th:only-of-type {\n",
       "        vertical-align: middle;\n",
       "    }\n",
       "\n",
       "    .dataframe tbody tr th {\n",
       "        vertical-align: top;\n",
       "    }\n",
       "\n",
       "    .dataframe thead th {\n",
       "        text-align: right;\n",
       "    }\n",
       "</style>\n",
       "<table border=\"1\" class=\"dataframe\">\n",
       "  <thead>\n",
       "    <tr style=\"text-align: right;\">\n",
       "      <th></th>\n",
       "      <th>Unnamed: 0</th>\n",
       "      <th>Agent_id</th>\n",
       "      <th>status</th>\n",
       "      <th>lost_reason</th>\n",
       "      <th>budget</th>\n",
       "      <th>lease</th>\n",
       "      <th>utm_source</th>\n",
       "      <th>utm_medium</th>\n",
       "      <th>des_city</th>\n",
       "      <th>des_country</th>\n",
       "      <th>lead_id</th>\n",
       "    </tr>\n",
       "  </thead>\n",
       "  <tbody>\n",
       "    <tr>\n",
       "      <th>0</th>\n",
       "      <td>0</td>\n",
       "      <td>1deba9e96f404694373de9749ddd1ca8aa7bb823145a6f...</td>\n",
       "      <td>LOST</td>\n",
       "      <td>Not responding</td>\n",
       "      <td>£60 - £120 Per week</td>\n",
       "      <td>Full Year Course Stay 40 - 44 weeks</td>\n",
       "      <td>3d59f7548e1af2151b64135003ce63c0a484c26b9b8b16...</td>\n",
       "      <td>268ad70eb5bc4737a2ae28162cbca30118cc94520e49ef...</td>\n",
       "      <td>ecc0e7dc084f141b29479058967d0bc07dee25d9690a98...</td>\n",
       "      <td>8d23a6e37e0a6431a8f1b43a91026dcff51170a89a6512...</td>\n",
       "      <td>cd5dc0d9393f3980d11d4ba6f88f8110c2b7a7f7796307...</td>\n",
       "    </tr>\n",
       "    <tr>\n",
       "      <th>1</th>\n",
       "      <td>1</td>\n",
       "      <td>299ae77a4ef350ae0dd37d6bba1c002d03444fb1edb236...</td>\n",
       "      <td>LOST</td>\n",
       "      <td>Low budget</td>\n",
       "      <td>£60 - £120 Per week</td>\n",
       "      <td>Full Year Course Stay 40 - 44 weeks</td>\n",
       "      <td>3d59f7548e1af2151b64135003ce63c0a484c26b9b8b16...</td>\n",
       "      <td>268ad70eb5bc4737a2ae28162cbca30118cc94520e49ef...</td>\n",
       "      <td>5372372f3bf5896820cb2819300c3e681820d82c6efc54...</td>\n",
       "      <td>8d23a6e37e0a6431a8f1b43a91026dcff51170a89a6512...</td>\n",
       "      <td>b94693673a5f7178d1b114e4004ad52377d3244dd24a3d...</td>\n",
       "    </tr>\n",
       "    <tr>\n",
       "      <th>2</th>\n",
       "      <td>2</td>\n",
       "      <td>c213697430c006013012dd2aca82dd9732aa0a1a6bca13...</td>\n",
       "      <td>LOST</td>\n",
       "      <td>Not responding</td>\n",
       "      <td>£121 - £180 Per Week</td>\n",
       "      <td>Full Year Course Stay 40 - 44 weeks</td>\n",
       "      <td>bbdefa2950f49882f295b1285d4fa9dec45fc4144bfb07...</td>\n",
       "      <td>09076eb7665d1fb9389c7c4517fee0b00e43092eb34821...</td>\n",
       "      <td>11ab03a1a8c367191355c152f39fe28cae5e426fce49ef...</td>\n",
       "      <td>8d23a6e37e0a6431a8f1b43a91026dcff51170a89a6512...</td>\n",
       "      <td>96ea4e2bf04496c044745938c0299c264c3f4ba079e572...</td>\n",
       "    </tr>\n",
       "    <tr>\n",
       "      <th>3</th>\n",
       "      <td>3</td>\n",
       "      <td>eac9815a500f908736d303e23aa227f0957177b0e6756b...</td>\n",
       "      <td>LOST</td>\n",
       "      <td>Low budget</td>\n",
       "      <td>0-0</td>\n",
       "      <td>0</td>\n",
       "      <td>bbdefa2950f49882f295b1285d4fa9dec45fc4144bfb07...</td>\n",
       "      <td>09076eb7665d1fb9389c7c4517fee0b00e43092eb34821...</td>\n",
       "      <td>19372fa44c57a01c37a5a8418779ca3d99b0b59731fb35...</td>\n",
       "      <td>8d23a6e37e0a6431a8f1b43a91026dcff51170a89a6512...</td>\n",
       "      <td>1d2b34d8add02a182a4129023766ca4585a8ddced0e5b3...</td>\n",
       "    </tr>\n",
       "    <tr>\n",
       "      <th>4</th>\n",
       "      <td>4</td>\n",
       "      <td>1deba9e96f404694373de9749ddd1ca8aa7bb823145a6f...</td>\n",
       "      <td>LOST</td>\n",
       "      <td>Junk lead</td>\n",
       "      <td>£60 - £120 Per week</td>\n",
       "      <td>Full Year Course Stay 40 - 44 weeks</td>\n",
       "      <td>3d59f7548e1af2151b64135003ce63c0a484c26b9b8b16...</td>\n",
       "      <td>268ad70eb5bc4737a2ae28162cbca30118cc94520e49ef...</td>\n",
       "      <td>ecc0e7dc084f141b29479058967d0bc07dee25d9690a98...</td>\n",
       "      <td>8d23a6e37e0a6431a8f1b43a91026dcff51170a89a6512...</td>\n",
       "      <td>fc10fffd29cfbe93c55158fb47752a7501c211d253468c...</td>\n",
       "    </tr>\n",
       "  </tbody>\n",
       "</table>\n",
       "</div>"
      ],
      "text/plain": [
       "   Unnamed: 0                                           Agent_id status  \\\n",
       "0           0  1deba9e96f404694373de9749ddd1ca8aa7bb823145a6f...   LOST   \n",
       "1           1  299ae77a4ef350ae0dd37d6bba1c002d03444fb1edb236...   LOST   \n",
       "2           2  c213697430c006013012dd2aca82dd9732aa0a1a6bca13...   LOST   \n",
       "3           3  eac9815a500f908736d303e23aa227f0957177b0e6756b...   LOST   \n",
       "4           4  1deba9e96f404694373de9749ddd1ca8aa7bb823145a6f...   LOST   \n",
       "\n",
       "      lost_reason                budget                                lease  \\\n",
       "0  Not responding   £60 - £120 Per week  Full Year Course Stay 40 - 44 weeks   \n",
       "1      Low budget   £60 - £120 Per week  Full Year Course Stay 40 - 44 weeks   \n",
       "2  Not responding  £121 - £180 Per Week  Full Year Course Stay 40 - 44 weeks   \n",
       "3      Low budget                   0-0                                    0   \n",
       "4       Junk lead   £60 - £120 Per week  Full Year Course Stay 40 - 44 weeks   \n",
       "\n",
       "                                          utm_source  \\\n",
       "0  3d59f7548e1af2151b64135003ce63c0a484c26b9b8b16...   \n",
       "1  3d59f7548e1af2151b64135003ce63c0a484c26b9b8b16...   \n",
       "2  bbdefa2950f49882f295b1285d4fa9dec45fc4144bfb07...   \n",
       "3  bbdefa2950f49882f295b1285d4fa9dec45fc4144bfb07...   \n",
       "4  3d59f7548e1af2151b64135003ce63c0a484c26b9b8b16...   \n",
       "\n",
       "                                          utm_medium  \\\n",
       "0  268ad70eb5bc4737a2ae28162cbca30118cc94520e49ef...   \n",
       "1  268ad70eb5bc4737a2ae28162cbca30118cc94520e49ef...   \n",
       "2  09076eb7665d1fb9389c7c4517fee0b00e43092eb34821...   \n",
       "3  09076eb7665d1fb9389c7c4517fee0b00e43092eb34821...   \n",
       "4  268ad70eb5bc4737a2ae28162cbca30118cc94520e49ef...   \n",
       "\n",
       "                                            des_city  \\\n",
       "0  ecc0e7dc084f141b29479058967d0bc07dee25d9690a98...   \n",
       "1  5372372f3bf5896820cb2819300c3e681820d82c6efc54...   \n",
       "2  11ab03a1a8c367191355c152f39fe28cae5e426fce49ef...   \n",
       "3  19372fa44c57a01c37a5a8418779ca3d99b0b59731fb35...   \n",
       "4  ecc0e7dc084f141b29479058967d0bc07dee25d9690a98...   \n",
       "\n",
       "                                         des_country  \\\n",
       "0  8d23a6e37e0a6431a8f1b43a91026dcff51170a89a6512...   \n",
       "1  8d23a6e37e0a6431a8f1b43a91026dcff51170a89a6512...   \n",
       "2  8d23a6e37e0a6431a8f1b43a91026dcff51170a89a6512...   \n",
       "3  8d23a6e37e0a6431a8f1b43a91026dcff51170a89a6512...   \n",
       "4  8d23a6e37e0a6431a8f1b43a91026dcff51170a89a6512...   \n",
       "\n",
       "                                             lead_id  \n",
       "0  cd5dc0d9393f3980d11d4ba6f88f8110c2b7a7f7796307...  \n",
       "1  b94693673a5f7178d1b114e4004ad52377d3244dd24a3d...  \n",
       "2  96ea4e2bf04496c044745938c0299c264c3f4ba079e572...  \n",
       "3  1d2b34d8add02a182a4129023766ca4585a8ddced0e5b3...  \n",
       "4  fc10fffd29cfbe93c55158fb47752a7501c211d253468c...  "
      ]
     },
     "execution_count": 197,
     "metadata": {},
     "output_type": "execute_result"
    }
   ],
   "source": [
    "df2.head()"
   ]
  },
  {
   "cell_type": "code",
   "execution_count": 198,
   "metadata": {},
   "outputs": [],
   "source": [
    "#Dropping column with less importance\n",
    "df2 = df2.drop(['Unnamed: 0','Agent_id','lead_id'],axis = 1)\n",
    "# df2.drop(labels=df2.columns[-1],axis=1,inplace=True)\n",
    "# df2.drop(labels=df2.columns[0],axis=1,inplace=True)"
   ]
  },
  {
   "cell_type": "code",
   "execution_count": 199,
   "metadata": {},
   "outputs": [
    {
     "data": {
      "text/html": [
       "<div>\n",
       "<style scoped>\n",
       "    .dataframe tbody tr th:only-of-type {\n",
       "        vertical-align: middle;\n",
       "    }\n",
       "\n",
       "    .dataframe tbody tr th {\n",
       "        vertical-align: top;\n",
       "    }\n",
       "\n",
       "    .dataframe thead th {\n",
       "        text-align: right;\n",
       "    }\n",
       "</style>\n",
       "<table border=\"1\" class=\"dataframe\">\n",
       "  <thead>\n",
       "    <tr style=\"text-align: right;\">\n",
       "      <th></th>\n",
       "      <th>status</th>\n",
       "      <th>lost_reason</th>\n",
       "      <th>budget</th>\n",
       "      <th>lease</th>\n",
       "      <th>utm_source</th>\n",
       "      <th>utm_medium</th>\n",
       "      <th>des_city</th>\n",
       "      <th>des_country</th>\n",
       "    </tr>\n",
       "  </thead>\n",
       "  <tbody>\n",
       "    <tr>\n",
       "      <th>0</th>\n",
       "      <td>LOST</td>\n",
       "      <td>Not responding</td>\n",
       "      <td>£60 - £120 Per week</td>\n",
       "      <td>Full Year Course Stay 40 - 44 weeks</td>\n",
       "      <td>3d59f7548e1af2151b64135003ce63c0a484c26b9b8b16...</td>\n",
       "      <td>268ad70eb5bc4737a2ae28162cbca30118cc94520e49ef...</td>\n",
       "      <td>ecc0e7dc084f141b29479058967d0bc07dee25d9690a98...</td>\n",
       "      <td>8d23a6e37e0a6431a8f1b43a91026dcff51170a89a6512...</td>\n",
       "    </tr>\n",
       "    <tr>\n",
       "      <th>1</th>\n",
       "      <td>LOST</td>\n",
       "      <td>Low budget</td>\n",
       "      <td>£60 - £120 Per week</td>\n",
       "      <td>Full Year Course Stay 40 - 44 weeks</td>\n",
       "      <td>3d59f7548e1af2151b64135003ce63c0a484c26b9b8b16...</td>\n",
       "      <td>268ad70eb5bc4737a2ae28162cbca30118cc94520e49ef...</td>\n",
       "      <td>5372372f3bf5896820cb2819300c3e681820d82c6efc54...</td>\n",
       "      <td>8d23a6e37e0a6431a8f1b43a91026dcff51170a89a6512...</td>\n",
       "    </tr>\n",
       "    <tr>\n",
       "      <th>2</th>\n",
       "      <td>LOST</td>\n",
       "      <td>Not responding</td>\n",
       "      <td>£121 - £180 Per Week</td>\n",
       "      <td>Full Year Course Stay 40 - 44 weeks</td>\n",
       "      <td>bbdefa2950f49882f295b1285d4fa9dec45fc4144bfb07...</td>\n",
       "      <td>09076eb7665d1fb9389c7c4517fee0b00e43092eb34821...</td>\n",
       "      <td>11ab03a1a8c367191355c152f39fe28cae5e426fce49ef...</td>\n",
       "      <td>8d23a6e37e0a6431a8f1b43a91026dcff51170a89a6512...</td>\n",
       "    </tr>\n",
       "    <tr>\n",
       "      <th>3</th>\n",
       "      <td>LOST</td>\n",
       "      <td>Low budget</td>\n",
       "      <td>0-0</td>\n",
       "      <td>0</td>\n",
       "      <td>bbdefa2950f49882f295b1285d4fa9dec45fc4144bfb07...</td>\n",
       "      <td>09076eb7665d1fb9389c7c4517fee0b00e43092eb34821...</td>\n",
       "      <td>19372fa44c57a01c37a5a8418779ca3d99b0b59731fb35...</td>\n",
       "      <td>8d23a6e37e0a6431a8f1b43a91026dcff51170a89a6512...</td>\n",
       "    </tr>\n",
       "    <tr>\n",
       "      <th>4</th>\n",
       "      <td>LOST</td>\n",
       "      <td>Junk lead</td>\n",
       "      <td>£60 - £120 Per week</td>\n",
       "      <td>Full Year Course Stay 40 - 44 weeks</td>\n",
       "      <td>3d59f7548e1af2151b64135003ce63c0a484c26b9b8b16...</td>\n",
       "      <td>268ad70eb5bc4737a2ae28162cbca30118cc94520e49ef...</td>\n",
       "      <td>ecc0e7dc084f141b29479058967d0bc07dee25d9690a98...</td>\n",
       "      <td>8d23a6e37e0a6431a8f1b43a91026dcff51170a89a6512...</td>\n",
       "    </tr>\n",
       "    <tr>\n",
       "      <th>...</th>\n",
       "      <td>...</td>\n",
       "      <td>...</td>\n",
       "      <td>...</td>\n",
       "      <td>...</td>\n",
       "      <td>...</td>\n",
       "      <td>...</td>\n",
       "      <td>...</td>\n",
       "      <td>...</td>\n",
       "    </tr>\n",
       "    <tr>\n",
       "      <th>46603</th>\n",
       "      <td>LOST</td>\n",
       "      <td>Low availability</td>\n",
       "      <td>£60 - £120 Per week</td>\n",
       "      <td>Complete Education Year Stay 50 - 52 weeks</td>\n",
       "      <td>bbdefa2950f49882f295b1285d4fa9dec45fc4144bfb07...</td>\n",
       "      <td>09076eb7665d1fb9389c7c4517fee0b00e43092eb34821...</td>\n",
       "      <td>13d4b96b6ee361b737e22404aeecca45f322ba7d4c2c42...</td>\n",
       "      <td>8d23a6e37e0a6431a8f1b43a91026dcff51170a89a6512...</td>\n",
       "    </tr>\n",
       "    <tr>\n",
       "      <th>46604</th>\n",
       "      <td>LOST</td>\n",
       "      <td>Semester stay</td>\n",
       "      <td>£60 - £120 Per week</td>\n",
       "      <td>Summer/Short Stay 8 - 12 weeks</td>\n",
       "      <td>bbdefa2950f49882f295b1285d4fa9dec45fc4144bfb07...</td>\n",
       "      <td>09076eb7665d1fb9389c7c4517fee0b00e43092eb34821...</td>\n",
       "      <td>998c18dc0e513ab0035c7b858e3780bbbead88695a15de...</td>\n",
       "      <td>8d23a6e37e0a6431a8f1b43a91026dcff51170a89a6512...</td>\n",
       "    </tr>\n",
       "    <tr>\n",
       "      <th>46605</th>\n",
       "      <td>LOST</td>\n",
       "      <td>Low availability</td>\n",
       "      <td>£241 - £300 Per week</td>\n",
       "      <td>Full Year Course Stay 40 - 44 weeks</td>\n",
       "      <td>bbdefa2950f49882f295b1285d4fa9dec45fc4144bfb07...</td>\n",
       "      <td>09076eb7665d1fb9389c7c4517fee0b00e43092eb34821...</td>\n",
       "      <td>ecc0e7dc084f141b29479058967d0bc07dee25d9690a98...</td>\n",
       "      <td>8d23a6e37e0a6431a8f1b43a91026dcff51170a89a6512...</td>\n",
       "    </tr>\n",
       "    <tr>\n",
       "      <th>46606</th>\n",
       "      <td>LOST</td>\n",
       "      <td>Low availability</td>\n",
       "      <td>1108</td>\n",
       "      <td>294</td>\n",
       "      <td>7f3fa48ca885678134842fa7456f3ece53a97f843b6101...</td>\n",
       "      <td>abb8e2badd5b6265c3237170cc599257a4f566706715d2...</td>\n",
       "      <td>ecc0e7dc084f141b29479058967d0bc07dee25d9690a98...</td>\n",
       "      <td>8d23a6e37e0a6431a8f1b43a91026dcff51170a89a6512...</td>\n",
       "    </tr>\n",
       "    <tr>\n",
       "      <th>46607</th>\n",
       "      <td>LOST</td>\n",
       "      <td>Low availability</td>\n",
       "      <td>£181 - £240 Per Week</td>\n",
       "      <td>Full Year Course Stay 40 - 44 weeks</td>\n",
       "      <td>bbdefa2950f49882f295b1285d4fa9dec45fc4144bfb07...</td>\n",
       "      <td>09076eb7665d1fb9389c7c4517fee0b00e43092eb34821...</td>\n",
       "      <td>618738f7143c9b43a98a6b42d743a6595069a9b4dcf42d...</td>\n",
       "      <td>8d23a6e37e0a6431a8f1b43a91026dcff51170a89a6512...</td>\n",
       "    </tr>\n",
       "  </tbody>\n",
       "</table>\n",
       "<p>46317 rows × 8 columns</p>\n",
       "</div>"
      ],
      "text/plain": [
       "      status       lost_reason                budget  \\\n",
       "0       LOST    Not responding   £60 - £120 Per week   \n",
       "1       LOST        Low budget   £60 - £120 Per week   \n",
       "2       LOST    Not responding  £121 - £180 Per Week   \n",
       "3       LOST        Low budget                   0-0   \n",
       "4       LOST         Junk lead   £60 - £120 Per week   \n",
       "...      ...               ...                   ...   \n",
       "46603   LOST  Low availability   £60 - £120 Per week   \n",
       "46604   LOST     Semester stay   £60 - £120 Per week   \n",
       "46605   LOST  Low availability  £241 - £300 Per week   \n",
       "46606   LOST  Low availability                  1108   \n",
       "46607   LOST  Low availability  £181 - £240 Per Week   \n",
       "\n",
       "                                            lease  \\\n",
       "0             Full Year Course Stay 40 - 44 weeks   \n",
       "1             Full Year Course Stay 40 - 44 weeks   \n",
       "2             Full Year Course Stay 40 - 44 weeks   \n",
       "3                                               0   \n",
       "4             Full Year Course Stay 40 - 44 weeks   \n",
       "...                                           ...   \n",
       "46603  Complete Education Year Stay 50 - 52 weeks   \n",
       "46604              Summer/Short Stay 8 - 12 weeks   \n",
       "46605         Full Year Course Stay 40 - 44 weeks   \n",
       "46606                                         294   \n",
       "46607         Full Year Course Stay 40 - 44 weeks   \n",
       "\n",
       "                                              utm_source  \\\n",
       "0      3d59f7548e1af2151b64135003ce63c0a484c26b9b8b16...   \n",
       "1      3d59f7548e1af2151b64135003ce63c0a484c26b9b8b16...   \n",
       "2      bbdefa2950f49882f295b1285d4fa9dec45fc4144bfb07...   \n",
       "3      bbdefa2950f49882f295b1285d4fa9dec45fc4144bfb07...   \n",
       "4      3d59f7548e1af2151b64135003ce63c0a484c26b9b8b16...   \n",
       "...                                                  ...   \n",
       "46603  bbdefa2950f49882f295b1285d4fa9dec45fc4144bfb07...   \n",
       "46604  bbdefa2950f49882f295b1285d4fa9dec45fc4144bfb07...   \n",
       "46605  bbdefa2950f49882f295b1285d4fa9dec45fc4144bfb07...   \n",
       "46606  7f3fa48ca885678134842fa7456f3ece53a97f843b6101...   \n",
       "46607  bbdefa2950f49882f295b1285d4fa9dec45fc4144bfb07...   \n",
       "\n",
       "                                              utm_medium  \\\n",
       "0      268ad70eb5bc4737a2ae28162cbca30118cc94520e49ef...   \n",
       "1      268ad70eb5bc4737a2ae28162cbca30118cc94520e49ef...   \n",
       "2      09076eb7665d1fb9389c7c4517fee0b00e43092eb34821...   \n",
       "3      09076eb7665d1fb9389c7c4517fee0b00e43092eb34821...   \n",
       "4      268ad70eb5bc4737a2ae28162cbca30118cc94520e49ef...   \n",
       "...                                                  ...   \n",
       "46603  09076eb7665d1fb9389c7c4517fee0b00e43092eb34821...   \n",
       "46604  09076eb7665d1fb9389c7c4517fee0b00e43092eb34821...   \n",
       "46605  09076eb7665d1fb9389c7c4517fee0b00e43092eb34821...   \n",
       "46606  abb8e2badd5b6265c3237170cc599257a4f566706715d2...   \n",
       "46607  09076eb7665d1fb9389c7c4517fee0b00e43092eb34821...   \n",
       "\n",
       "                                                des_city  \\\n",
       "0      ecc0e7dc084f141b29479058967d0bc07dee25d9690a98...   \n",
       "1      5372372f3bf5896820cb2819300c3e681820d82c6efc54...   \n",
       "2      11ab03a1a8c367191355c152f39fe28cae5e426fce49ef...   \n",
       "3      19372fa44c57a01c37a5a8418779ca3d99b0b59731fb35...   \n",
       "4      ecc0e7dc084f141b29479058967d0bc07dee25d9690a98...   \n",
       "...                                                  ...   \n",
       "46603  13d4b96b6ee361b737e22404aeecca45f322ba7d4c2c42...   \n",
       "46604  998c18dc0e513ab0035c7b858e3780bbbead88695a15de...   \n",
       "46605  ecc0e7dc084f141b29479058967d0bc07dee25d9690a98...   \n",
       "46606  ecc0e7dc084f141b29479058967d0bc07dee25d9690a98...   \n",
       "46607  618738f7143c9b43a98a6b42d743a6595069a9b4dcf42d...   \n",
       "\n",
       "                                             des_country  \n",
       "0      8d23a6e37e0a6431a8f1b43a91026dcff51170a89a6512...  \n",
       "1      8d23a6e37e0a6431a8f1b43a91026dcff51170a89a6512...  \n",
       "2      8d23a6e37e0a6431a8f1b43a91026dcff51170a89a6512...  \n",
       "3      8d23a6e37e0a6431a8f1b43a91026dcff51170a89a6512...  \n",
       "4      8d23a6e37e0a6431a8f1b43a91026dcff51170a89a6512...  \n",
       "...                                                  ...  \n",
       "46603  8d23a6e37e0a6431a8f1b43a91026dcff51170a89a6512...  \n",
       "46604  8d23a6e37e0a6431a8f1b43a91026dcff51170a89a6512...  \n",
       "46605  8d23a6e37e0a6431a8f1b43a91026dcff51170a89a6512...  \n",
       "46606  8d23a6e37e0a6431a8f1b43a91026dcff51170a89a6512...  \n",
       "46607  8d23a6e37e0a6431a8f1b43a91026dcff51170a89a6512...  \n",
       "\n",
       "[46317 rows x 8 columns]"
      ]
     },
     "execution_count": 199,
     "metadata": {},
     "output_type": "execute_result"
    }
   ],
   "source": [
    "df2"
   ]
  },
  {
   "cell_type": "code",
   "execution_count": 200,
   "metadata": {},
   "outputs": [
    {
     "data": {
      "text/plain": [
       "status         0\n",
       "lost_reason    0\n",
       "budget         0\n",
       "lease          0\n",
       "utm_source     0\n",
       "utm_medium     0\n",
       "des_city       0\n",
       "des_country    0\n",
       "dtype: int64"
      ]
     },
     "execution_count": 200,
     "metadata": {},
     "output_type": "execute_result"
    }
   ],
   "source": [
    "#Again checking for null values\n",
    "df2.isna().sum()"
   ]
  },
  {
   "cell_type": "code",
   "execution_count": 201,
   "metadata": {},
   "outputs": [
    {
     "name": "stdout",
     "output_type": "stream",
     "text": [
      "status  =  2\n",
      "lost_reason  =  30\n",
      "budget  =  1851\n",
      "lease  =  311\n",
      "utm_source  =  34\n",
      "utm_medium  =  63\n",
      "des_city  =  219\n",
      "des_country  =  14\n"
     ]
    }
   ],
   "source": [
    "# finding the number of unique values of the column :-\n",
    "for col in df2.columns:\n",
    "\n",
    "  print(col ,\" = \",len(df2[col].unique()))"
   ]
  },
  {
   "cell_type": "code",
   "execution_count": 202,
   "metadata": {},
   "outputs": [
    {
     "data": {
      "text/plain": [
       "array([nan, 'Full Year Course Stay 40 - 44 weeks', '0', 'semester-stay',\n",
       "       '51', 'Semester Stay 20 - 24 weeks',\n",
       "       'Complete Education Year Stay 50 - 52 weeks', 'full-course-stay',\n",
       "       'full-year-stay', 'Other', '51 weeks', '44', '18',\n",
       "       'full year stay', '51weeks', 'Summer/Short Stay 8 - 12 weeks',\n",
       "       '51 weeks \\\\', 'other', 'short-stay', '52 weeks', '44 weeks', '12',\n",
       "       '1 year', '96', '43', '20', '294', '20 - 24 weeks', '1 year .',\n",
       "       '48', '40', 'N51', '6', 'Academic year', '8', '51Weeks',\n",
       "       '50 weeks', '84', '15 weeks', 'full course', '45', '39', '1',\n",
       "       '5 weeks', '50', '12-24', '25', '45 weeks', '19', '44-51',\n",
       "       '6 weeks', 'FULL YEAR', '24-36', '32', '44/week', '42', '3 month',\n",
       "       '44-51 weeks', '3 months', '24', '6 months', '2 years', '10', '52',\n",
       "       '2 weeks', '46', 'sem stay', '13', 'lease', 'short stay', '4',\n",
       "       '52weeks', '69', '16', '50 - 52 weeks', '44 - 51 weeks',\n",
       "       '4-8 weeks', '4 weeks', '3', 'Full year stay', '11', '10-15 weeks',\n",
       "       '40-44', '52 weeks]', '26', '40 - 44 weeks', '51\\\\', '51 week',\n",
       "       '36 - 44', '140', 'Sem Stay', '41', '44/51 weeks', '56',\n",
       "       '40 weeks', '1 month', '10 months', '<=8', '44 WEEKS', '21', '2',\n",
       "       '24-44 weeks', '350', '06 months', '47', '12 weeks', '38', '54',\n",
       "       '37', '30', '16 weeks', '4 WEEKS', '15', '22', '17', '44weeks',\n",
       "       '5', 'Full Year Course Stay 51 weeks', '500-550pm', '12m',\n",
       "       '5 months', '14 weeks', '36', 'not sure', '49', '44-52 weeks',\n",
       "       '41 weeks', '45/week', '23', '51 weeks weeks',\n",
       "       'Full Year Course Stay 44- 51 weeks', '24 weeks', '11 months',\n",
       "       'Full Year Stay', '44 week', '10 weeks', '5-6 months',\n",
       "       '40-44 weeks', 'semester stay', 'ASAP', 'academic year',\n",
       "       '42-52 weeks', '2-3 months', '41weeks', '34', '35 weeks',\n",
       "       '8months', '16 week', 'until dec', '1 - 2 months', 'full year',\n",
       "       '51-54weeks', '357', 'Full year', '3 years', '7 days', '4 months',\n",
       "       'long tearm', '55', '56 weeks', '207', '35', '14',\n",
       "       'Stay 50 - 52 weeks', '1 year stay.', '30 weeks', '61', '88',\n",
       "       '1year', '3-4 weeks',\n",
       "       '51 weeks ( I don’t mind travelling over an hour)', '44-51 weeeks',\n",
       "       'N/44', '8 weeks', '38 Weeks', '24-48 weeks', '156', '9-12 months',\n",
       "       '6 motnhs', '44WEEKS', '2 -3weeks', '3-4 months', 'Semester stay',\n",
       "       '20weeks', '1 month\\\\', 'aug', '97', '44-51weeks', '76',\n",
       "       '44/weeks', '6 month', '36-40 weeks', '17 weeks', '12 month',\n",
       "       '44 weeks/51 weeks', 'full year stayt', 'Short stay',\n",
       "       '25-30 weeks', '1 week', '31', '125/week', '60', '1-2', '6  onths',\n",
       "       '03 months', '44 - 51', '-', '45 or more', 'Semester Stay', '27',\n",
       "       '46 weeks', '38-44 weeks', 'full yyear stay', '0.5', '8-12 weeks',\n",
       "       '6months', '9', 'London', '28', '46 week', '72', 'Long time',\n",
       "       '51 cweeks', '42 weeks', '12 months', '33', '1 year stay',\n",
       "       '6weeks', '2years', '43 weeks', '6 months (26 weeks)', '20 weeks',\n",
       "       '53 weeks', 'Full Year', '7-8 months', '10 month', 'Glasgow',\n",
       "       '10weeks', '51WEEKS', 'till december', '9 months', '36-38 weeks',\n",
       "       '19 weeks', '40weeks +', '40 week', '250', '39 weeks',\n",
       "       '6-8 months', '6m to 1 year', '44weeks - 51', '130/week',\n",
       "       '51 wweeks', '45 weeksa', '68', '44 or 51 weeks', '51 WEEKS',\n",
       "       '52 WEEKS', '51  weeks', '51sweek', '48 weeks', '44 week stay',\n",
       "       '44week', '43/44 weeks', '130', '29', '58', '3months', '160/week',\n",
       "       'Until June 2023', '34 weeks', 'Whole year', '40 weekks',\n",
       "       '-51 weeks', '12-16', '45 WEEKS', 'Until august', '8-12 m',\n",
       "       '39 week', '16 days', '150', '2 months', '38 weeks', '1-2 months',\n",
       "       'Full time', '1 weeks', '44-', '2 month', '3-5 months', '3 weeks',\n",
       "       '143', '144', '1 YEAR', '44 week s', '57', '40+', '129', '42-51',\n",
       "       'Sem stay', '70', '189', '5-6 weeks', 'academic yr',\n",
       "       '12 weeks max', '23 weeks', '89', '1 mnth', '200/week', '22 weeks',\n",
       "       '51 Weeks', '24-44weeks', '33 weeks', '78'], dtype=object)"
      ]
     },
     "execution_count": 202,
     "metadata": {},
     "output_type": "execute_result"
    }
   ],
   "source": [
    "# Unique catagorical values of the lease\n",
    "df['lease'].unique()"
   ]
  },
  {
   "cell_type": "code",
   "execution_count": 203,
   "metadata": {},
   "outputs": [],
   "source": [
    "#The are similar unique values,but mentioned different due to spelling mistakes.Correct the spelling mistakes  :-\n",
    "import re\n",
    "\n",
    "def correct_spelling(text):\n",
    "    # replace \"sem\" or \"semester\" with \"semester\"\n",
    "    text = re.sub(r'\\b(sem(?:ester)?)\\b', 'semester', text, flags=re.IGNORECASE)\n",
    "    # replace \"stay\" or \"stya\" with \"stay\"\n",
    "    text = re.sub(r'\\bstay(?:a)?\\b', 'stay', text, flags=re.IGNORECASE)\n",
    "    # replace \"full\" with \"full\"\n",
    "    text = re.sub(r'\\b(full)\\b', 'full', text, flags=re.IGNORECASE)\n",
    "    # replace \"year\" or \"yyear\" with \"year\"\n",
    "    text = re.sub(r'\\b(y(?:ea)?r)\\b', 'year', text, flags=re.IGNORECASE)\n",
    "    # replace \"short\" or \"shotr\" with \"short\"\n",
    "    text = re.sub(r'\\b(sh(?:or)?t)\\b', 'short', text, flags=re.IGNORECASE)\n",
    "    # replace \"week\" or \"weeeks\" with \"week\"\n",
    "    text = re.sub(r'\\b(week(?:s)?)\\b', 'week', text, flags=re.IGNORECASE)\n",
    "    text = re.sub(r'\\b(\\d+\\s*weeks?)\\b', 'week', text, flags=re.IGNORECASE)\n",
    "    # replace \"month\" or \"motnhs\" with \"month\"\n",
    "    text = re.sub(r'\\b(month(?:s)?)\\b', 'month', text, flags=re.IGNORECASE)\n",
    "    # replace \"long\" or \"tearm\" with \"long term\"\n",
    "    text = re.sub(r'\\blong\\b|\\btearm\\b', 'long term', text, flags=re.IGNORECASE)\n",
    "    # replace \"academic\" with \"academic\"\n",
    "    text = re.sub(r'\\b(academic)\\b', 'academic', text, flags=re.IGNORECASE)\n",
    "    return text"
   ]
  },
  {
   "cell_type": "code",
   "execution_count": 204,
   "metadata": {},
   "outputs": [],
   "source": [
    "# correcting the spellings of the lease values :-\n",
    "df2['lease'] = df2['lease'].apply(correct_spelling)"
   ]
  },
  {
   "cell_type": "code",
   "execution_count": 205,
   "metadata": {},
   "outputs": [
    {
     "data": {
      "text/plain": [
       "array([nan, 'Full Year Course Stay 40 - 44 weeks', '0', 'semester-stay',\n",
       "       '51', 'Semester Stay 20 - 24 weeks',\n",
       "       'Complete Education Year Stay 50 - 52 weeks', 'full-course-stay',\n",
       "       'full-year-stay', 'Other', '51 weeks', '44', '18',\n",
       "       'full year stay', '51weeks', 'Summer/Short Stay 8 - 12 weeks',\n",
       "       '51 weeks \\\\', 'other', 'short-stay', '52 weeks', '44 weeks', '12',\n",
       "       '1 year', '96', '43', '20', '294', '20 - 24 weeks', '1 year .',\n",
       "       '48', '40', 'N51', '6', 'Academic year', '8', '51Weeks',\n",
       "       '50 weeks', '84', '15 weeks', 'full course', '45', '39', '1',\n",
       "       '5 weeks', '50', '12-24', '25', '45 weeks', '19', '44-51',\n",
       "       '6 weeks', 'FULL YEAR', '24-36', '32', '44/week', '42', '3 month',\n",
       "       '44-51 weeks', '3 months', '24', '6 months', '2 years', '10', '52',\n",
       "       '2 weeks', '46', 'sem stay', '13', 'lease', 'short stay', '4',\n",
       "       '52weeks', '69', '16', '50 - 52 weeks', '44 - 51 weeks',\n",
       "       '4-8 weeks', '4 weeks', '3', 'Full year stay', '11', '10-15 weeks',\n",
       "       '40-44', '52 weeks]', '26', '40 - 44 weeks', '51\\\\', '51 week',\n",
       "       '36 - 44', '140', 'Sem Stay', '41', '44/51 weeks', '56',\n",
       "       '40 weeks', '1 month', '10 months', '<=8', '44 WEEKS', '21', '2',\n",
       "       '24-44 weeks', '350', '06 months', '47', '12 weeks', '38', '54',\n",
       "       '37', '30', '16 weeks', '4 WEEKS', '15', '22', '17', '44weeks',\n",
       "       '5', 'Full Year Course Stay 51 weeks', '500-550pm', '12m',\n",
       "       '5 months', '14 weeks', '36', 'not sure', '49', '44-52 weeks',\n",
       "       '41 weeks', '45/week', '23', '51 weeks weeks',\n",
       "       'Full Year Course Stay 44- 51 weeks', '24 weeks', '11 months',\n",
       "       'Full Year Stay', '44 week', '10 weeks', '5-6 months',\n",
       "       '40-44 weeks', 'semester stay', 'ASAP', 'academic year',\n",
       "       '42-52 weeks', '2-3 months', '41weeks', '34', '35 weeks',\n",
       "       '8months', '16 week', 'until dec', '1 - 2 months', 'full year',\n",
       "       '51-54weeks', '357', 'Full year', '3 years', '7 days', '4 months',\n",
       "       'long tearm', '55', '56 weeks', '207', '35', '14',\n",
       "       'Stay 50 - 52 weeks', '1 year stay.', '30 weeks', '61', '88',\n",
       "       '1year', '3-4 weeks',\n",
       "       '51 weeks ( I don’t mind travelling over an hour)', '44-51 weeeks',\n",
       "       'N/44', '8 weeks', '38 Weeks', '24-48 weeks', '156', '9-12 months',\n",
       "       '6 motnhs', '44WEEKS', '2 -3weeks', '3-4 months', 'Semester stay',\n",
       "       '20weeks', '1 month\\\\', 'aug', '97', '44-51weeks', '76',\n",
       "       '44/weeks', '6 month', '36-40 weeks', '17 weeks', '12 month',\n",
       "       '44 weeks/51 weeks', 'full year stayt', 'Short stay',\n",
       "       '25-30 weeks', '1 week', '31', '125/week', '60', '1-2', '6  onths',\n",
       "       '03 months', '44 - 51', '-', '45 or more', 'Semester Stay', '27',\n",
       "       '46 weeks', '38-44 weeks', 'full yyear stay', '0.5', '8-12 weeks',\n",
       "       '6months', '9', 'London', '28', '46 week', '72', 'Long time',\n",
       "       '51 cweeks', '42 weeks', '12 months', '33', '1 year stay',\n",
       "       '6weeks', '2years', '43 weeks', '6 months (26 weeks)', '20 weeks',\n",
       "       '53 weeks', 'Full Year', '7-8 months', '10 month', 'Glasgow',\n",
       "       '10weeks', '51WEEKS', 'till december', '9 months', '36-38 weeks',\n",
       "       '19 weeks', '40weeks +', '40 week', '250', '39 weeks',\n",
       "       '6-8 months', '6m to 1 year', '44weeks - 51', '130/week',\n",
       "       '51 wweeks', '45 weeksa', '68', '44 or 51 weeks', '51 WEEKS',\n",
       "       '52 WEEKS', '51  weeks', '51sweek', '48 weeks', '44 week stay',\n",
       "       '44week', '43/44 weeks', '130', '29', '58', '3months', '160/week',\n",
       "       'Until June 2023', '34 weeks', 'Whole year', '40 weekks',\n",
       "       '-51 weeks', '12-16', '45 WEEKS', 'Until august', '8-12 m',\n",
       "       '39 week', '16 days', '150', '2 months', '38 weeks', '1-2 months',\n",
       "       'Full time', '1 weeks', '44-', '2 month', '3-5 months', '3 weeks',\n",
       "       '143', '144', '1 YEAR', '44 week s', '57', '40+', '129', '42-51',\n",
       "       'Sem stay', '70', '189', '5-6 weeks', 'academic yr',\n",
       "       '12 weeks max', '23 weeks', '89', '1 mnth', '200/week', '22 weeks',\n",
       "       '51 Weeks', '24-44weeks', '33 weeks', '78'], dtype=object)"
      ]
     },
     "execution_count": 205,
     "metadata": {},
     "output_type": "execute_result"
    }
   ],
   "source": [
    "df['lease'].unique()"
   ]
  },
  {
   "cell_type": "code",
   "execution_count": 206,
   "metadata": {},
   "outputs": [],
   "source": [
    "def clean_lease(lease_value):\n",
    "\n",
    "  if re.search(pattern=\"^[0-9 ]*-[0-9 ]*(weeks|WEEKS|Weeks|Week|week)$\",string=lease_value):\n",
    "\n",
    "    return lease_value[0:re.search(\"(weeks|WEEKS|Weeks|Week|week)$\",string=lease_value).start()]\n",
    "\n",
    "  elif re.search(pattern=\"^[0-9 ]*-[0-9 ]*(weeks|WEEKS|Weeks|Week|week)*$\",string=lease_value):\n",
    "\n",
    "    return lease_value[re.search(\"[0-9 ]*\",string=lease_value).start():re.search(\"^[0-9 ]*\",string=lease_value).end()]\n",
    "\n",
    "  elif re.search(pattern=\"^[0-9 ]*(weeks|WEEKS|Weeks|Week|week)*$\",string=lease_value):\n",
    "\n",
    "    return lease_value[re.search(\"[0-9 ]*\",string=lease_value).start():re.search(\"(weeks|WEEKS|Weeks|Week|week)*\",string=lease_value).start()]\n",
    "\n",
    "  else:\n",
    "\n",
    "    return lease_value"
   ]
  },
  {
   "cell_type": "code",
   "execution_count": 207,
   "metadata": {},
   "outputs": [
    {
     "data": {
      "text/plain": [
       "223"
      ]
     },
     "execution_count": 207,
     "metadata": {},
     "output_type": "execute_result"
    }
   ],
   "source": [
    "df2.lease.nunique()"
   ]
  },
  {
   "cell_type": "code",
   "execution_count": 208,
   "metadata": {},
   "outputs": [],
   "source": [
    "# Applying regular expression function :-\n",
    "df2['lease'] = df2['lease'].apply(clean_lease)"
   ]
  },
  {
   "cell_type": "code",
   "execution_count": 209,
   "metadata": {},
   "outputs": [
    {
     "data": {
      "text/plain": [
       "array(['£60 - £120 Per week', '£121 - £180 Per Week', '0-0', ...,\n",
       "       '400 Per Week', '0-115 or 120', '0-500 PCM'], dtype=object)"
      ]
     },
     "execution_count": 209,
     "metadata": {},
     "output_type": "execute_result"
    }
   ],
   "source": [
    "df2.budget.unique()"
   ]
  },
  {
   "cell_type": "code",
   "execution_count": 210,
   "metadata": {},
   "outputs": [],
   "source": [
    "#Reduce unique values of budget\n",
    "def calculate_average(data):\n",
    "    if re.match(r'£\\d+ - £\\d+ Per week', data):\n",
    "        # extract the lower and upper bounds using string manipulation\n",
    "        lower_bound = float(data.split('£')[1].split(' - ')[0])\n",
    "        upper_bound = float(data.split('£')[2].split(' ')[0])\n",
    "        # calculate the average\n",
    "        average_price = str((lower_bound + upper_bound) / 2)\n",
    "        return average_price\n",
    "    elif re.match(r'£\\d+ - £\\d+ Per Week', data):\n",
    "        # extract the lower and upper bounds using string manipulation\n",
    "        lower_bound = float(data.split('£')[1].split(' - ')[0])\n",
    "        upper_bound = float(data.split('£')[2].split(' ')[0])\n",
    "        # calculate the average\n",
    "        average_price = str((lower_bound + upper_bound) / 2)\n",
    "        return average_price\n",
    "    else:\n",
    "        return data"
   ]
  },
  {
   "cell_type": "code",
   "execution_count": 211,
   "metadata": {},
   "outputs": [],
   "source": [
    "# apply the function to the column and replace the original strings with the averages\n",
    "df2['budget'] = df2['budget'].apply(calculate_average)"
   ]
  },
  {
   "cell_type": "code",
   "execution_count": 212,
   "metadata": {},
   "outputs": [],
   "source": [
    "# Seperate X and y\n",
    "X= df2.drop(['status'],axis=1)\n",
    "y = df2['status']\n"
   ]
  },
  {
   "cell_type": "code",
   "execution_count": 213,
   "metadata": {},
   "outputs": [],
   "source": [
    "#convert categorical columns to numerical\n",
    "le = LabelEncoder()\n",
    "y = le.fit_transform(y)\n",
    "ohe = OneHotEncoder()\n",
    "X = ohe.fit_transform(X)\n",
    "X = X.toarray()\n",
    "\n"
   ]
  },
  {
   "cell_type": "code",
   "execution_count": 214,
   "metadata": {},
   "outputs": [],
   "source": [
    "# feature scaling\n",
    "scale = StandardScaler()\n",
    "X = scale.fit_transform(X)"
   ]
  },
  {
   "cell_type": "code",
   "execution_count": 215,
   "metadata": {},
   "outputs": [],
   "source": [
    "# Splitting the data into training and testing sets\n",
    "X_train, X_test, y_train, y_test = train_test_split(X,y, test_size=0.3, random_state=42)"
   ]
  },
  {
   "cell_type": "code",
   "execution_count": 223,
   "metadata": {},
   "outputs": [
    {
     "name": "stderr",
     "output_type": "stream",
     "text": [
      "c:\\Users\\Public\\anaconda\\lib\\site-packages\\sklearn\\linear_model\\_logistic.py:444: ConvergenceWarning: lbfgs failed to converge (status=1):\n",
      "STOP: TOTAL NO. of ITERATIONS REACHED LIMIT.\n",
      "\n",
      "Increase the number of iterations (max_iter) or scale the data as shown in:\n",
      "    https://scikit-learn.org/stable/modules/preprocessing.html\n",
      "Please also refer to the documentation for alternative solver options:\n",
      "    https://scikit-learn.org/stable/modules/linear_model.html#logistic-regression\n",
      "  n_iter_i = _check_optimize_result(\n"
     ]
    },
    {
     "data": {
      "text/html": [
       "<style>#sk-container-id-2 {color: black;background-color: white;}#sk-container-id-2 pre{padding: 0;}#sk-container-id-2 div.sk-toggleable {background-color: white;}#sk-container-id-2 label.sk-toggleable__label {cursor: pointer;display: block;width: 100%;margin-bottom: 0;padding: 0.3em;box-sizing: border-box;text-align: center;}#sk-container-id-2 label.sk-toggleable__label-arrow:before {content: \"▸\";float: left;margin-right: 0.25em;color: #696969;}#sk-container-id-2 label.sk-toggleable__label-arrow:hover:before {color: black;}#sk-container-id-2 div.sk-estimator:hover label.sk-toggleable__label-arrow:before {color: black;}#sk-container-id-2 div.sk-toggleable__content {max-height: 0;max-width: 0;overflow: hidden;text-align: left;background-color: #f0f8ff;}#sk-container-id-2 div.sk-toggleable__content pre {margin: 0.2em;color: black;border-radius: 0.25em;background-color: #f0f8ff;}#sk-container-id-2 input.sk-toggleable__control:checked~div.sk-toggleable__content {max-height: 200px;max-width: 100%;overflow: auto;}#sk-container-id-2 input.sk-toggleable__control:checked~label.sk-toggleable__label-arrow:before {content: \"▾\";}#sk-container-id-2 div.sk-estimator input.sk-toggleable__control:checked~label.sk-toggleable__label {background-color: #d4ebff;}#sk-container-id-2 div.sk-label input.sk-toggleable__control:checked~label.sk-toggleable__label {background-color: #d4ebff;}#sk-container-id-2 input.sk-hidden--visually {border: 0;clip: rect(1px 1px 1px 1px);clip: rect(1px, 1px, 1px, 1px);height: 1px;margin: -1px;overflow: hidden;padding: 0;position: absolute;width: 1px;}#sk-container-id-2 div.sk-estimator {font-family: monospace;background-color: #f0f8ff;border: 1px dotted black;border-radius: 0.25em;box-sizing: border-box;margin-bottom: 0.5em;}#sk-container-id-2 div.sk-estimator:hover {background-color: #d4ebff;}#sk-container-id-2 div.sk-parallel-item::after {content: \"\";width: 100%;border-bottom: 1px solid gray;flex-grow: 1;}#sk-container-id-2 div.sk-label:hover label.sk-toggleable__label {background-color: #d4ebff;}#sk-container-id-2 div.sk-serial::before {content: \"\";position: absolute;border-left: 1px solid gray;box-sizing: border-box;top: 0;bottom: 0;left: 50%;z-index: 0;}#sk-container-id-2 div.sk-serial {display: flex;flex-direction: column;align-items: center;background-color: white;padding-right: 0.2em;padding-left: 0.2em;position: relative;}#sk-container-id-2 div.sk-item {position: relative;z-index: 1;}#sk-container-id-2 div.sk-parallel {display: flex;align-items: stretch;justify-content: center;background-color: white;position: relative;}#sk-container-id-2 div.sk-item::before, #sk-container-id-2 div.sk-parallel-item::before {content: \"\";position: absolute;border-left: 1px solid gray;box-sizing: border-box;top: 0;bottom: 0;left: 50%;z-index: -1;}#sk-container-id-2 div.sk-parallel-item {display: flex;flex-direction: column;z-index: 1;position: relative;background-color: white;}#sk-container-id-2 div.sk-parallel-item:first-child::after {align-self: flex-end;width: 50%;}#sk-container-id-2 div.sk-parallel-item:last-child::after {align-self: flex-start;width: 50%;}#sk-container-id-2 div.sk-parallel-item:only-child::after {width: 0;}#sk-container-id-2 div.sk-dashed-wrapped {border: 1px dashed gray;margin: 0 0.4em 0.5em 0.4em;box-sizing: border-box;padding-bottom: 0.4em;background-color: white;}#sk-container-id-2 div.sk-label label {font-family: monospace;font-weight: bold;display: inline-block;line-height: 1.2em;}#sk-container-id-2 div.sk-label-container {text-align: center;}#sk-container-id-2 div.sk-container {/* jupyter's `normalize.less` sets `[hidden] { display: none; }` but bootstrap.min.css set `[hidden] { display: none !important; }` so we also need the `!important` here to be able to override the default hidden behavior on the sphinx rendered scikit-learn.org. See: https://github.com/scikit-learn/scikit-learn/issues/21755 */display: inline-block !important;position: relative;}#sk-container-id-2 div.sk-text-repr-fallback {display: none;}</style><div id=\"sk-container-id-2\" class=\"sk-top-container\"><div class=\"sk-text-repr-fallback\"><pre>LogisticRegression()</pre><b>In a Jupyter environment, please rerun this cell to show the HTML representation or trust the notebook. <br />On GitHub, the HTML representation is unable to render, please try loading this page with nbviewer.org.</b></div><div class=\"sk-container\" hidden><div class=\"sk-item\"><div class=\"sk-estimator sk-toggleable\"><input class=\"sk-toggleable__control sk-hidden--visually\" id=\"sk-estimator-id-2\" type=\"checkbox\" checked><label for=\"sk-estimator-id-2\" class=\"sk-toggleable__label sk-toggleable__label-arrow\">LogisticRegression</label><div class=\"sk-toggleable__content\"><pre>LogisticRegression()</pre></div></div></div></div></div>"
      ],
      "text/plain": [
       "LogisticRegression()"
      ]
     },
     "execution_count": 223,
     "metadata": {},
     "output_type": "execute_result"
    }
   ],
   "source": [
    "log =LogisticRegression()\n",
    "log.fit(X_train,y_train)"
   ]
  },
  {
   "cell_type": "code",
   "execution_count": 224,
   "metadata": {},
   "outputs": [],
   "source": [
    "y_pred = log.predict(X_test)"
   ]
  },
  {
   "cell_type": "code",
   "execution_count": 226,
   "metadata": {},
   "outputs": [
    {
     "data": {
      "text/plain": [
       "array([0, 0, 0, ..., 0, 0, 0])"
      ]
     },
     "execution_count": 226,
     "metadata": {},
     "output_type": "execute_result"
    }
   ],
   "source": [
    "y_pred"
   ]
  },
  {
   "cell_type": "code",
   "execution_count": 216,
   "metadata": {},
   "outputs": [
    {
     "data": {
      "text/html": [
       "<style>#sk-container-id-1 {color: black;background-color: white;}#sk-container-id-1 pre{padding: 0;}#sk-container-id-1 div.sk-toggleable {background-color: white;}#sk-container-id-1 label.sk-toggleable__label {cursor: pointer;display: block;width: 100%;margin-bottom: 0;padding: 0.3em;box-sizing: border-box;text-align: center;}#sk-container-id-1 label.sk-toggleable__label-arrow:before {content: \"▸\";float: left;margin-right: 0.25em;color: #696969;}#sk-container-id-1 label.sk-toggleable__label-arrow:hover:before {color: black;}#sk-container-id-1 div.sk-estimator:hover label.sk-toggleable__label-arrow:before {color: black;}#sk-container-id-1 div.sk-toggleable__content {max-height: 0;max-width: 0;overflow: hidden;text-align: left;background-color: #f0f8ff;}#sk-container-id-1 div.sk-toggleable__content pre {margin: 0.2em;color: black;border-radius: 0.25em;background-color: #f0f8ff;}#sk-container-id-1 input.sk-toggleable__control:checked~div.sk-toggleable__content {max-height: 200px;max-width: 100%;overflow: auto;}#sk-container-id-1 input.sk-toggleable__control:checked~label.sk-toggleable__label-arrow:before {content: \"▾\";}#sk-container-id-1 div.sk-estimator input.sk-toggleable__control:checked~label.sk-toggleable__label {background-color: #d4ebff;}#sk-container-id-1 div.sk-label input.sk-toggleable__control:checked~label.sk-toggleable__label {background-color: #d4ebff;}#sk-container-id-1 input.sk-hidden--visually {border: 0;clip: rect(1px 1px 1px 1px);clip: rect(1px, 1px, 1px, 1px);height: 1px;margin: -1px;overflow: hidden;padding: 0;position: absolute;width: 1px;}#sk-container-id-1 div.sk-estimator {font-family: monospace;background-color: #f0f8ff;border: 1px dotted black;border-radius: 0.25em;box-sizing: border-box;margin-bottom: 0.5em;}#sk-container-id-1 div.sk-estimator:hover {background-color: #d4ebff;}#sk-container-id-1 div.sk-parallel-item::after {content: \"\";width: 100%;border-bottom: 1px solid gray;flex-grow: 1;}#sk-container-id-1 div.sk-label:hover label.sk-toggleable__label {background-color: #d4ebff;}#sk-container-id-1 div.sk-serial::before {content: \"\";position: absolute;border-left: 1px solid gray;box-sizing: border-box;top: 0;bottom: 0;left: 50%;z-index: 0;}#sk-container-id-1 div.sk-serial {display: flex;flex-direction: column;align-items: center;background-color: white;padding-right: 0.2em;padding-left: 0.2em;position: relative;}#sk-container-id-1 div.sk-item {position: relative;z-index: 1;}#sk-container-id-1 div.sk-parallel {display: flex;align-items: stretch;justify-content: center;background-color: white;position: relative;}#sk-container-id-1 div.sk-item::before, #sk-container-id-1 div.sk-parallel-item::before {content: \"\";position: absolute;border-left: 1px solid gray;box-sizing: border-box;top: 0;bottom: 0;left: 50%;z-index: -1;}#sk-container-id-1 div.sk-parallel-item {display: flex;flex-direction: column;z-index: 1;position: relative;background-color: white;}#sk-container-id-1 div.sk-parallel-item:first-child::after {align-self: flex-end;width: 50%;}#sk-container-id-1 div.sk-parallel-item:last-child::after {align-self: flex-start;width: 50%;}#sk-container-id-1 div.sk-parallel-item:only-child::after {width: 0;}#sk-container-id-1 div.sk-dashed-wrapped {border: 1px dashed gray;margin: 0 0.4em 0.5em 0.4em;box-sizing: border-box;padding-bottom: 0.4em;background-color: white;}#sk-container-id-1 div.sk-label label {font-family: monospace;font-weight: bold;display: inline-block;line-height: 1.2em;}#sk-container-id-1 div.sk-label-container {text-align: center;}#sk-container-id-1 div.sk-container {/* jupyter's `normalize.less` sets `[hidden] { display: none; }` but bootstrap.min.css set `[hidden] { display: none !important; }` so we also need the `!important` here to be able to override the default hidden behavior on the sphinx rendered scikit-learn.org. See: https://github.com/scikit-learn/scikit-learn/issues/21755 */display: inline-block !important;position: relative;}#sk-container-id-1 div.sk-text-repr-fallback {display: none;}</style><div id=\"sk-container-id-1\" class=\"sk-top-container\"><div class=\"sk-text-repr-fallback\"><pre>RandomForestRegressor(random_state=42)</pre><b>In a Jupyter environment, please rerun this cell to show the HTML representation or trust the notebook. <br />On GitHub, the HTML representation is unable to render, please try loading this page with nbviewer.org.</b></div><div class=\"sk-container\" hidden><div class=\"sk-item\"><div class=\"sk-estimator sk-toggleable\"><input class=\"sk-toggleable__control sk-hidden--visually\" id=\"sk-estimator-id-1\" type=\"checkbox\" checked><label for=\"sk-estimator-id-1\" class=\"sk-toggleable__label sk-toggleable__label-arrow\">RandomForestRegressor</label><div class=\"sk-toggleable__content\"><pre>RandomForestRegressor(random_state=42)</pre></div></div></div></div></div>"
      ],
      "text/plain": [
       "RandomForestRegressor(random_state=42)"
      ]
     },
     "execution_count": 216,
     "metadata": {},
     "output_type": "execute_result"
    }
   ],
   "source": [
    "# Training a Random Forest Regression model\n",
    "rf = RandomForestRegressor(n_estimators=100, random_state=42)\n",
    "rf.fit(X_train, y_train)\n"
   ]
  },
  {
   "cell_type": "code",
   "execution_count": 217,
   "metadata": {},
   "outputs": [],
   "source": [
    "# Predicting on the testing set\n",
    "y_pred = rf.predict(X_test)"
   ]
  },
  {
   "cell_type": "code",
   "execution_count": 219,
   "metadata": {},
   "outputs": [
    {
     "data": {
      "text/plain": [
       "array([0., 0., 0., ..., 0., 0., 0.])"
      ]
     },
     "execution_count": 219,
     "metadata": {},
     "output_type": "execute_result"
    }
   ],
   "source": [
    "y_pred"
   ]
  },
  {
   "cell_type": "code",
   "execution_count": 227,
   "metadata": {},
   "outputs": [
    {
     "name": "stdout",
     "output_type": "stream",
     "text": [
      "              precision    recall  f1-score   support\n",
      "\n",
      "           0       0.99      0.99      0.99     12993\n",
      "           1       0.83      0.89      0.86       903\n",
      "\n",
      "    accuracy                           0.98     13896\n",
      "   macro avg       0.91      0.94      0.92     13896\n",
      "weighted avg       0.98      0.98      0.98     13896\n",
      "\n"
     ]
    }
   ],
   "source": [
    "# full classification report of my dataset :-\n",
    "print(classification_report(y_test,y_pred))"
   ]
  },
  {
   "cell_type": "code",
   "execution_count": 228,
   "metadata": {},
   "outputs": [],
   "source": [
    "y_p_c = ['LOST' if x < 0 else 'WON' for x in y_pred]"
   ]
  },
  {
   "cell_type": "code",
   "execution_count": 229,
   "metadata": {},
   "outputs": [
    {
     "name": "stdout",
     "output_type": "stream",
     "text": [
      "['WON', 'WON', 'WON', 'WON', 'WON', 'WON', 'WON', 'WON', 'WON', 'WON', 'WON', 'WON', 'WON', 'WON', 'WON', 'WON', 'WON', 'WON', 'WON', 'WON', 'WON', 'WON', 'WON', 'WON', 'WON', 'WON', 'WON', 'WON', 'WON', 'WON', 'WON', 'WON', 'WON', 'WON', 'WON', 'WON', 'WON', 'WON', 'WON', 'WON', 'WON', 'WON', 'WON', 'WON', 'WON', 'WON', 'WON', 'WON', 'WON', 'WON', 'WON', 'WON', 'WON', 'WON', 'WON', 'WON', 'WON', 'WON', 'WON', 'WON', 'WON', 'WON', 'WON', 'WON', 'WON', 'WON', 'WON', 'WON', 'WON', 'WON', 'WON', 'WON', 'WON', 'WON', 'WON', 'WON', 'WON', 'WON', 'WON', 'WON', 'WON', 'WON', 'WON', 'WON', 'WON', 'WON', 'WON', 'WON', 'WON', 'WON', 'WON', 'WON', 'WON', 'WON', 'WON', 'WON', 'WON', 'WON', 'WON', 'WON', 'WON', 'WON', 'WON', 'WON', 'WON', 'WON', 'WON', 'WON', 'WON', 'WON', 'WON', 'WON', 'WON', 'WON', 'WON', 'WON', 'WON', 'WON', 'WON', 'WON', 'WON', 'WON', 'WON', 'WON', 'WON', 'WON', 'WON', 'WON', 'WON', 'WON', 'WON', 'WON', 'WON', 'WON', 'WON', 'WON', 'WON', 'WON', 'WON', 'WON', 'WON', 'WON', 'WON', 'WON', 'WON', 'WON', 'WON', 'WON', 'WON', 'WON', 'WON', 'WON', 'WON', 'WON', 'WON', 'WON', 'WON', 'WON', 'WON', 'WON', 'WON', 'WON', 'WON', 'WON', 'WON', 'WON', 'WON', 'WON', 'WON', 'WON', 'WON', 'WON', 'WON', 'WON', 'WON', 'WON', 'WON', 'WON', 'WON', 'WON', 'WON', 'WON', 'WON', 'WON', 'WON', 'WON', 'WON', 'WON', 'WON', 'WON', 'WON', 'WON', 'WON', 'WON', 'WON', 'WON', 'WON', 'WON', 'WON', 'WON', 'WON', 'WON', 'WON', 'WON', 'WON', 'WON', 'WON', 'WON', 'WON', 'WON', 'WON', 'WON', 'WON', 'WON', 'WON', 'WON', 'WON', 'WON', 'WON', 'WON', 'WON', 'WON', 'WON', 'WON', 'WON', 'WON', 'WON', 'WON', 'WON', 'WON', 'WON', 'WON', 'WON', 'WON', 'WON', 'WON', 'WON', 'WON', 'WON', 'WON', 'WON', 'WON', 'WON', 'WON', 'WON', 'WON', 'WON', 'WON', 'WON', 'WON', 'WON', 'WON', 'WON', 'WON', 'WON', 'WON', 'WON', 'WON', 'WON', 'WON', 'WON', 'WON', 'WON', 'WON', 'WON', 'WON', 'WON', 'WON', 'WON', 'WON', 'WON', 'WON', 'WON', 'WON', 'WON', 'WON', 'WON', 'WON', 'WON', 'WON', 'WON', 'WON', 'WON', 'WON', 'WON', 'WON', 'WON', 'WON', 'WON', 'WON', 'WON', 'WON', 'WON', 'WON', 'WON', 'WON', 'WON', 'WON', 'WON', 'WON', 'WON', 'WON', 'WON', 'WON', 'WON', 'WON', 'WON', 'WON', 'WON', 'WON', 'WON', 'WON', 'WON', 'WON', 'WON', 'WON', 'WON', 'WON', 'WON', 'WON', 'WON', 'WON', 'WON', 'WON', 'WON', 'WON', 'WON', 'WON', 'WON', 'WON', 'WON', 'WON', 'WON', 'WON', 'WON', 'WON', 'WON', 'WON', 'WON', 'WON', 'WON', 'WON', 'WON', 'WON', 'WON', 'WON', 'WON', 'WON', 'WON', 'WON', 'WON', 'WON', 'WON', 'WON', 'WON', 'WON', 'WON', 'WON', 'WON', 'WON', 'WON', 'WON', 'WON', 'WON', 'WON', 'WON', 'WON', 'WON', 'WON', 'WON', 'WON', 'WON', 'WON', 'WON', 'WON', 'WON', 'WON', 'WON', 'WON', 'WON', 'WON', 'WON', 'WON', 'WON', 'WON', 'WON', 'WON', 'WON', 'WON', 'WON', 'WON', 'WON', 'WON', 'WON', 'WON', 'WON', 'WON', 'WON', 'WON', 'WON', 'WON', 'WON', 'WON', 'WON', 'WON', 'WON', 'WON', 'WON', 'WON', 'WON', 'WON', 'WON', 'WON', 'WON', 'WON', 'WON', 'WON', 'WON', 'WON', 'WON', 'WON', 'WON', 'WON', 'WON', 'WON', 'WON', 'WON', 'WON', 'WON', 'WON', 'WON', 'WON', 'WON', 'WON', 'WON', 'WON', 'WON', 'WON', 'WON', 'WON', 'WON', 'WON', 'WON', 'WON', 'WON', 'WON', 'WON', 'WON', 'WON', 'WON', 'WON', 'WON', 'WON', 'WON', 'WON', 'WON', 'WON', 'WON', 'WON', 'WON', 'WON', 'WON', 'WON', 'WON', 'WON', 'WON', 'WON', 'WON', 'WON', 'WON', 'WON', 'WON', 'WON', 'WON', 'WON', 'WON', 'WON', 'WON', 'WON', 'WON', 'WON', 'WON', 'WON', 'WON', 'WON', 'WON', 'WON', 'WON', 'WON', 'WON', 'WON', 'WON', 'WON', 'WON', 'WON', 'WON', 'WON', 'WON', 'WON', 'WON', 'WON', 'WON', 'WON', 'WON', 'WON', 'WON', 'WON', 'WON', 'WON', 'WON', 'WON', 'WON', 'WON', 'WON', 'WON', 'WON', 'WON', 'WON', 'WON', 'WON', 'WON', 'WON', 'WON', 'WON', 'WON', 'WON', 'WON', 'WON', 'WON', 'WON', 'WON', 'WON', 'WON', 'WON', 'WON', 'WON', 'WON', 'WON', 'WON', 'WON', 'WON', 'WON', 'WON', 'WON', 'WON', 'WON', 'WON', 'WON', 'WON', 'WON', 'WON', 'WON', 'WON', 'WON', 'WON', 'WON', 'WON', 'WON', 'WON', 'WON', 'WON', 'WON', 'WON', 'WON', 'WON', 'WON', 'WON', 'WON', 'WON', 'WON', 'WON', 'WON', 'WON', 'WON', 'WON', 'WON', 'WON', 'WON', 'WON', 'WON', 'WON', 'WON', 'WON', 'WON', 'WON', 'WON', 'WON', 'WON', 'WON', 'WON', 'WON', 'WON', 'WON', 'WON', 'WON', 'WON', 'WON', 'WON', 'WON', 'WON', 'WON', 'WON', 'WON', 'WON', 'WON', 'WON', 'WON', 'WON', 'WON', 'WON', 'WON', 'WON', 'WON', 'WON', 'WON', 'WON', 'WON', 'WON', 'WON', 'WON', 'WON', 'WON', 'WON', 'WON', 'WON', 'WON', 'WON', 'WON', 'WON', 'WON', 'WON', 'WON', 'WON', 'WON', 'WON', 'WON', 'WON', 'WON', 'WON', 'WON', 'WON', 'WON', 'WON', 'WON', 'WON', 'WON', 'WON', 'WON', 'WON', 'WON', 'WON', 'WON', 'WON', 'WON', 'WON', 'WON', 'WON', 'WON', 'WON', 'WON', 'WON', 'WON', 'WON', 'WON', 'WON', 'WON', 'WON', 'WON', 'WON', 'WON', 'WON', 'WON', 'WON', 'WON', 'WON', 'WON', 'WON', 'WON', 'WON', 'WON', 'WON', 'WON', 'WON', 'WON', 'WON', 'WON', 'WON', 'WON', 'WON', 'WON', 'WON', 'WON', 'WON', 'WON', 'WON', 'WON', 'WON', 'WON', 'WON', 'WON', 'WON', 'WON', 'WON', 'WON', 'WON', 'WON', 'WON', 'WON', 'WON', 'WON', 'WON', 'WON', 'WON', 'WON', 'WON', 'WON', 'WON', 'WON', 'WON', 'WON', 'WON', 'WON', 'WON', 'WON', 'WON', 'WON', 'WON', 'WON', 'WON', 'WON', 'WON', 'WON', 'WON', 'WON', 'WON', 'WON', 'WON', 'WON', 'WON', 'WON', 'WON', 'WON', 'WON', 'WON', 'WON', 'WON', 'WON', 'WON', 'WON', 'WON', 'WON', 'WON', 'WON', 'WON', 'WON', 'WON', 'WON', 'WON', 'WON', 'WON', 'WON', 'WON', 'WON', 'WON', 'WON', 'WON', 'WON', 'WON', 'WON', 'WON', 'WON', 'WON', 'WON', 'WON', 'WON', 'WON', 'WON', 'WON', 'WON', 'WON', 'WON', 'WON', 'WON', 'WON', 'WON', 'WON', 'WON', 'WON', 'WON', 'WON', 'WON', 'WON', 'WON', 'WON', 'WON', 'WON', 'WON', 'WON', 'WON', 'WON', 'WON', 'WON', 'WON', 'WON', 'WON', 'WON', 'WON', 'WON', 'WON', 'WON', 'WON', 'WON', 'WON', 'WON', 'WON', 'WON', 'WON', 'WON', 'WON', 'WON', 'WON', 'WON', 'WON', 'WON', 'WON', 'WON', 'WON', 'WON', 'WON', 'WON', 'WON', 'WON', 'WON', 'WON', 'WON', 'WON', 'WON', 'WON', 'WON', 'WON', 'WON', 'WON', 'WON', 'WON', 'WON', 'WON', 'WON', 'WON', 'WON', 'WON', 'WON', 'WON', 'WON', 'WON', 'WON', 'WON', 'WON', 'WON', 'WON', 'WON', 'WON', 'WON', 'WON', 'WON', 'WON', 'WON', 'WON', 'WON', 'WON', 'WON', 'WON', 'WON', 'WON', 'WON', 'WON', 'WON', 'WON', 'WON', 'WON', 'WON', 'WON', 'WON', 'WON', 'WON', 'WON', 'WON', 'WON', 'WON', 'WON', 'WON', 'WON', 'WON', 'WON', 'WON', 'WON', 'WON', 'WON', 'WON', 'WON', 'WON', 'WON', 'WON', 'WON', 'WON', 'WON', 'WON', 'WON', 'WON', 'WON', 'WON', 'WON', 'WON', 'WON', 'WON', 'WON', 'WON', 'WON', 'WON', 'WON', 'WON', 'WON', 'WON', 'WON', 'WON', 'WON', 'WON', 'WON', 'WON', 'WON', 'WON', 'WON', 'WON', 'WON', 'WON', 'WON', 'WON', 'WON', 'WON', 'WON', 'WON', 'WON', 'WON', 'WON', 'WON', 'WON', 'WON', 'WON', 'WON', 'WON', 'WON', 'WON', 'WON', 'WON', 'WON', 'WON', 'WON', 'WON', 'WON', 'WON', 'WON', 'WON', 'WON', 'WON', 'WON', 'WON', 'WON', 'WON', 'WON', 'WON', 'WON', 'WON', 'WON', 'WON', 'WON', 'WON', 'WON', 'WON', 'WON', 'WON', 'WON', 'WON', 'WON', 'WON', 'WON', 'WON', 'WON', 'WON', 'WON', 'WON', 'WON', 'WON', 'WON', 'WON', 'WON', 'WON', 'WON', 'WON', 'WON', 'WON', 'WON', 'WON', 'WON', 'WON', 'WON', 'WON', 'WON', 'WON', 'WON', 'WON', 'WON', 'WON', 'WON', 'WON', 'WON', 'WON', 'WON', 'WON', 'WON', 'WON', 'WON', 'WON', 'WON', 'WON', 'WON', 'WON', 'WON', 'WON', 'WON', 'WON', 'WON', 'WON', 'WON', 'WON', 'WON', 'WON', 'WON', 'WON', 'WON', 'WON', 'WON', 'WON', 'WON', 'WON', 'WON', 'WON', 'WON', 'WON', 'WON', 'WON', 'WON', 'WON', 'WON', 'WON', 'WON', 'WON', 'WON', 'WON', 'WON', 'WON', 'WON', 'WON', 'WON', 'WON', 'WON', 'WON', 'WON', 'WON', 'WON', 'WON', 'WON', 'WON', 'WON', 'WON', 'WON', 'WON', 'WON', 'WON', 'WON', 'WON', 'WON', 'WON', 'WON', 'WON', 'WON', 'WON', 'WON', 'WON', 'WON', 'WON', 'WON', 'WON', 'WON', 'WON', 'WON', 'WON', 'WON', 'WON', 'WON', 'WON', 'WON', 'WON', 'WON', 'WON', 'WON', 'WON', 'WON', 'WON', 'WON', 'WON', 'WON', 'WON', 'WON', 'WON', 'WON', 'WON', 'WON', 'WON', 'WON', 'WON', 'WON', 'WON', 'WON', 'WON', 'WON', 'WON', 'WON', 'WON', 'WON', 'WON', 'WON', 'WON', 'WON', 'WON', 'WON', 'WON', 'WON', 'WON', 'WON', 'WON', 'WON', 'WON', 'WON', 'WON', 'WON', 'WON', 'WON', 'WON', 'WON', 'WON', 'WON', 'WON', 'WON', 'WON', 'WON', 'WON', 'WON', 'WON', 'WON', 'WON', 'WON', 'WON', 'WON', 'WON', 'WON', 'WON', 'WON', 'WON', 'WON', 'WON', 'WON', 'WON', 'WON', 'WON', 'WON', 'WON', 'WON', 'WON', 'WON', 'WON', 'WON', 'WON', 'WON', 'WON', 'WON', 'WON', 'WON', 'WON', 'WON', 'WON', 'WON', 'WON', 'WON', 'WON', 'WON', 'WON', 'WON', 'WON', 'WON', 'WON', 'WON', 'WON', 'WON', 'WON', 'WON', 'WON', 'WON', 'WON', 'WON', 'WON', 'WON', 'WON', 'WON', 'WON', 'WON', 'WON', 'WON', 'WON', 'WON', 'WON', 'WON', 'WON', 'WON', 'WON', 'WON', 'WON', 'WON', 'WON', 'WON', 'WON', 'WON', 'WON', 'WON', 'WON', 'WON', 'WON', 'WON', 'WON', 'WON', 'WON', 'WON', 'WON', 'WON', 'WON', 'WON', 'WON', 'WON', 'WON', 'WON', 'WON', 'WON', 'WON', 'WON', 'WON', 'WON', 'WON', 'WON', 'WON', 'WON', 'WON', 'WON', 'WON', 'WON', 'WON', 'WON', 'WON', 'WON', 'WON', 'WON', 'WON', 'WON', 'WON', 'WON', 'WON', 'WON', 'WON', 'WON', 'WON', 'WON', 'WON', 'WON', 'WON', 'WON', 'WON', 'WON', 'WON', 'WON', 'WON', 'WON', 'WON', 'WON', 'WON', 'WON', 'WON', 'WON', 'WON', 'WON', 'WON', 'WON', 'WON', 'WON', 'WON', 'WON', 'WON', 'WON', 'WON', 'WON', 'WON', 'WON', 'WON', 'WON', 'WON', 'WON', 'WON', 'WON', 'WON', 'WON', 'WON', 'WON', 'WON', 'WON', 'WON', 'WON', 'WON', 'WON', 'WON', 'WON', 'WON', 'WON', 'WON', 'WON', 'WON', 'WON', 'WON', 'WON', 'WON', 'WON', 'WON', 'WON', 'WON', 'WON', 'WON', 'WON', 'WON', 'WON', 'WON', 'WON', 'WON', 'WON', 'WON', 'WON', 'WON', 'WON', 'WON', 'WON', 'WON', 'WON', 'WON', 'WON', 'WON', 'WON', 'WON', 'WON', 'WON', 'WON', 'WON', 'WON', 'WON', 'WON', 'WON', 'WON', 'WON', 'WON', 'WON', 'WON', 'WON', 'WON', 'WON', 'WON', 'WON', 'WON', 'WON', 'WON', 'WON', 'WON', 'WON', 'WON', 'WON', 'WON', 'WON', 'WON', 'WON', 'WON', 'WON', 'WON', 'WON', 'WON', 'WON', 'WON', 'WON', 'WON', 'WON', 'WON', 'WON', 'WON', 'WON', 'WON', 'WON', 'WON', 'WON', 'WON', 'WON', 'WON', 'WON', 'WON', 'WON', 'WON', 'WON', 'WON', 'WON', 'WON', 'WON', 'WON', 'WON', 'WON', 'WON', 'WON', 'WON', 'WON', 'WON', 'WON', 'WON', 'WON', 'WON', 'WON', 'WON', 'WON', 'WON', 'WON', 'WON', 'WON', 'WON', 'WON', 'WON', 'WON', 'WON', 'WON', 'WON', 'WON', 'WON', 'WON', 'WON', 'WON', 'WON', 'WON', 'WON', 'WON', 'WON', 'WON', 'WON', 'WON', 'WON', 'WON', 'WON', 'WON', 'WON', 'WON', 'WON', 'WON', 'WON', 'WON', 'WON', 'WON', 'WON', 'WON', 'WON', 'WON', 'WON', 'WON', 'WON', 'WON', 'WON', 'WON', 'WON', 'WON', 'WON', 'WON', 'WON', 'WON', 'WON', 'WON', 'WON', 'WON', 'WON', 'WON', 'WON', 'WON', 'WON', 'WON', 'WON', 'WON', 'WON', 'WON', 'WON', 'WON', 'WON', 'WON', 'WON', 'WON', 'WON', 'WON', 'WON', 'WON', 'WON', 'WON', 'WON', 'WON', 'WON', 'WON', 'WON', 'WON', 'WON', 'WON', 'WON', 'WON', 'WON', 'WON', 'WON', 'WON', 'WON', 'WON', 'WON', 'WON', 'WON', 'WON', 'WON', 'WON', 'WON', 'WON', 'WON', 'WON', 'WON', 'WON', 'WON', 'WON', 'WON', 'WON', 'WON', 'WON', 'WON', 'WON', 'WON', 'WON', 'WON', 'WON', 'WON', 'WON', 'WON', 'WON', 'WON', 'WON', 'WON', 'WON', 'WON', 'WON', 'WON', 'WON', 'WON', 'WON', 'WON', 'WON', 'WON', 'WON', 'WON', 'WON', 'WON', 'WON', 'WON', 'WON', 'WON', 'WON', 'WON', 'WON', 'WON', 'WON', 'WON', 'WON', 'WON', 'WON', 'WON', 'WON', 'WON', 'WON', 'WON', 'WON', 'WON', 'WON', 'WON', 'WON', 'WON', 'WON', 'WON', 'WON', 'WON', 'WON', 'WON', 'WON', 'WON', 'WON', 'WON', 'WON', 'WON', 'WON', 'WON', 'WON', 'WON', 'WON', 'WON', 'WON', 'WON', 'WON', 'WON', 'WON', 'WON', 'WON', 'WON', 'WON', 'WON', 'WON', 'WON', 'WON', 'WON', 'WON', 'WON', 'WON', 'WON', 'WON', 'WON', 'WON', 'WON', 'WON', 'WON', 'WON', 'WON', 'WON', 'WON', 'WON', 'WON', 'WON', 'WON', 'WON', 'WON', 'WON', 'WON', 'WON', 'WON', 'WON', 'WON', 'WON', 'WON', 'WON', 'WON', 'WON', 'WON', 'WON', 'WON', 'WON', 'WON', 'WON', 'WON', 'WON', 'WON', 'WON', 'WON', 'WON', 'WON', 'WON', 'WON', 'WON', 'WON', 'WON', 'WON', 'WON', 'WON', 'WON', 'WON', 'WON', 'WON', 'WON', 'WON', 'WON', 'WON', 'WON', 'WON', 'WON', 'WON', 'WON', 'WON', 'WON', 'WON', 'WON', 'WON', 'WON', 'WON', 'WON', 'WON', 'WON', 'WON', 'WON', 'WON', 'WON', 'WON', 'WON', 'WON', 'WON', 'WON', 'WON', 'WON', 'WON', 'WON', 'WON', 'WON', 'WON', 'WON', 'WON', 'WON', 'WON', 'WON', 'WON', 'WON', 'WON', 'WON', 'WON', 'WON', 'WON', 'WON', 'WON', 'WON', 'WON', 'WON', 'WON', 'WON', 'WON', 'WON', 'WON', 'WON', 'WON', 'WON', 'WON', 'WON', 'WON', 'WON', 'WON', 'WON', 'WON', 'WON', 'WON', 'WON', 'WON', 'WON', 'WON', 'WON', 'WON', 'WON', 'WON', 'WON', 'WON', 'WON', 'WON', 'WON', 'WON', 'WON', 'WON', 'WON', 'WON', 'WON', 'WON', 'WON', 'WON', 'WON', 'WON', 'WON', 'WON', 'WON', 'WON', 'WON', 'WON', 'WON', 'WON', 'WON', 'WON', 'WON', 'WON', 'WON', 'WON', 'WON', 'WON', 'WON', 'WON', 'WON', 'WON', 'WON', 'WON', 'WON', 'WON', 'WON', 'WON', 'WON', 'WON', 'WON', 'WON', 'WON', 'WON', 'WON', 'WON', 'WON', 'WON', 'WON', 'WON', 'WON', 'WON', 'WON', 'WON', 'WON', 'WON', 'WON', 'WON', 'WON', 'WON', 'WON', 'WON', 'WON', 'WON', 'WON', 'WON', 'WON', 'WON', 'WON', 'WON', 'WON', 'WON', 'WON', 'WON', 'WON', 'WON', 'WON', 'WON', 'WON', 'WON', 'WON', 'WON', 'WON', 'WON', 'WON', 'WON', 'WON', 'WON', 'WON', 'WON', 'WON', 'WON', 'WON', 'WON', 'WON', 'WON', 'WON', 'WON', 'WON', 'WON', 'WON', 'WON', 'WON', 'WON', 'WON', 'WON', 'WON', 'WON', 'WON', 'WON', 'WON', 'WON', 'WON', 'WON', 'WON', 'WON', 'WON', 'WON', 'WON', 'WON', 'WON', 'WON', 'WON', 'WON', 'WON', 'WON', 'WON', 'WON', 'WON', 'WON', 'WON', 'WON', 'WON', 'WON', 'WON', 'WON', 'WON', 'WON', 'WON', 'WON', 'WON', 'WON', 'WON', 'WON', 'WON', 'WON', 'WON', 'WON', 'WON', 'WON', 'WON', 'WON', 'WON', 'WON', 'WON', 'WON', 'WON', 'WON', 'WON', 'WON', 'WON', 'WON', 'WON', 'WON', 'WON', 'WON', 'WON', 'WON', 'WON', 'WON', 'WON', 'WON', 'WON', 'WON', 'WON', 'WON', 'WON', 'WON', 'WON', 'WON', 'WON', 'WON', 'WON', 'WON', 'WON', 'WON', 'WON', 'WON', 'WON', 'WON', 'WON', 'WON', 'WON', 'WON', 'WON', 'WON', 'WON', 'WON', 'WON', 'WON', 'WON', 'WON', 'WON', 'WON', 'WON', 'WON', 'WON', 'WON', 'WON', 'WON', 'WON', 'WON', 'WON', 'WON', 'WON', 'WON', 'WON', 'WON', 'WON', 'WON', 'WON', 'WON', 'WON', 'WON', 'WON', 'WON', 'WON', 'WON', 'WON', 'WON', 'WON', 'WON', 'WON', 'WON', 'WON', 'WON', 'WON', 'WON', 'WON', 'WON', 'WON', 'WON', 'WON', 'WON', 'WON', 'WON', 'WON', 'WON', 'WON', 'WON', 'WON', 'WON', 'WON', 'WON', 'WON', 'WON', 'WON', 'WON', 'WON', 'WON', 'WON', 'WON', 'WON', 'WON', 'WON', 'WON', 'WON', 'WON', 'WON', 'WON', 'WON', 'WON', 'WON', 'WON', 'WON', 'WON', 'WON', 'WON', 'WON', 'WON', 'WON', 'WON', 'WON', 'WON', 'WON', 'WON', 'WON', 'WON', 'WON', 'WON', 'WON', 'WON', 'WON', 'WON', 'WON', 'WON', 'WON', 'WON', 'WON', 'WON', 'WON', 'WON', 'WON', 'WON', 'WON', 'WON', 'WON', 'WON', 'WON', 'WON', 'WON', 'WON', 'WON', 'WON', 'WON', 'WON', 'WON', 'WON', 'WON', 'WON', 'WON', 'WON', 'WON', 'WON', 'WON', 'WON', 'WON', 'WON', 'WON', 'WON', 'WON', 'WON', 'WON', 'WON', 'WON', 'WON', 'WON', 'WON', 'WON', 'WON', 'WON', 'WON', 'WON', 'WON', 'WON', 'WON', 'WON', 'WON', 'WON', 'WON', 'WON', 'WON', 'WON', 'WON', 'WON', 'WON', 'WON', 'WON', 'WON', 'WON', 'WON', 'WON', 'WON', 'WON', 'WON', 'WON', 'WON', 'WON', 'WON', 'WON', 'WON', 'WON', 'WON', 'WON', 'WON', 'WON', 'WON', 'WON', 'WON', 'WON', 'WON', 'WON', 'WON', 'WON', 'WON', 'WON', 'WON', 'WON', 'WON', 'WON', 'WON', 'WON', 'WON', 'WON', 'WON', 'WON', 'WON', 'WON', 'WON', 'WON', 'WON', 'WON', 'WON', 'WON', 'WON', 'WON', 'WON', 'WON', 'WON', 'WON', 'WON', 'WON', 'WON', 'WON', 'WON', 'WON', 'WON', 'WON', 'WON', 'WON', 'WON', 'WON', 'WON', 'WON', 'WON', 'WON', 'WON', 'WON', 'WON', 'WON', 'WON', 'WON', 'WON', 'WON', 'WON', 'WON', 'WON', 'WON', 'WON', 'WON', 'WON', 'WON', 'WON', 'WON', 'WON', 'WON', 'WON', 'WON', 'WON', 'WON', 'WON', 'WON', 'WON', 'WON', 'WON', 'WON', 'WON', 'WON', 'WON', 'WON', 'WON', 'WON', 'WON', 'WON', 'WON', 'WON', 'WON', 'WON', 'WON', 'WON', 'WON', 'WON', 'WON', 'WON', 'WON', 'WON', 'WON', 'WON', 'WON', 'WON', 'WON', 'WON', 'WON', 'WON', 'WON', 'WON', 'WON', 'WON', 'WON', 'WON', 'WON', 'WON', 'WON', 'WON', 'WON', 'WON', 'WON', 'WON', 'WON', 'WON', 'WON', 'WON', 'WON', 'WON', 'WON', 'WON', 'WON', 'WON', 'WON', 'WON', 'WON', 'WON', 'WON', 'WON', 'WON', 'WON', 'WON', 'WON', 'WON', 'WON', 'WON', 'WON', 'WON', 'WON', 'WON', 'WON', 'WON', 'WON', 'WON', 'WON', 'WON', 'WON', 'WON', 'WON', 'WON', 'WON', 'WON', 'WON', 'WON', 'WON', 'WON', 'WON', 'WON', 'WON', 'WON', 'WON', 'WON', 'WON', 'WON', 'WON', 'WON', 'WON', 'WON', 'WON', 'WON', 'WON', 'WON', 'WON', 'WON', 'WON', 'WON', 'WON', 'WON', 'WON', 'WON', 'WON', 'WON', 'WON', 'WON', 'WON', 'WON', 'WON', 'WON', 'WON', 'WON', 'WON', 'WON', 'WON', 'WON', 'WON', 'WON', 'WON', 'WON', 'WON', 'WON', 'WON', 'WON', 'WON', 'WON', 'WON', 'WON', 'WON', 'WON', 'WON', 'WON', 'WON', 'WON', 'WON', 'WON', 'WON', 'WON', 'WON', 'WON', 'WON', 'WON', 'WON', 'WON', 'WON', 'WON', 'WON', 'WON', 'WON', 'WON', 'WON', 'WON', 'WON', 'WON', 'WON', 'WON', 'WON', 'WON', 'WON', 'WON', 'WON', 'WON', 'WON', 'WON', 'WON', 'WON', 'WON', 'WON', 'WON', 'WON', 'WON', 'WON', 'WON', 'WON', 'WON', 'WON', 'WON', 'WON', 'WON', 'WON', 'WON', 'WON', 'WON', 'WON', 'WON', 'WON', 'WON', 'WON', 'WON', 'WON', 'WON', 'WON', 'WON', 'WON', 'WON', 'WON', 'WON', 'WON', 'WON', 'WON', 'WON', 'WON', 'WON', 'WON', 'WON', 'WON', 'WON', 'WON', 'WON', 'WON', 'WON', 'WON', 'WON', 'WON', 'WON', 'WON', 'WON', 'WON', 'WON', 'WON', 'WON', 'WON', 'WON', 'WON', 'WON', 'WON', 'WON', 'WON', 'WON', 'WON', 'WON', 'WON', 'WON', 'WON', 'WON', 'WON', 'WON', 'WON', 'WON', 'WON', 'WON', 'WON', 'WON', 'WON', 'WON', 'WON', 'WON', 'WON', 'WON', 'WON', 'WON', 'WON', 'WON', 'WON', 'WON', 'WON', 'WON', 'WON', 'WON', 'WON', 'WON', 'WON', 'WON', 'WON', 'WON', 'WON', 'WON', 'WON', 'WON', 'WON', 'WON', 'WON', 'WON', 'WON', 'WON', 'WON', 'WON', 'WON', 'WON', 'WON', 'WON', 'WON', 'WON', 'WON', 'WON', 'WON', 'WON', 'WON', 'WON', 'WON', 'WON', 'WON', 'WON', 'WON', 'WON', 'WON', 'WON', 'WON', 'WON', 'WON', 'WON', 'WON', 'WON', 'WON', 'WON', 'WON', 'WON', 'WON', 'WON', 'WON', 'WON', 'WON', 'WON', 'WON', 'WON', 'WON', 'WON', 'WON', 'WON', 'WON', 'WON', 'WON', 'WON', 'WON', 'WON', 'WON', 'WON', 'WON', 'WON', 'WON', 'WON', 'WON', 'WON', 'WON', 'WON', 'WON', 'WON', 'WON', 'WON', 'WON', 'WON', 'WON', 'WON', 'WON', 'WON', 'WON', 'WON', 'WON', 'WON', 'WON', 'WON', 'WON', 'WON', 'WON', 'WON', 'WON', 'WON', 'WON', 'WON', 'WON', 'WON', 'WON', 'WON', 'WON', 'WON', 'WON', 'WON', 'WON', 'WON', 'WON', 'WON', 'WON', 'WON', 'WON', 'WON', 'WON', 'WON', 'WON', 'WON', 'WON', 'WON', 'WON', 'WON', 'WON', 'WON', 'WON', 'WON', 'WON', 'WON', 'WON', 'WON', 'WON', 'WON', 'WON', 'WON', 'WON', 'WON', 'WON', 'WON', 'WON', 'WON', 'WON', 'WON', 'WON', 'WON', 'WON', 'WON', 'WON', 'WON', 'WON', 'WON', 'WON', 'WON', 'WON', 'WON', 'WON', 'WON', 'WON', 'WON', 'WON', 'WON', 'WON', 'WON', 'WON', 'WON', 'WON', 'WON', 'WON', 'WON', 'WON', 'WON', 'WON', 'WON', 'WON', 'WON', 'WON', 'WON', 'WON', 'WON', 'WON', 'WON', 'WON', 'WON', 'WON', 'WON', 'WON', 'WON', 'WON', 'WON', 'WON', 'WON', 'WON', 'WON', 'WON', 'WON', 'WON', 'WON', 'WON', 'WON', 'WON', 'WON', 'WON', 'WON', 'WON', 'WON', 'WON', 'WON', 'WON', 'WON', 'WON', 'WON', 'WON', 'WON', 'WON', 'WON', 'WON', 'WON', 'WON', 'WON', 'WON', 'WON', 'WON', 'WON', 'WON', 'WON', 'WON', 'WON', 'WON', 'WON', 'WON', 'WON', 'WON', 'WON', 'WON', 'WON', 'WON', 'WON', 'WON', 'WON', 'WON', 'WON', 'WON', 'WON', 'WON', 'WON', 'WON', 'WON', 'WON', 'WON', 'WON', 'WON', 'WON', 'WON', 'WON', 'WON', 'WON', 'WON', 'WON', 'WON', 'WON', 'WON', 'WON', 'WON', 'WON', 'WON', 'WON', 'WON', 'WON', 'WON', 'WON', 'WON', 'WON', 'WON', 'WON', 'WON', 'WON', 'WON', 'WON', 'WON', 'WON', 'WON', 'WON', 'WON', 'WON', 'WON', 'WON', 'WON', 'WON', 'WON', 'WON', 'WON', 'WON', 'WON', 'WON', 'WON', 'WON', 'WON', 'WON', 'WON', 'WON', 'WON', 'WON', 'WON', 'WON', 'WON', 'WON', 'WON', 'WON', 'WON', 'WON', 'WON', 'WON', 'WON', 'WON', 'WON', 'WON', 'WON', 'WON', 'WON', 'WON', 'WON', 'WON', 'WON', 'WON', 'WON', 'WON', 'WON', 'WON', 'WON', 'WON', 'WON', 'WON', 'WON', 'WON', 'WON', 'WON', 'WON', 'WON', 'WON', 'WON', 'WON', 'WON', 'WON', 'WON', 'WON', 'WON', 'WON', 'WON', 'WON', 'WON', 'WON', 'WON', 'WON', 'WON', 'WON', 'WON', 'WON', 'WON', 'WON', 'WON', 'WON', 'WON', 'WON', 'WON', 'WON', 'WON', 'WON', 'WON', 'WON', 'WON', 'WON', 'WON', 'WON', 'WON', 'WON', 'WON', 'WON', 'WON', 'WON', 'WON', 'WON', 'WON', 'WON', 'WON', 'WON', 'WON', 'WON', 'WON', 'WON', 'WON', 'WON', 'WON', 'WON', 'WON', 'WON', 'WON', 'WON', 'WON', 'WON', 'WON', 'WON', 'WON', 'WON', 'WON', 'WON', 'WON', 'WON', 'WON', 'WON', 'WON', 'WON', 'WON', 'WON', 'WON', 'WON', 'WON', 'WON', 'WON', 'WON', 'WON', 'WON', 'WON', 'WON', 'WON', 'WON', 'WON', 'WON', 'WON', 'WON', 'WON', 'WON', 'WON', 'WON', 'WON', 'WON', 'WON', 'WON', 'WON', 'WON', 'WON', 'WON', 'WON', 'WON', 'WON', 'WON', 'WON', 'WON', 'WON', 'WON', 'WON', 'WON', 'WON', 'WON', 'WON', 'WON', 'WON', 'WON', 'WON', 'WON', 'WON', 'WON', 'WON', 'WON', 'WON', 'WON', 'WON', 'WON', 'WON', 'WON', 'WON', 'WON', 'WON', 'WON', 'WON', 'WON', 'WON', 'WON', 'WON', 'WON', 'WON', 'WON', 'WON', 'WON', 'WON', 'WON', 'WON', 'WON', 'WON', 'WON', 'WON', 'WON', 'WON', 'WON', 'WON', 'WON', 'WON', 'WON', 'WON', 'WON', 'WON', 'WON', 'WON', 'WON', 'WON', 'WON', 'WON', 'WON', 'WON', 'WON', 'WON', 'WON', 'WON', 'WON', 'WON', 'WON', 'WON', 'WON', 'WON', 'WON', 'WON', 'WON', 'WON', 'WON', 'WON', 'WON', 'WON', 'WON', 'WON', 'WON', 'WON', 'WON', 'WON', 'WON', 'WON', 'WON', 'WON', 'WON', 'WON', 'WON', 'WON', 'WON', 'WON', 'WON', 'WON', 'WON', 'WON', 'WON', 'WON', 'WON', 'WON', 'WON', 'WON', 'WON', 'WON', 'WON', 'WON', 'WON', 'WON', 'WON', 'WON', 'WON', 'WON', 'WON', 'WON', 'WON', 'WON', 'WON', 'WON', 'WON', 'WON', 'WON', 'WON', 'WON', 'WON', 'WON', 'WON', 'WON', 'WON', 'WON', 'WON', 'WON', 'WON', 'WON', 'WON', 'WON', 'WON', 'WON', 'WON', 'WON', 'WON', 'WON', 'WON', 'WON', 'WON', 'WON', 'WON', 'WON', 'WON', 'WON', 'WON', 'WON', 'WON', 'WON', 'WON', 'WON', 'WON', 'WON', 'WON', 'WON', 'WON', 'WON', 'WON', 'WON', 'WON', 'WON', 'WON', 'WON', 'WON', 'WON', 'WON', 'WON', 'WON', 'WON', 'WON', 'WON', 'WON', 'WON', 'WON', 'WON', 'WON', 'WON', 'WON', 'WON', 'WON', 'WON', 'WON', 'WON', 'WON', 'WON', 'WON', 'WON', 'WON', 'WON', 'WON', 'WON', 'WON', 'WON', 'WON', 'WON', 'WON', 'WON', 'WON', 'WON', 'WON', 'WON', 'WON', 'WON', 'WON', 'WON', 'WON', 'WON', 'WON', 'WON', 'WON', 'WON', 'WON', 'WON', 'WON', 'WON', 'WON', 'WON', 'WON', 'WON', 'WON', 'WON', 'WON', 'WON', 'WON', 'WON', 'WON', 'WON', 'WON', 'WON', 'WON', 'WON', 'WON', 'WON', 'WON', 'WON', 'WON', 'WON', 'WON', 'WON', 'WON', 'WON', 'WON', 'WON', 'WON', 'WON', 'WON', 'WON', 'WON', 'WON', 'WON', 'WON', 'WON', 'WON', 'WON', 'WON', 'WON', 'WON', 'WON', 'WON', 'WON', 'WON', 'WON', 'WON', 'WON', 'WON', 'WON', 'WON', 'WON', 'WON', 'WON', 'WON', 'WON', 'WON', 'WON', 'WON', 'WON', 'WON', 'WON', 'WON', 'WON', 'WON', 'WON', 'WON', 'WON', 'WON', 'WON', 'WON', 'WON', 'WON', 'WON', 'WON', 'WON', 'WON', 'WON', 'WON', 'WON', 'WON', 'WON', 'WON', 'WON', 'WON', 'WON', 'WON', 'WON', 'WON', 'WON', 'WON', 'WON', 'WON', 'WON', 'WON', 'WON', 'WON', 'WON', 'WON', 'WON', 'WON', 'WON', 'WON', 'WON', 'WON', 'WON', 'WON', 'WON', 'WON', 'WON', 'WON', 'WON', 'WON', 'WON', 'WON', 'WON', 'WON', 'WON', 'WON', 'WON', 'WON', 'WON', 'WON', 'WON', 'WON', 'WON', 'WON', 'WON', 'WON', 'WON', 'WON', 'WON', 'WON', 'WON', 'WON', 'WON', 'WON', 'WON', 'WON', 'WON', 'WON', 'WON', 'WON', 'WON', 'WON', 'WON', 'WON', 'WON', 'WON', 'WON', 'WON', 'WON', 'WON', 'WON', 'WON', 'WON', 'WON', 'WON', 'WON', 'WON', 'WON', 'WON', 'WON', 'WON', 'WON', 'WON', 'WON', 'WON', 'WON', 'WON', 'WON', 'WON', 'WON', 'WON', 'WON', 'WON', 'WON', 'WON', 'WON', 'WON', 'WON', 'WON', 'WON', 'WON', 'WON', 'WON', 'WON', 'WON', 'WON', 'WON', 'WON', 'WON', 'WON', 'WON', 'WON', 'WON', 'WON', 'WON', 'WON', 'WON', 'WON', 'WON', 'WON', 'WON', 'WON', 'WON', 'WON', 'WON', 'WON', 'WON', 'WON', 'WON', 'WON', 'WON', 'WON', 'WON', 'WON', 'WON', 'WON', 'WON', 'WON', 'WON', 'WON', 'WON', 'WON', 'WON', 'WON', 'WON', 'WON', 'WON', 'WON', 'WON', 'WON', 'WON', 'WON', 'WON', 'WON', 'WON', 'WON', 'WON', 'WON', 'WON', 'WON', 'WON', 'WON', 'WON', 'WON', 'WON', 'WON', 'WON', 'WON', 'WON', 'WON', 'WON', 'WON', 'WON', 'WON', 'WON', 'WON', 'WON', 'WON', 'WON', 'WON', 'WON', 'WON', 'WON', 'WON', 'WON', 'WON', 'WON', 'WON', 'WON', 'WON', 'WON', 'WON', 'WON', 'WON', 'WON', 'WON', 'WON', 'WON', 'WON', 'WON', 'WON', 'WON', 'WON', 'WON', 'WON', 'WON', 'WON', 'WON', 'WON', 'WON', 'WON', 'WON', 'WON', 'WON', 'WON', 'WON', 'WON', 'WON', 'WON', 'WON', 'WON', 'WON', 'WON', 'WON', 'WON', 'WON', 'WON', 'WON', 'WON', 'WON', 'WON', 'WON', 'WON', 'WON', 'WON', 'WON', 'WON', 'WON', 'WON', 'WON', 'WON', 'WON', 'WON', 'WON', 'WON', 'WON', 'WON', 'WON', 'WON', 'WON', 'WON', 'WON', 'WON', 'WON', 'WON', 'WON', 'WON', 'WON', 'WON', 'WON', 'WON', 'WON', 'WON', 'WON', 'WON', 'WON', 'WON', 'WON', 'WON', 'WON', 'WON', 'WON', 'WON', 'WON', 'WON', 'WON', 'WON', 'WON', 'WON', 'WON', 'WON', 'WON', 'WON', 'WON', 'WON', 'WON', 'WON', 'WON', 'WON', 'WON', 'WON', 'WON', 'WON', 'WON', 'WON', 'WON', 'WON', 'WON', 'WON', 'WON', 'WON', 'WON', 'WON', 'WON', 'WON', 'WON', 'WON', 'WON', 'WON', 'WON', 'WON', 'WON', 'WON', 'WON', 'WON', 'WON', 'WON', 'WON', 'WON', 'WON', 'WON', 'WON', 'WON', 'WON', 'WON', 'WON', 'WON', 'WON', 'WON', 'WON', 'WON', 'WON', 'WON', 'WON', 'WON', 'WON', 'WON', 'WON', 'WON', 'WON', 'WON', 'WON', 'WON', 'WON', 'WON', 'WON', 'WON', 'WON', 'WON', 'WON', 'WON', 'WON', 'WON', 'WON', 'WON', 'WON', 'WON', 'WON', 'WON', 'WON', 'WON', 'WON', 'WON', 'WON', 'WON', 'WON', 'WON', 'WON', 'WON', 'WON', 'WON', 'WON', 'WON', 'WON', 'WON', 'WON', 'WON', 'WON', 'WON', 'WON', 'WON', 'WON', 'WON', 'WON', 'WON', 'WON', 'WON', 'WON', 'WON', 'WON', 'WON', 'WON', 'WON', 'WON', 'WON', 'WON', 'WON', 'WON', 'WON', 'WON', 'WON', 'WON', 'WON', 'WON', 'WON', 'WON', 'WON', 'WON', 'WON', 'WON', 'WON', 'WON', 'WON', 'WON', 'WON', 'WON', 'WON', 'WON', 'WON', 'WON', 'WON', 'WON', 'WON', 'WON', 'WON', 'WON', 'WON', 'WON', 'WON', 'WON', 'WON', 'WON', 'WON', 'WON', 'WON', 'WON', 'WON', 'WON', 'WON', 'WON', 'WON', 'WON', 'WON', 'WON', 'WON', 'WON', 'WON', 'WON', 'WON', 'WON', 'WON', 'WON', 'WON', 'WON', 'WON', 'WON', 'WON', 'WON', 'WON', 'WON', 'WON', 'WON', 'WON', 'WON', 'WON', 'WON', 'WON', 'WON', 'WON', 'WON', 'WON', 'WON', 'WON', 'WON', 'WON', 'WON', 'WON', 'WON', 'WON', 'WON', 'WON', 'WON', 'WON', 'WON', 'WON', 'WON', 'WON', 'WON', 'WON', 'WON', 'WON', 'WON', 'WON', 'WON', 'WON', 'WON', 'WON', 'WON', 'WON', 'WON', 'WON', 'WON', 'WON', 'WON', 'WON', 'WON', 'WON', 'WON', 'WON', 'WON', 'WON', 'WON', 'WON', 'WON', 'WON', 'WON', 'WON', 'WON', 'WON', 'WON', 'WON', 'WON', 'WON', 'WON', 'WON', 'WON', 'WON', 'WON', 'WON', 'WON', 'WON', 'WON', 'WON', 'WON', 'WON', 'WON', 'WON', 'WON', 'WON', 'WON', 'WON', 'WON', 'WON', 'WON', 'WON', 'WON', 'WON', 'WON', 'WON', 'WON', 'WON', 'WON', 'WON', 'WON', 'WON', 'WON', 'WON', 'WON', 'WON', 'WON', 'WON', 'WON', 'WON', 'WON', 'WON', 'WON', 'WON', 'WON', 'WON', 'WON', 'WON', 'WON', 'WON', 'WON', 'WON', 'WON', 'WON', 'WON', 'WON', 'WON', 'WON', 'WON', 'WON', 'WON', 'WON', 'WON', 'WON', 'WON', 'WON', 'WON', 'WON', 'WON', 'WON', 'WON', 'WON', 'WON', 'WON', 'WON', 'WON', 'WON', 'WON', 'WON', 'WON', 'WON', 'WON', 'WON', 'WON', 'WON', 'WON', 'WON', 'WON', 'WON', 'WON', 'WON', 'WON', 'WON', 'WON', 'WON', 'WON', 'WON', 'WON', 'WON', 'WON', 'WON', 'WON', 'WON', 'WON', 'WON', 'WON', 'WON', 'WON', 'WON', 'WON', 'WON', 'WON', 'WON', 'WON', 'WON', 'WON', 'WON', 'WON', 'WON', 'WON', 'WON', 'WON', 'WON', 'WON', 'WON', 'WON', 'WON', 'WON', 'WON', 'WON', 'WON', 'WON', 'WON', 'WON', 'WON', 'WON', 'WON', 'WON', 'WON', 'WON', 'WON', 'WON', 'WON', 'WON', 'WON', 'WON', 'WON', 'WON', 'WON', 'WON', 'WON', 'WON', 'WON', 'WON', 'WON', 'WON', 'WON', 'WON', 'WON', 'WON', 'WON', 'WON', 'WON', 'WON', 'WON', 'WON', 'WON', 'WON', 'WON', 'WON', 'WON', 'WON', 'WON', 'WON', 'WON', 'WON', 'WON', 'WON', 'WON', 'WON', 'WON', 'WON', 'WON', 'WON', 'WON', 'WON', 'WON', 'WON', 'WON', 'WON', 'WON', 'WON', 'WON', 'WON', 'WON', 'WON', 'WON', 'WON', 'WON', 'WON', 'WON', 'WON', 'WON', 'WON', 'WON', 'WON', 'WON', 'WON', 'WON', 'WON', 'WON', 'WON', 'WON', 'WON', 'WON', 'WON', 'WON', 'WON', 'WON', 'WON', 'WON', 'WON', 'WON', 'WON', 'WON', 'WON', 'WON', 'WON', 'WON', 'WON', 'WON', 'WON', 'WON', 'WON', 'WON', 'WON', 'WON', 'WON', 'WON', 'WON', 'WON', 'WON', 'WON', 'WON', 'WON', 'WON', 'WON', 'WON', 'WON', 'WON', 'WON', 'WON', 'WON', 'WON', 'WON', 'WON', 'WON', 'WON', 'WON', 'WON', 'WON', 'WON', 'WON', 'WON', 'WON', 'WON', 'WON', 'WON', 'WON', 'WON', 'WON', 'WON', 'WON', 'WON', 'WON', 'WON', 'WON', 'WON', 'WON', 'WON', 'WON', 'WON', 'WON', 'WON', 'WON', 'WON', 'WON', 'WON', 'WON', 'WON', 'WON', 'WON', 'WON', 'WON', 'WON', 'WON', 'WON', 'WON', 'WON', 'WON', 'WON', 'WON', 'WON', 'WON', 'WON', 'WON', 'WON', 'WON', 'WON', 'WON', 'WON', 'WON', 'WON', 'WON', 'WON', 'WON', 'WON', 'WON', 'WON', 'WON', 'WON', 'WON', 'WON', 'WON', 'WON', 'WON', 'WON', 'WON', 'WON', 'WON', 'WON', 'WON', 'WON', 'WON', 'WON', 'WON', 'WON', 'WON', 'WON', 'WON', 'WON', 'WON', 'WON', 'WON', 'WON', 'WON', 'WON', 'WON', 'WON', 'WON', 'WON', 'WON', 'WON', 'WON', 'WON', 'WON', 'WON', 'WON', 'WON', 'WON', 'WON', 'WON', 'WON', 'WON', 'WON', 'WON', 'WON', 'WON', 'WON', 'WON', 'WON', 'WON', 'WON', 'WON', 'WON', 'WON', 'WON', 'WON', 'WON', 'WON', 'WON', 'WON', 'WON', 'WON', 'WON', 'WON', 'WON', 'WON', 'WON', 'WON', 'WON', 'WON', 'WON', 'WON', 'WON', 'WON', 'WON', 'WON', 'WON', 'WON', 'WON', 'WON', 'WON', 'WON', 'WON', 'WON', 'WON', 'WON', 'WON', 'WON', 'WON', 'WON', 'WON', 'WON', 'WON', 'WON', 'WON', 'WON', 'WON', 'WON', 'WON', 'WON', 'WON', 'WON', 'WON', 'WON', 'WON', 'WON', 'WON', 'WON', 'WON', 'WON', 'WON', 'WON', 'WON', 'WON', 'WON', 'WON', 'WON', 'WON', 'WON', 'WON', 'WON', 'WON', 'WON', 'WON', 'WON', 'WON', 'WON', 'WON', 'WON', 'WON', 'WON', 'WON', 'WON', 'WON', 'WON', 'WON', 'WON', 'WON', 'WON', 'WON', 'WON', 'WON', 'WON', 'WON', 'WON', 'WON', 'WON', 'WON', 'WON', 'WON', 'WON', 'WON', 'WON', 'WON', 'WON', 'WON', 'WON', 'WON', 'WON', 'WON', 'WON', 'WON', 'WON', 'WON', 'WON', 'WON', 'WON', 'WON', 'WON', 'WON', 'WON', 'WON', 'WON', 'WON', 'WON', 'WON', 'WON', 'WON', 'WON', 'WON', 'WON', 'WON', 'WON', 'WON', 'WON', 'WON', 'WON', 'WON', 'WON', 'WON', 'WON', 'WON', 'WON', 'WON', 'WON', 'WON', 'WON', 'WON', 'WON', 'WON', 'WON', 'WON', 'WON', 'WON', 'WON', 'WON', 'WON', 'WON', 'WON', 'WON', 'WON', 'WON', 'WON', 'WON', 'WON', 'WON', 'WON', 'WON', 'WON', 'WON', 'WON', 'WON', 'WON', 'WON', 'WON', 'WON', 'WON', 'WON', 'WON', 'WON', 'WON', 'WON', 'WON', 'WON', 'WON', 'WON', 'WON', 'WON', 'WON', 'WON', 'WON', 'WON', 'WON', 'WON', 'WON', 'WON', 'WON', 'WON', 'WON', 'WON', 'WON', 'WON', 'WON', 'WON', 'WON', 'WON', 'WON', 'WON', 'WON', 'WON', 'WON', 'WON', 'WON', 'WON', 'WON', 'WON', 'WON', 'WON', 'WON', 'WON', 'WON', 'WON', 'WON', 'WON', 'WON', 'WON', 'WON', 'WON', 'WON', 'WON', 'WON', 'WON', 'WON', 'WON', 'WON', 'WON', 'WON', 'WON', 'WON', 'WON', 'WON', 'WON', 'WON', 'WON', 'WON', 'WON', 'WON', 'WON', 'WON', 'WON', 'WON', 'WON', 'WON', 'WON', 'WON', 'WON', 'WON', 'WON', 'WON', 'WON', 'WON', 'WON', 'WON', 'WON', 'WON', 'WON', 'WON', 'WON', 'WON', 'WON', 'WON', 'WON', 'WON', 'WON', 'WON', 'WON', 'WON', 'WON', 'WON', 'WON', 'WON', 'WON', 'WON', 'WON', 'WON', 'WON', 'WON', 'WON', 'WON', 'WON', 'WON', 'WON', 'WON', 'WON', 'WON', 'WON', 'WON', 'WON', 'WON', 'WON', 'WON', 'WON', 'WON', 'WON', 'WON', 'WON', 'WON', 'WON', 'WON', 'WON', 'WON', 'WON', 'WON', 'WON', 'WON', 'WON', 'WON', 'WON', 'WON', 'WON', 'WON', 'WON', 'WON', 'WON', 'WON', 'WON', 'WON', 'WON', 'WON', 'WON', 'WON', 'WON', 'WON', 'WON', 'WON', 'WON', 'WON', 'WON', 'WON', 'WON', 'WON', 'WON', 'WON', 'WON', 'WON', 'WON', 'WON', 'WON', 'WON', 'WON', 'WON', 'WON', 'WON', 'WON', 'WON', 'WON', 'WON', 'WON', 'WON', 'WON', 'WON', 'WON', 'WON', 'WON', 'WON', 'WON', 'WON', 'WON', 'WON', 'WON', 'WON', 'WON', 'WON', 'WON', 'WON', 'WON', 'WON', 'WON', 'WON', 'WON', 'WON', 'WON', 'WON', 'WON', 'WON', 'WON', 'WON', 'WON', 'WON', 'WON', 'WON', 'WON', 'WON', 'WON', 'WON', 'WON', 'WON', 'WON', 'WON', 'WON', 'WON', 'WON', 'WON', 'WON', 'WON', 'WON', 'WON', 'WON', 'WON', 'WON', 'WON', 'WON', 'WON', 'WON', 'WON', 'WON', 'WON', 'WON', 'WON', 'WON', 'WON', 'WON', 'WON', 'WON', 'WON', 'WON', 'WON', 'WON', 'WON', 'WON', 'WON', 'WON', 'WON', 'WON', 'WON', 'WON', 'WON', 'WON', 'WON', 'WON', 'WON', 'WON', 'WON', 'WON', 'WON', 'WON', 'WON', 'WON', 'WON', 'WON', 'WON', 'WON', 'WON', 'WON', 'WON', 'WON', 'WON', 'WON', 'WON', 'WON', 'WON', 'WON', 'WON', 'WON', 'WON', 'WON', 'WON', 'WON', 'WON', 'WON', 'WON', 'WON', 'WON', 'WON', 'WON', 'WON', 'WON', 'WON', 'WON', 'WON', 'WON', 'WON', 'WON', 'WON', 'WON', 'WON', 'WON', 'WON', 'WON', 'WON', 'WON', 'WON', 'WON', 'WON', 'WON', 'WON', 'WON', 'WON', 'WON', 'WON', 'WON', 'WON', 'WON', 'WON', 'WON', 'WON', 'WON', 'WON', 'WON', 'WON', 'WON', 'WON', 'WON', 'WON', 'WON', 'WON', 'WON', 'WON', 'WON', 'WON', 'WON', 'WON', 'WON', 'WON', 'WON', 'WON', 'WON', 'WON', 'WON', 'WON', 'WON', 'WON', 'WON', 'WON', 'WON', 'WON', 'WON', 'WON', 'WON', 'WON', 'WON', 'WON', 'WON', 'WON', 'WON', 'WON', 'WON', 'WON', 'WON', 'WON', 'WON', 'WON', 'WON', 'WON', 'WON', 'WON', 'WON', 'WON', 'WON', 'WON', 'WON', 'WON', 'WON', 'WON', 'WON', 'WON', 'WON', 'WON', 'WON', 'WON', 'WON', 'WON', 'WON', 'WON', 'WON', 'WON', 'WON', 'WON', 'WON', 'WON', 'WON', 'WON', 'WON', 'WON', 'WON', 'WON', 'WON', 'WON', 'WON', 'WON', 'WON', 'WON', 'WON', 'WON', 'WON', 'WON', 'WON', 'WON', 'WON', 'WON', 'WON', 'WON', 'WON', 'WON', 'WON', 'WON', 'WON', 'WON', 'WON', 'WON', 'WON', 'WON', 'WON', 'WON', 'WON', 'WON', 'WON', 'WON', 'WON', 'WON', 'WON', 'WON', 'WON', 'WON', 'WON', 'WON', 'WON', 'WON', 'WON', 'WON', 'WON', 'WON', 'WON', 'WON', 'WON', 'WON', 'WON', 'WON', 'WON', 'WON', 'WON', 'WON', 'WON', 'WON', 'WON', 'WON', 'WON', 'WON', 'WON', 'WON', 'WON', 'WON', 'WON', 'WON', 'WON', 'WON', 'WON', 'WON', 'WON', 'WON', 'WON', 'WON', 'WON', 'WON', 'WON', 'WON', 'WON', 'WON', 'WON', 'WON', 'WON', 'WON', 'WON', 'WON', 'WON', 'WON', 'WON', 'WON', 'WON', 'WON', 'WON', 'WON', 'WON', 'WON', 'WON', 'WON', 'WON', 'WON', 'WON', 'WON', 'WON', 'WON', 'WON', 'WON', 'WON', 'WON', 'WON', 'WON', 'WON', 'WON', 'WON', 'WON', 'WON', 'WON', 'WON', 'WON', 'WON', 'WON', 'WON', 'WON', 'WON', 'WON', 'WON', 'WON', 'WON', 'WON', 'WON', 'WON', 'WON', 'WON', 'WON', 'WON', 'WON', 'WON', 'WON', 'WON', 'WON', 'WON', 'WON', 'WON', 'WON', 'WON', 'WON', 'WON', 'WON', 'WON', 'WON', 'WON', 'WON', 'WON', 'WON', 'WON', 'WON', 'WON', 'WON', 'WON', 'WON', 'WON', 'WON', 'WON', 'WON', 'WON', 'WON', 'WON', 'WON', 'WON', 'WON', 'WON', 'WON', 'WON', 'WON', 'WON', 'WON', 'WON', 'WON', 'WON', 'WON', 'WON', 'WON', 'WON', 'WON', 'WON', 'WON', 'WON', 'WON', 'WON', 'WON', 'WON', 'WON', 'WON', 'WON', 'WON', 'WON', 'WON', 'WON', 'WON', 'WON', 'WON', 'WON', 'WON', 'WON', 'WON', 'WON', 'WON', 'WON', 'WON', 'WON', 'WON', 'WON', 'WON', 'WON', 'WON', 'WON', 'WON', 'WON', 'WON', 'WON', 'WON', 'WON', 'WON', 'WON', 'WON', 'WON', 'WON', 'WON', 'WON', 'WON', 'WON', 'WON', 'WON', 'WON', 'WON', 'WON', 'WON', 'WON', 'WON', 'WON', 'WON', 'WON', 'WON', 'WON', 'WON', 'WON', 'WON', 'WON', 'WON', 'WON', 'WON', 'WON', 'WON', 'WON', 'WON', 'WON', 'WON', 'WON', 'WON', 'WON', 'WON', 'WON', 'WON', 'WON', 'WON', 'WON', 'WON', 'WON', 'WON', 'WON', 'WON', 'WON', 'WON', 'WON', 'WON', 'WON', 'WON', 'WON', 'WON', 'WON', 'WON', 'WON', 'WON', 'WON', 'WON', 'WON', 'WON', 'WON', 'WON', 'WON', 'WON', 'WON', 'WON', 'WON', 'WON', 'WON', 'WON', 'WON', 'WON', 'WON', 'WON', 'WON', 'WON', 'WON', 'WON', 'WON', 'WON', 'WON', 'WON', 'WON', 'WON', 'WON', 'WON', 'WON', 'WON', 'WON', 'WON', 'WON', 'WON', 'WON', 'WON', 'WON', 'WON', 'WON', 'WON', 'WON', 'WON', 'WON', 'WON', 'WON', 'WON', 'WON', 'WON', 'WON', 'WON', 'WON', 'WON', 'WON', 'WON', 'WON', 'WON', 'WON', 'WON', 'WON', 'WON', 'WON', 'WON', 'WON', 'WON', 'WON', 'WON', 'WON', 'WON', 'WON', 'WON', 'WON', 'WON', 'WON', 'WON', 'WON', 'WON', 'WON', 'WON', 'WON', 'WON', 'WON', 'WON', 'WON', 'WON', 'WON', 'WON', 'WON', 'WON', 'WON', 'WON', 'WON', 'WON', 'WON', 'WON', 'WON', 'WON', 'WON', 'WON', 'WON', 'WON', 'WON', 'WON', 'WON', 'WON', 'WON', 'WON', 'WON', 'WON', 'WON', 'WON', 'WON', 'WON', 'WON', 'WON', 'WON', 'WON', 'WON', 'WON', 'WON', 'WON', 'WON', 'WON', 'WON', 'WON', 'WON', 'WON', 'WON', 'WON', 'WON', 'WON', 'WON', 'WON', 'WON', 'WON', 'WON', 'WON', 'WON', 'WON', 'WON', 'WON', 'WON', 'WON', 'WON', 'WON', 'WON', 'WON', 'WON', 'WON', 'WON', 'WON', 'WON', 'WON', 'WON', 'WON', 'WON', 'WON', 'WON', 'WON', 'WON', 'WON', 'WON', 'WON', 'WON', 'WON', 'WON', 'WON', 'WON', 'WON', 'WON', 'WON', 'WON', 'WON', 'WON', 'WON', 'WON', 'WON', 'WON', 'WON', 'WON', 'WON', 'WON', 'WON', 'WON', 'WON', 'WON', 'WON', 'WON', 'WON', 'WON', 'WON', 'WON', 'WON', 'WON', 'WON', 'WON', 'WON', 'WON', 'WON', 'WON', 'WON', 'WON', 'WON', 'WON', 'WON', 'WON', 'WON', 'WON', 'WON', 'WON', 'WON', 'WON', 'WON', 'WON', 'WON', 'WON', 'WON', 'WON', 'WON', 'WON', 'WON', 'WON', 'WON', 'WON', 'WON', 'WON', 'WON', 'WON', 'WON', 'WON', 'WON', 'WON', 'WON', 'WON', 'WON', 'WON', 'WON', 'WON', 'WON', 'WON', 'WON', 'WON', 'WON', 'WON', 'WON', 'WON', 'WON', 'WON', 'WON', 'WON', 'WON', 'WON', 'WON', 'WON', 'WON', 'WON', 'WON', 'WON', 'WON', 'WON', 'WON', 'WON', 'WON', 'WON', 'WON', 'WON', 'WON', 'WON', 'WON', 'WON', 'WON', 'WON', 'WON', 'WON', 'WON', 'WON', 'WON', 'WON', 'WON', 'WON', 'WON', 'WON', 'WON', 'WON', 'WON', 'WON', 'WON', 'WON', 'WON', 'WON', 'WON', 'WON', 'WON', 'WON', 'WON', 'WON', 'WON', 'WON', 'WON', 'WON', 'WON', 'WON', 'WON', 'WON', 'WON', 'WON', 'WON', 'WON', 'WON', 'WON', 'WON', 'WON', 'WON', 'WON', 'WON', 'WON', 'WON', 'WON', 'WON', 'WON', 'WON', 'WON', 'WON', 'WON', 'WON', 'WON', 'WON', 'WON', 'WON', 'WON', 'WON', 'WON', 'WON', 'WON', 'WON', 'WON', 'WON', 'WON', 'WON', 'WON', 'WON', 'WON', 'WON', 'WON', 'WON', 'WON', 'WON', 'WON', 'WON', 'WON', 'WON', 'WON', 'WON', 'WON', 'WON', 'WON', 'WON', 'WON', 'WON', 'WON', 'WON', 'WON', 'WON', 'WON', 'WON', 'WON', 'WON', 'WON', 'WON', 'WON', 'WON', 'WON', 'WON', 'WON', 'WON', 'WON', 'WON', 'WON', 'WON', 'WON', 'WON', 'WON', 'WON', 'WON', 'WON', 'WON', 'WON', 'WON', 'WON', 'WON', 'WON', 'WON', 'WON', 'WON', 'WON', 'WON', 'WON', 'WON', 'WON', 'WON', 'WON', 'WON', 'WON', 'WON', 'WON', 'WON', 'WON', 'WON', 'WON', 'WON', 'WON', 'WON', 'WON', 'WON', 'WON', 'WON', 'WON', 'WON', 'WON', 'WON', 'WON', 'WON', 'WON', 'WON', 'WON', 'WON', 'WON', 'WON', 'WON', 'WON', 'WON', 'WON', 'WON', 'WON', 'WON', 'WON', 'WON', 'WON', 'WON', 'WON', 'WON', 'WON', 'WON', 'WON', 'WON', 'WON', 'WON', 'WON', 'WON', 'WON', 'WON', 'WON', 'WON', 'WON', 'WON', 'WON', 'WON', 'WON', 'WON', 'WON', 'WON', 'WON', 'WON', 'WON', 'WON', 'WON', 'WON', 'WON', 'WON', 'WON', 'WON', 'WON', 'WON', 'WON', 'WON', 'WON', 'WON', 'WON', 'WON', 'WON', 'WON', 'WON', 'WON', 'WON', 'WON', 'WON', 'WON', 'WON', 'WON', 'WON', 'WON', 'WON', 'WON', 'WON', 'WON', 'WON', 'WON', 'WON', 'WON', 'WON', 'WON', 'WON', 'WON', 'WON', 'WON', 'WON', 'WON', 'WON', 'WON', 'WON', 'WON', 'WON', 'WON', 'WON', 'WON', 'WON', 'WON', 'WON', 'WON', 'WON', 'WON', 'WON', 'WON', 'WON', 'WON', 'WON', 'WON', 'WON', 'WON', 'WON', 'WON', 'WON', 'WON', 'WON', 'WON', 'WON', 'WON', 'WON', 'WON', 'WON', 'WON', 'WON', 'WON', 'WON', 'WON', 'WON', 'WON', 'WON', 'WON', 'WON', 'WON', 'WON', 'WON', 'WON', 'WON', 'WON', 'WON', 'WON', 'WON', 'WON', 'WON', 'WON', 'WON', 'WON', 'WON', 'WON', 'WON', 'WON', 'WON', 'WON', 'WON', 'WON', 'WON', 'WON', 'WON', 'WON', 'WON', 'WON', 'WON', 'WON', 'WON', 'WON', 'WON', 'WON', 'WON', 'WON', 'WON', 'WON', 'WON', 'WON', 'WON', 'WON', 'WON', 'WON', 'WON', 'WON', 'WON', 'WON', 'WON', 'WON', 'WON', 'WON', 'WON', 'WON', 'WON', 'WON', 'WON', 'WON', 'WON', 'WON', 'WON', 'WON', 'WON', 'WON', 'WON', 'WON', 'WON', 'WON', 'WON', 'WON', 'WON', 'WON', 'WON', 'WON', 'WON', 'WON', 'WON', 'WON', 'WON', 'WON', 'WON', 'WON', 'WON', 'WON', 'WON', 'WON', 'WON', 'WON', 'WON', 'WON', 'WON', 'WON', 'WON', 'WON', 'WON', 'WON', 'WON', 'WON', 'WON', 'WON', 'WON', 'WON', 'WON', 'WON', 'WON', 'WON', 'WON', 'WON', 'WON', 'WON', 'WON', 'WON', 'WON', 'WON', 'WON', 'WON', 'WON', 'WON', 'WON', 'WON', 'WON', 'WON', 'WON', 'WON', 'WON', 'WON', 'WON', 'WON', 'WON', 'WON', 'WON', 'WON', 'WON', 'WON', 'WON', 'WON', 'WON', 'WON', 'WON', 'WON', 'WON', 'WON', 'WON', 'WON', 'WON', 'WON', 'WON', 'WON', 'WON', 'WON', 'WON', 'WON', 'WON', 'WON', 'WON', 'WON', 'WON', 'WON', 'WON', 'WON', 'WON', 'WON', 'WON', 'WON', 'WON', 'WON', 'WON', 'WON', 'WON', 'WON', 'WON', 'WON', 'WON', 'WON', 'WON', 'WON', 'WON', 'WON', 'WON', 'WON', 'WON', 'WON', 'WON', 'WON', 'WON', 'WON', 'WON', 'WON', 'WON', 'WON', 'WON', 'WON', 'WON', 'WON', 'WON', 'WON', 'WON', 'WON', 'WON', 'WON', 'WON', 'WON', 'WON', 'WON', 'WON', 'WON', 'WON', 'WON', 'WON', 'WON', 'WON', 'WON', 'WON', 'WON', 'WON', 'WON', 'WON', 'WON', 'WON', 'WON', 'WON', 'WON', 'WON', 'WON', 'WON', 'WON', 'WON', 'WON', 'WON', 'WON', 'WON', 'WON', 'WON', 'WON', 'WON', 'WON', 'WON', 'WON', 'WON', 'WON', 'WON', 'WON', 'WON', 'WON', 'WON', 'WON', 'WON', 'WON', 'WON', 'WON', 'WON', 'WON', 'WON', 'WON', 'WON', 'WON', 'WON', 'WON', 'WON', 'WON', 'WON', 'WON', 'WON', 'WON', 'WON', 'WON', 'WON', 'WON', 'WON', 'WON', 'WON', 'WON', 'WON', 'WON', 'WON', 'WON', 'WON', 'WON', 'WON', 'WON', 'WON', 'WON', 'WON', 'WON', 'WON', 'WON', 'WON', 'WON', 'WON', 'WON', 'WON', 'WON', 'WON', 'WON', 'WON', 'WON', 'WON', 'WON', 'WON', 'WON', 'WON', 'WON', 'WON', 'WON', 'WON', 'WON', 'WON', 'WON', 'WON', 'WON', 'WON', 'WON', 'WON', 'WON', 'WON', 'WON', 'WON', 'WON', 'WON', 'WON', 'WON', 'WON', 'WON', 'WON', 'WON', 'WON', 'WON', 'WON', 'WON', 'WON', 'WON', 'WON', 'WON', 'WON', 'WON', 'WON', 'WON', 'WON', 'WON', 'WON', 'WON', 'WON', 'WON', 'WON', 'WON', 'WON', 'WON', 'WON', 'WON', 'WON', 'WON', 'WON', 'WON', 'WON', 'WON', 'WON', 'WON', 'WON', 'WON', 'WON', 'WON', 'WON', 'WON', 'WON', 'WON', 'WON', 'WON', 'WON', 'WON', 'WON', 'WON', 'WON', 'WON', 'WON', 'WON', 'WON', 'WON', 'WON', 'WON', 'WON', 'WON', 'WON', 'WON', 'WON', 'WON', 'WON', 'WON', 'WON', 'WON', 'WON', 'WON', 'WON', 'WON', 'WON', 'WON', 'WON', 'WON', 'WON', 'WON', 'WON', 'WON', 'WON', 'WON', 'WON', 'WON', 'WON', 'WON', 'WON', 'WON', 'WON', 'WON', 'WON', 'WON', 'WON', 'WON', 'WON', 'WON', 'WON', 'WON', 'WON', 'WON', 'WON', 'WON', 'WON', 'WON', 'WON', 'WON', 'WON', 'WON', 'WON', 'WON', 'WON', 'WON', 'WON', 'WON', 'WON', 'WON', 'WON', 'WON', 'WON', 'WON', 'WON', 'WON', 'WON', 'WON', 'WON', 'WON', 'WON', 'WON', 'WON', 'WON', 'WON', 'WON', 'WON', 'WON', 'WON', 'WON', 'WON', 'WON', 'WON', 'WON', 'WON', 'WON', 'WON', 'WON', 'WON', 'WON', 'WON', 'WON', 'WON', 'WON', 'WON', 'WON', 'WON', 'WON', 'WON', 'WON', 'WON', 'WON', 'WON', 'WON', 'WON', 'WON', 'WON', 'WON', 'WON', 'WON', 'WON', 'WON', 'WON', 'WON', 'WON', 'WON', 'WON', 'WON', 'WON', 'WON', 'WON', 'WON', 'WON', 'WON', 'WON', 'WON', 'WON', 'WON', 'WON', 'WON', 'WON', 'WON', 'WON', 'WON', 'WON', 'WON', 'WON', 'WON', 'WON', 'WON', 'WON', 'WON', 'WON', 'WON', 'WON', 'WON', 'WON', 'WON', 'WON', 'WON', 'WON', 'WON', 'WON', 'WON', 'WON', 'WON', 'WON', 'WON', 'WON', 'WON', 'WON', 'WON', 'WON', 'WON', 'WON', 'WON', 'WON', 'WON', 'WON', 'WON', 'WON', 'WON', 'WON', 'WON', 'WON', 'WON', 'WON', 'WON', 'WON', 'WON', 'WON', 'WON', 'WON', 'WON', 'WON', 'WON', 'WON', 'WON', 'WON', 'WON', 'WON', 'WON', 'WON', 'WON', 'WON', 'WON', 'WON', 'WON', 'WON', 'WON', 'WON', 'WON', 'WON', 'WON', 'WON', 'WON', 'WON', 'WON', 'WON', 'WON', 'WON', 'WON', 'WON', 'WON', 'WON', 'WON', 'WON', 'WON', 'WON', 'WON', 'WON', 'WON', 'WON', 'WON', 'WON', 'WON', 'WON', 'WON', 'WON', 'WON', 'WON', 'WON', 'WON', 'WON', 'WON', 'WON', 'WON', 'WON', 'WON', 'WON', 'WON', 'WON', 'WON', 'WON', 'WON', 'WON', 'WON', 'WON', 'WON', 'WON', 'WON', 'WON', 'WON', 'WON', 'WON', 'WON', 'WON', 'WON', 'WON', 'WON', 'WON', 'WON', 'WON', 'WON', 'WON', 'WON', 'WON', 'WON', 'WON', 'WON', 'WON', 'WON', 'WON', 'WON', 'WON', 'WON', 'WON', 'WON', 'WON', 'WON', 'WON', 'WON', 'WON', 'WON', 'WON', 'WON', 'WON', 'WON', 'WON', 'WON', 'WON', 'WON', 'WON', 'WON', 'WON', 'WON', 'WON', 'WON', 'WON', 'WON', 'WON', 'WON', 'WON', 'WON', 'WON', 'WON', 'WON', 'WON', 'WON', 'WON', 'WON', 'WON', 'WON', 'WON', 'WON', 'WON', 'WON', 'WON', 'WON', 'WON', 'WON', 'WON', 'WON', 'WON', 'WON', 'WON', 'WON', 'WON', 'WON', 'WON', 'WON', 'WON', 'WON', 'WON', 'WON', 'WON', 'WON', 'WON', 'WON', 'WON', 'WON', 'WON', 'WON', 'WON', 'WON', 'WON', 'WON', 'WON', 'WON', 'WON', 'WON', 'WON', 'WON', 'WON', 'WON', 'WON', 'WON', 'WON', 'WON', 'WON', 'WON', 'WON', 'WON', 'WON', 'WON', 'WON', 'WON', 'WON', 'WON', 'WON', 'WON', 'WON', 'WON', 'WON', 'WON', 'WON', 'WON', 'WON', 'WON', 'WON', 'WON', 'WON', 'WON', 'WON', 'WON', 'WON', 'WON', 'WON', 'WON', 'WON', 'WON', 'WON', 'WON', 'WON', 'WON', 'WON', 'WON', 'WON', 'WON', 'WON', 'WON', 'WON', 'WON', 'WON', 'WON', 'WON', 'WON', 'WON', 'WON', 'WON', 'WON', 'WON', 'WON', 'WON', 'WON', 'WON', 'WON', 'WON', 'WON', 'WON', 'WON', 'WON', 'WON', 'WON', 'WON', 'WON', 'WON', 'WON', 'WON', 'WON', 'WON', 'WON', 'WON', 'WON', 'WON', 'WON', 'WON', 'WON', 'WON', 'WON', 'WON', 'WON', 'WON', 'WON', 'WON', 'WON', 'WON', 'WON', 'WON', 'WON', 'WON', 'WON', 'WON', 'WON', 'WON', 'WON', 'WON', 'WON', 'WON', 'WON', 'WON', 'WON', 'WON', 'WON', 'WON', 'WON', 'WON', 'WON', 'WON', 'WON', 'WON', 'WON', 'WON', 'WON', 'WON', 'WON', 'WON', 'WON', 'WON', 'WON', 'WON', 'WON', 'WON', 'WON', 'WON', 'WON', 'WON', 'WON', 'WON', 'WON', 'WON', 'WON', 'WON', 'WON', 'WON', 'WON', 'WON', 'WON', 'WON', 'WON', 'WON', 'WON', 'WON', 'WON', 'WON', 'WON', 'WON', 'WON', 'WON', 'WON', 'WON', 'WON', 'WON', 'WON', 'WON', 'WON', 'WON', 'WON', 'WON', 'WON', 'WON', 'WON', 'WON', 'WON', 'WON', 'WON', 'WON', 'WON', 'WON', 'WON', 'WON', 'WON', 'WON', 'WON', 'WON', 'WON', 'WON', 'WON', 'WON', 'WON', 'WON', 'WON', 'WON', 'WON', 'WON', 'WON', 'WON', 'WON', 'WON', 'WON', 'WON', 'WON', 'WON', 'WON', 'WON', 'WON', 'WON', 'WON', 'WON', 'WON', 'WON', 'WON', 'WON', 'WON', 'WON', 'WON', 'WON', 'WON', 'WON', 'WON', 'WON', 'WON', 'WON', 'WON', 'WON', 'WON', 'WON', 'WON', 'WON', 'WON', 'WON', 'WON', 'WON', 'WON', 'WON', 'WON', 'WON', 'WON', 'WON', 'WON', 'WON', 'WON', 'WON', 'WON', 'WON', 'WON', 'WON', 'WON', 'WON', 'WON', 'WON', 'WON', 'WON', 'WON', 'WON', 'WON', 'WON', 'WON', 'WON', 'WON', 'WON', 'WON', 'WON', 'WON', 'WON', 'WON', 'WON', 'WON', 'WON', 'WON', 'WON', 'WON', 'WON', 'WON', 'WON', 'WON', 'WON', 'WON', 'WON', 'WON', 'WON', 'WON', 'WON', 'WON', 'WON', 'WON', 'WON', 'WON', 'WON', 'WON', 'WON', 'WON', 'WON', 'WON', 'WON', 'WON', 'WON', 'WON', 'WON', 'WON', 'WON', 'WON', 'WON', 'WON', 'WON', 'WON', 'WON', 'WON', 'WON', 'WON', 'WON', 'WON', 'WON', 'WON', 'WON', 'WON', 'WON', 'WON', 'WON', 'WON', 'WON', 'WON', 'WON', 'WON', 'WON', 'WON', 'WON', 'WON', 'WON', 'WON', 'WON', 'WON', 'WON', 'WON', 'WON', 'WON', 'WON', 'WON', 'WON', 'WON', 'WON', 'WON', 'WON', 'WON', 'WON', 'WON', 'WON', 'WON', 'WON', 'WON', 'WON', 'WON', 'WON', 'WON', 'WON', 'WON', 'WON', 'WON', 'WON', 'WON', 'WON', 'WON', 'WON', 'WON', 'WON', 'WON', 'WON', 'WON', 'WON', 'WON', 'WON', 'WON', 'WON', 'WON', 'WON', 'WON', 'WON', 'WON', 'WON', 'WON', 'WON', 'WON', 'WON', 'WON', 'WON', 'WON', 'WON', 'WON', 'WON', 'WON', 'WON', 'WON', 'WON', 'WON', 'WON', 'WON', 'WON', 'WON', 'WON', 'WON', 'WON', 'WON', 'WON', 'WON', 'WON', 'WON', 'WON', 'WON', 'WON', 'WON', 'WON', 'WON', 'WON', 'WON', 'WON', 'WON', 'WON', 'WON', 'WON', 'WON', 'WON', 'WON', 'WON', 'WON', 'WON', 'WON', 'WON', 'WON', 'WON', 'WON', 'WON', 'WON', 'WON', 'WON', 'WON', 'WON', 'WON', 'WON', 'WON', 'WON', 'WON', 'WON', 'WON', 'WON', 'WON', 'WON', 'WON', 'WON', 'WON', 'WON', 'WON', 'WON', 'WON', 'WON', 'WON', 'WON', 'WON', 'WON', 'WON', 'WON', 'WON', 'WON', 'WON', 'WON', 'WON', 'WON', 'WON', 'WON', 'WON', 'WON', 'WON', 'WON', 'WON', 'WON', 'WON', 'WON', 'WON', 'WON', 'WON', 'WON', 'WON', 'WON', 'WON', 'WON', 'WON', 'WON', 'WON', 'WON', 'WON', 'WON', 'WON', 'WON', 'WON', 'WON', 'WON', 'WON', 'WON', 'WON', 'WON', 'WON', 'WON', 'WON', 'WON', 'WON', 'WON', 'WON', 'WON', 'WON', 'WON', 'WON', 'WON', 'WON', 'WON', 'WON', 'WON', 'WON', 'WON', 'WON', 'WON', 'WON', 'WON', 'WON', 'WON', 'WON', 'WON', 'WON', 'WON', 'WON', 'WON', 'WON', 'WON', 'WON', 'WON', 'WON', 'WON', 'WON', 'WON', 'WON', 'WON', 'WON', 'WON', 'WON', 'WON', 'WON', 'WON', 'WON', 'WON', 'WON', 'WON', 'WON', 'WON', 'WON', 'WON', 'WON', 'WON', 'WON', 'WON', 'WON', 'WON', 'WON', 'WON', 'WON', 'WON', 'WON', 'WON', 'WON', 'WON', 'WON', 'WON', 'WON', 'WON', 'WON', 'WON', 'WON', 'WON', 'WON', 'WON', 'WON', 'WON', 'WON', 'WON', 'WON', 'WON', 'WON', 'WON', 'WON', 'WON', 'WON', 'WON', 'WON', 'WON', 'WON', 'WON', 'WON', 'WON', 'WON', 'WON', 'WON', 'WON', 'WON', 'WON', 'WON', 'WON', 'WON', 'WON', 'WON', 'WON', 'WON', 'WON', 'WON', 'WON', 'WON', 'WON', 'WON', 'WON', 'WON', 'WON', 'WON', 'WON', 'WON', 'WON', 'WON', 'WON', 'WON', 'WON', 'WON', 'WON', 'WON', 'WON', 'WON', 'WON', 'WON', 'WON', 'WON', 'WON', 'WON', 'WON', 'WON', 'WON', 'WON', 'WON', 'WON', 'WON', 'WON', 'WON', 'WON', 'WON', 'WON', 'WON', 'WON', 'WON', 'WON', 'WON', 'WON', 'WON', 'WON', 'WON', 'WON', 'WON', 'WON', 'WON', 'WON', 'WON', 'WON', 'WON', 'WON', 'WON', 'WON', 'WON', 'WON', 'WON', 'WON', 'WON', 'WON', 'WON', 'WON', 'WON', 'WON', 'WON', 'WON', 'WON', 'WON', 'WON', 'WON', 'WON', 'WON', 'WON', 'WON', 'WON', 'WON', 'WON', 'WON', 'WON', 'WON', 'WON', 'WON', 'WON', 'WON', 'WON', 'WON', 'WON', 'WON', 'WON', 'WON', 'WON', 'WON', 'WON', 'WON', 'WON', 'WON', 'WON', 'WON', 'WON', 'WON', 'WON', 'WON', 'WON', 'WON', 'WON', 'WON', 'WON', 'WON', 'WON', 'WON', 'WON', 'WON', 'WON', 'WON', 'WON', 'WON', 'WON', 'WON', 'WON', 'WON', 'WON', 'WON', 'WON', 'WON', 'WON', 'WON', 'WON', 'WON', 'WON', 'WON', 'WON', 'WON', 'WON', 'WON', 'WON', 'WON', 'WON', 'WON', 'WON', 'WON', 'WON', 'WON', 'WON', 'WON', 'WON', 'WON', 'WON', 'WON', 'WON', 'WON', 'WON', 'WON', 'WON', 'WON', 'WON', 'WON', 'WON', 'WON', 'WON', 'WON', 'WON', 'WON', 'WON', 'WON', 'WON', 'WON', 'WON', 'WON', 'WON', 'WON', 'WON', 'WON', 'WON', 'WON', 'WON', 'WON', 'WON', 'WON', 'WON', 'WON', 'WON', 'WON', 'WON', 'WON', 'WON', 'WON', 'WON', 'WON', 'WON', 'WON', 'WON', 'WON', 'WON', 'WON', 'WON', 'WON', 'WON', 'WON', 'WON', 'WON', 'WON', 'WON', 'WON', 'WON', 'WON', 'WON', 'WON', 'WON', 'WON', 'WON', 'WON', 'WON', 'WON', 'WON', 'WON', 'WON', 'WON', 'WON', 'WON', 'WON', 'WON', 'WON', 'WON', 'WON', 'WON', 'WON', 'WON', 'WON', 'WON', 'WON', 'WON', 'WON', 'WON', 'WON', 'WON', 'WON', 'WON', 'WON', 'WON', 'WON', 'WON', 'WON', 'WON', 'WON', 'WON', 'WON', 'WON', 'WON', 'WON', 'WON', 'WON', 'WON', 'WON', 'WON', 'WON', 'WON', 'WON', 'WON', 'WON', 'WON', 'WON', 'WON', 'WON', 'WON', 'WON', 'WON', 'WON', 'WON', 'WON', 'WON', 'WON', 'WON', 'WON', 'WON', 'WON', 'WON', 'WON', 'WON', 'WON', 'WON', 'WON', 'WON', 'WON', 'WON', 'WON', 'WON', 'WON', 'WON', 'WON', 'WON', 'WON', 'WON', 'WON', 'WON', 'WON', 'WON', 'WON', 'WON', 'WON', 'WON', 'WON', 'WON', 'WON', 'WON', 'WON', 'WON', 'WON', 'WON', 'WON', 'WON', 'WON', 'WON', 'WON', 'WON', 'WON', 'WON', 'WON', 'WON', 'WON', 'WON', 'WON', 'WON', 'WON', 'WON', 'WON', 'WON', 'WON', 'WON', 'WON', 'WON', 'WON', 'WON', 'WON', 'WON', 'WON', 'WON', 'WON', 'WON', 'WON', 'WON', 'WON', 'WON', 'WON', 'WON', 'WON', 'WON', 'WON', 'WON', 'WON', 'WON', 'WON', 'WON', 'WON', 'WON', 'WON', 'WON', 'WON', 'WON', 'WON', 'WON', 'WON', 'WON', 'WON', 'WON', 'WON', 'WON', 'WON', 'WON', 'WON', 'WON', 'WON', 'WON', 'WON', 'WON', 'WON', 'WON', 'WON', 'WON', 'WON', 'WON', 'WON', 'WON', 'WON', 'WON', 'WON', 'WON', 'WON', 'WON', 'WON', 'WON', 'WON', 'WON', 'WON', 'WON', 'WON', 'WON', 'WON', 'WON', 'WON', 'WON', 'WON', 'WON', 'WON', 'WON', 'WON', 'WON', 'WON', 'WON', 'WON', 'WON', 'WON', 'WON', 'WON', 'WON', 'WON', 'WON', 'WON', 'WON', 'WON', 'WON', 'WON', 'WON', 'WON', 'WON', 'WON', 'WON', 'WON', 'WON', 'WON', 'WON', 'WON', 'WON', 'WON', 'WON', 'WON', 'WON', 'WON', 'WON', 'WON', 'WON', 'WON', 'WON', 'WON', 'WON', 'WON', 'WON', 'WON', 'WON', 'WON', 'WON', 'WON', 'WON', 'WON', 'WON', 'WON', 'WON', 'WON', 'WON', 'WON', 'WON', 'WON', 'WON', 'WON', 'WON', 'WON', 'WON', 'WON', 'WON', 'WON', 'WON', 'WON', 'WON', 'WON', 'WON', 'WON', 'WON', 'WON', 'WON', 'WON', 'WON', 'WON', 'WON', 'WON', 'WON', 'WON', 'WON', 'WON', 'WON', 'WON', 'WON', 'WON', 'WON', 'WON', 'WON', 'WON', 'WON', 'WON', 'WON', 'WON', 'WON', 'WON', 'WON', 'WON', 'WON', 'WON', 'WON', 'WON', 'WON', 'WON', 'WON', 'WON', 'WON', 'WON', 'WON', 'WON', 'WON', 'WON', 'WON', 'WON', 'WON', 'WON', 'WON', 'WON', 'WON', 'WON', 'WON', 'WON', 'WON', 'WON', 'WON', 'WON', 'WON', 'WON', 'WON', 'WON', 'WON', 'WON', 'WON', 'WON', 'WON', 'WON', 'WON', 'WON', 'WON', 'WON', 'WON', 'WON', 'WON', 'WON', 'WON', 'WON', 'WON', 'WON', 'WON', 'WON', 'WON', 'WON', 'WON', 'WON', 'WON', 'WON', 'WON', 'WON', 'WON', 'WON', 'WON', 'WON', 'WON', 'WON', 'WON', 'WON', 'WON', 'WON', 'WON', 'WON', 'WON', 'WON', 'WON', 'WON', 'WON', 'WON', 'WON', 'WON', 'WON', 'WON', 'WON', 'WON', 'WON', 'WON', 'WON', 'WON', 'WON', 'WON', 'WON', 'WON', 'WON', 'WON', 'WON', 'WON', 'WON', 'WON', 'WON', 'WON', 'WON', 'WON', 'WON', 'WON', 'WON', 'WON', 'WON', 'WON', 'WON', 'WON', 'WON', 'WON', 'WON', 'WON', 'WON', 'WON', 'WON', 'WON', 'WON', 'WON', 'WON', 'WON', 'WON', 'WON', 'WON', 'WON', 'WON', 'WON', 'WON', 'WON', 'WON', 'WON', 'WON', 'WON', 'WON', 'WON', 'WON', 'WON', 'WON', 'WON', 'WON', 'WON', 'WON', 'WON', 'WON', 'WON', 'WON', 'WON', 'WON', 'WON', 'WON', 'WON', 'WON', 'WON', 'WON', 'WON', 'WON', 'WON', 'WON', 'WON', 'WON', 'WON', 'WON', 'WON', 'WON', 'WON', 'WON', 'WON', 'WON', 'WON', 'WON', 'WON', 'WON', 'WON', 'WON', 'WON', 'WON', 'WON', 'WON', 'WON', 'WON', 'WON', 'WON', 'WON', 'WON', 'WON', 'WON', 'WON', 'WON', 'WON', 'WON', 'WON', 'WON', 'WON', 'WON', 'WON', 'WON', 'WON', 'WON', 'WON', 'WON', 'WON', 'WON', 'WON', 'WON', 'WON', 'WON', 'WON', 'WON', 'WON', 'WON', 'WON', 'WON', 'WON', 'WON', 'WON', 'WON', 'WON', 'WON', 'WON', 'WON', 'WON', 'WON', 'WON', 'WON', 'WON', 'WON', 'WON', 'WON', 'WON', 'WON', 'WON', 'WON', 'WON', 'WON', 'WON', 'WON', 'WON', 'WON', 'WON', 'WON', 'WON', 'WON', 'WON', 'WON', 'WON', 'WON', 'WON', 'WON', 'WON', 'WON', 'WON', 'WON', 'WON', 'WON', 'WON', 'WON', 'WON', 'WON', 'WON', 'WON', 'WON', 'WON', 'WON', 'WON', 'WON', 'WON', 'WON', 'WON', 'WON', 'WON', 'WON', 'WON', 'WON', 'WON', 'WON', 'WON', 'WON', 'WON', 'WON', 'WON', 'WON', 'WON', 'WON', 'WON', 'WON', 'WON', 'WON', 'WON', 'WON', 'WON', 'WON', 'WON', 'WON', 'WON', 'WON', 'WON', 'WON', 'WON', 'WON', 'WON', 'WON', 'WON', 'WON', 'WON', 'WON', 'WON', 'WON', 'WON', 'WON', 'WON', 'WON', 'WON', 'WON', 'WON', 'WON', 'WON', 'WON', 'WON', 'WON', 'WON', 'WON', 'WON', 'WON', 'WON', 'WON', 'WON', 'WON', 'WON', 'WON', 'WON', 'WON', 'WON', 'WON', 'WON', 'WON', 'WON', 'WON', 'WON', 'WON', 'WON', 'WON', 'WON', 'WON', 'WON', 'WON', 'WON', 'WON', 'WON', 'WON', 'WON', 'WON', 'WON', 'WON', 'WON', 'WON', 'WON', 'WON', 'WON', 'WON', 'WON', 'WON', 'WON', 'WON', 'WON', 'WON', 'WON', 'WON', 'WON', 'WON', 'WON', 'WON', 'WON', 'WON', 'WON', 'WON', 'WON', 'WON', 'WON', 'WON', 'WON', 'WON', 'WON', 'WON', 'WON', 'WON', 'WON', 'WON', 'WON', 'WON', 'WON', 'WON', 'WON', 'WON', 'WON', 'WON', 'WON', 'WON', 'WON', 'WON', 'WON', 'WON', 'WON', 'WON', 'WON', 'WON', 'WON', 'WON', 'WON', 'WON', 'WON', 'WON', 'WON', 'WON', 'WON', 'WON', 'WON', 'WON', 'WON', 'WON', 'WON', 'WON', 'WON', 'WON', 'WON', 'WON', 'WON', 'WON', 'WON', 'WON', 'WON', 'WON', 'WON', 'WON', 'WON', 'WON', 'WON', 'WON', 'WON', 'WON', 'WON', 'WON', 'WON', 'WON', 'WON', 'WON', 'WON', 'WON', 'WON', 'WON', 'WON', 'WON', 'WON', 'WON', 'WON', 'WON', 'WON', 'WON', 'WON', 'WON', 'WON', 'WON', 'WON', 'WON', 'WON', 'WON', 'WON', 'WON', 'WON', 'WON', 'WON', 'WON', 'WON', 'WON', 'WON', 'WON', 'WON', 'WON', 'WON', 'WON', 'WON', 'WON', 'WON', 'WON', 'WON', 'WON', 'WON', 'WON', 'WON', 'WON', 'WON', 'WON', 'WON', 'WON', 'WON', 'WON', 'WON', 'WON', 'WON', 'WON', 'WON', 'WON', 'WON', 'WON', 'WON', 'WON', 'WON', 'WON', 'WON', 'WON', 'WON', 'WON', 'WON', 'WON', 'WON', 'WON', 'WON', 'WON', 'WON', 'WON', 'WON', 'WON', 'WON', 'WON', 'WON', 'WON', 'WON', 'WON', 'WON', 'WON', 'WON', 'WON', 'WON', 'WON', 'WON', 'WON', 'WON', 'WON', 'WON', 'WON', 'WON', 'WON', 'WON', 'WON', 'WON', 'WON', 'WON', 'WON', 'WON', 'WON', 'WON', 'WON', 'WON', 'WON', 'WON', 'WON', 'WON', 'WON', 'WON', 'WON', 'WON', 'WON', 'WON', 'WON', 'WON', 'WON', 'WON', 'WON', 'WON', 'WON', 'WON', 'WON', 'WON', 'WON', 'WON', 'WON', 'WON', 'WON', 'WON', 'WON', 'WON', 'WON', 'WON', 'WON', 'WON', 'WON', 'WON', 'WON', 'WON', 'WON', 'WON', 'WON', 'WON', 'WON', 'WON', 'WON', 'WON', 'WON', 'WON', 'WON', 'WON', 'WON', 'WON', 'WON', 'WON', 'WON', 'WON', 'WON', 'WON', 'WON', 'WON', 'WON', 'WON', 'WON', 'WON', 'WON', 'WON', 'WON', 'WON', 'WON', 'WON', 'WON', 'WON', 'WON', 'WON', 'WON', 'WON', 'WON', 'WON', 'WON', 'WON', 'WON', 'WON', 'WON', 'WON', 'WON', 'WON', 'WON', 'WON', 'WON', 'WON', 'WON', 'WON', 'WON', 'WON', 'WON', 'WON', 'WON', 'WON', 'WON', 'WON', 'WON', 'WON', 'WON', 'WON', 'WON', 'WON', 'WON', 'WON', 'WON', 'WON', 'WON', 'WON', 'WON', 'WON', 'WON', 'WON', 'WON', 'WON', 'WON', 'WON', 'WON', 'WON', 'WON', 'WON', 'WON', 'WON', 'WON', 'WON', 'WON', 'WON', 'WON', 'WON', 'WON', 'WON', 'WON', 'WON', 'WON', 'WON', 'WON', 'WON', 'WON', 'WON', 'WON', 'WON', 'WON', 'WON', 'WON', 'WON', 'WON', 'WON', 'WON', 'WON', 'WON', 'WON', 'WON', 'WON', 'WON', 'WON', 'WON', 'WON', 'WON', 'WON', 'WON', 'WON', 'WON', 'WON', 'WON', 'WON', 'WON', 'WON', 'WON', 'WON', 'WON', 'WON', 'WON', 'WON', 'WON', 'WON', 'WON', 'WON', 'WON', 'WON', 'WON', 'WON', 'WON', 'WON', 'WON', 'WON', 'WON', 'WON', 'WON', 'WON', 'WON', 'WON', 'WON', 'WON', 'WON', 'WON', 'WON', 'WON', 'WON', 'WON', 'WON', 'WON', 'WON', 'WON', 'WON', 'WON', 'WON', 'WON', 'WON', 'WON', 'WON', 'WON', 'WON', 'WON', 'WON', 'WON', 'WON', 'WON', 'WON', 'WON', 'WON', 'WON', 'WON', 'WON', 'WON', 'WON', 'WON', 'WON', 'WON', 'WON', 'WON', 'WON', 'WON', 'WON', 'WON', 'WON', 'WON', 'WON', 'WON', 'WON', 'WON', 'WON', 'WON', 'WON', 'WON', 'WON', 'WON', 'WON', 'WON', 'WON', 'WON', 'WON', 'WON', 'WON', 'WON', 'WON', 'WON', 'WON', 'WON', 'WON', 'WON', 'WON', 'WON', 'WON', 'WON', 'WON', 'WON', 'WON', 'WON', 'WON', 'WON', 'WON', 'WON', 'WON', 'WON', 'WON', 'WON', 'WON', 'WON', 'WON', 'WON', 'WON', 'WON', 'WON', 'WON', 'WON', 'WON', 'WON', 'WON', 'WON', 'WON', 'WON', 'WON', 'WON', 'WON', 'WON', 'WON', 'WON', 'WON', 'WON', 'WON', 'WON', 'WON', 'WON', 'WON', 'WON', 'WON', 'WON', 'WON', 'WON', 'WON', 'WON', 'WON', 'WON', 'WON', 'WON', 'WON', 'WON', 'WON', 'WON', 'WON', 'WON', 'WON', 'WON', 'WON', 'WON', 'WON', 'WON', 'WON', 'WON', 'WON', 'WON', 'WON', 'WON', 'WON', 'WON', 'WON', 'WON', 'WON', 'WON', 'WON', 'WON', 'WON', 'WON', 'WON', 'WON', 'WON', 'WON', 'WON', 'WON', 'WON', 'WON', 'WON', 'WON', 'WON', 'WON', 'WON', 'WON', 'WON', 'WON', 'WON', 'WON', 'WON', 'WON', 'WON', 'WON', 'WON', 'WON', 'WON', 'WON', 'WON', 'WON', 'WON', 'WON', 'WON', 'WON', 'WON', 'WON', 'WON', 'WON', 'WON', 'WON', 'WON', 'WON', 'WON', 'WON', 'WON', 'WON', 'WON', 'WON', 'WON', 'WON', 'WON', 'WON', 'WON', 'WON', 'WON', 'WON', 'WON', 'WON', 'WON', 'WON', 'WON', 'WON', 'WON', 'WON', 'WON', 'WON', 'WON', 'WON', 'WON', 'WON', 'WON', 'WON', 'WON', 'WON', 'WON', 'WON', 'WON', 'WON', 'WON', 'WON', 'WON', 'WON', 'WON', 'WON', 'WON', 'WON', 'WON', 'WON', 'WON', 'WON', 'WON', 'WON', 'WON', 'WON', 'WON', 'WON', 'WON', 'WON', 'WON', 'WON', 'WON', 'WON', 'WON', 'WON', 'WON', 'WON', 'WON', 'WON', 'WON', 'WON', 'WON', 'WON', 'WON', 'WON', 'WON', 'WON', 'WON', 'WON', 'WON', 'WON', 'WON', 'WON', 'WON', 'WON', 'WON', 'WON', 'WON', 'WON', 'WON', 'WON', 'WON', 'WON', 'WON', 'WON', 'WON', 'WON', 'WON', 'WON', 'WON', 'WON', 'WON', 'WON', 'WON', 'WON', 'WON', 'WON', 'WON', 'WON', 'WON', 'WON', 'WON', 'WON', 'WON', 'WON', 'WON', 'WON', 'WON', 'WON', 'WON', 'WON', 'WON', 'WON', 'WON', 'WON', 'WON', 'WON', 'WON', 'WON', 'WON', 'WON', 'WON', 'WON', 'WON', 'WON', 'WON', 'WON', 'WON', 'WON', 'WON', 'WON', 'WON', 'WON', 'WON', 'WON', 'WON', 'WON', 'WON', 'WON', 'WON', 'WON', 'WON', 'WON', 'WON', 'WON', 'WON', 'WON', 'WON', 'WON', 'WON', 'WON', 'WON', 'WON', 'WON', 'WON', 'WON', 'WON', 'WON', 'WON', 'WON', 'WON', 'WON', 'WON', 'WON', 'WON', 'WON', 'WON', 'WON', 'WON', 'WON', 'WON', 'WON', 'WON', 'WON', 'WON', 'WON', 'WON', 'WON', 'WON', 'WON', 'WON', 'WON', 'WON', 'WON', 'WON', 'WON', 'WON', 'WON', 'WON', 'WON', 'WON', 'WON', 'WON', 'WON', 'WON', 'WON', 'WON', 'WON', 'WON', 'WON', 'WON', 'WON', 'WON', 'WON', 'WON', 'WON', 'WON', 'WON', 'WON', 'WON', 'WON', 'WON', 'WON', 'WON', 'WON', 'WON', 'WON', 'WON', 'WON', 'WON', 'WON', 'WON', 'WON', 'WON', 'WON', 'WON', 'WON', 'WON', 'WON', 'WON', 'WON', 'WON', 'WON', 'WON', 'WON', 'WON', 'WON', 'WON', 'WON', 'WON', 'WON', 'WON', 'WON', 'WON', 'WON', 'WON', 'WON', 'WON', 'WON', 'WON', 'WON', 'WON', 'WON', 'WON', 'WON', 'WON', 'WON', 'WON', 'WON', 'WON', 'WON', 'WON', 'WON', 'WON', 'WON', 'WON', 'WON', 'WON', 'WON', 'WON', 'WON', 'WON', 'WON', 'WON', 'WON', 'WON', 'WON', 'WON', 'WON', 'WON', 'WON', 'WON', 'WON', 'WON', 'WON', 'WON', 'WON', 'WON', 'WON', 'WON', 'WON', 'WON', 'WON', 'WON', 'WON', 'WON', 'WON', 'WON', 'WON', 'WON', 'WON', 'WON', 'WON', 'WON', 'WON', 'WON', 'WON', 'WON', 'WON', 'WON', 'WON', 'WON', 'WON', 'WON', 'WON', 'WON', 'WON', 'WON', 'WON', 'WON', 'WON', 'WON', 'WON', 'WON', 'WON', 'WON', 'WON', 'WON', 'WON', 'WON', 'WON', 'WON', 'WON', 'WON', 'WON', 'WON', 'WON', 'WON', 'WON', 'WON', 'WON', 'WON', 'WON', 'WON', 'WON', 'WON', 'WON', 'WON', 'WON', 'WON', 'WON', 'WON', 'WON', 'WON', 'WON', 'WON', 'WON', 'WON', 'WON', 'WON', 'WON', 'WON', 'WON', 'WON', 'WON', 'WON', 'WON', 'WON', 'WON', 'WON', 'WON', 'WON', 'WON', 'WON', 'WON', 'WON', 'WON', 'WON', 'WON', 'WON', 'WON', 'WON', 'WON', 'WON', 'WON', 'WON', 'WON', 'WON', 'WON', 'WON', 'WON', 'WON', 'WON', 'WON', 'WON', 'WON', 'WON', 'WON', 'WON', 'WON', 'WON', 'WON', 'WON', 'WON', 'WON', 'WON', 'WON', 'WON', 'WON', 'WON', 'WON', 'WON', 'WON', 'WON', 'WON', 'WON', 'WON', 'WON', 'WON', 'WON', 'WON', 'WON', 'WON', 'WON', 'WON', 'WON', 'WON', 'WON', 'WON', 'WON', 'WON', 'WON', 'WON', 'WON', 'WON', 'WON', 'WON', 'WON', 'WON', 'WON', 'WON', 'WON', 'WON', 'WON', 'WON', 'WON', 'WON', 'WON', 'WON', 'WON', 'WON', 'WON', 'WON', 'WON', 'WON', 'WON', 'WON', 'WON', 'WON', 'WON', 'WON', 'WON', 'WON', 'WON', 'WON', 'WON', 'WON', 'WON', 'WON', 'WON', 'WON', 'WON', 'WON', 'WON', 'WON', 'WON', 'WON', 'WON', 'WON', 'WON', 'WON', 'WON', 'WON', 'WON', 'WON', 'WON', 'WON', 'WON', 'WON', 'WON', 'WON', 'WON', 'WON', 'WON', 'WON', 'WON', 'WON', 'WON', 'WON', 'WON', 'WON', 'WON', 'WON', 'WON', 'WON', 'WON', 'WON', 'WON', 'WON', 'WON', 'WON', 'WON', 'WON', 'WON', 'WON', 'WON', 'WON', 'WON', 'WON', 'WON', 'WON', 'WON', 'WON', 'WON', 'WON', 'WON', 'WON', 'WON', 'WON', 'WON', 'WON', 'WON', 'WON', 'WON', 'WON', 'WON', 'WON', 'WON', 'WON', 'WON', 'WON', 'WON', 'WON', 'WON', 'WON', 'WON', 'WON', 'WON', 'WON', 'WON', 'WON', 'WON', 'WON', 'WON', 'WON', 'WON', 'WON', 'WON', 'WON', 'WON', 'WON', 'WON', 'WON', 'WON', 'WON', 'WON', 'WON', 'WON', 'WON', 'WON', 'WON', 'WON', 'WON', 'WON', 'WON', 'WON', 'WON', 'WON', 'WON', 'WON', 'WON', 'WON', 'WON', 'WON', 'WON', 'WON', 'WON', 'WON', 'WON', 'WON', 'WON', 'WON', 'WON', 'WON', 'WON', 'WON', 'WON', 'WON', 'WON', 'WON', 'WON', 'WON', 'WON', 'WON', 'WON', 'WON', 'WON', 'WON', 'WON', 'WON', 'WON', 'WON', 'WON', 'WON', 'WON', 'WON', 'WON', 'WON', 'WON', 'WON', 'WON', 'WON', 'WON', 'WON', 'WON', 'WON', 'WON', 'WON', 'WON', 'WON', 'WON', 'WON', 'WON', 'WON', 'WON', 'WON', 'WON', 'WON', 'WON', 'WON', 'WON', 'WON', 'WON', 'WON', 'WON', 'WON', 'WON', 'WON', 'WON', 'WON', 'WON', 'WON', 'WON', 'WON', 'WON', 'WON', 'WON', 'WON', 'WON', 'WON', 'WON', 'WON', 'WON', 'WON', 'WON', 'WON', 'WON', 'WON', 'WON', 'WON', 'WON', 'WON', 'WON', 'WON', 'WON', 'WON', 'WON', 'WON', 'WON', 'WON', 'WON', 'WON', 'WON', 'WON', 'WON', 'WON', 'WON', 'WON', 'WON', 'WON', 'WON', 'WON', 'WON', 'WON', 'WON', 'WON', 'WON', 'WON', 'WON', 'WON', 'WON', 'WON', 'WON', 'WON', 'WON', 'WON', 'WON', 'WON', 'WON', 'WON', 'WON', 'WON', 'WON', 'WON', 'WON', 'WON', 'WON', 'WON', 'WON', 'WON', 'WON', 'WON', 'WON', 'WON', 'WON', 'WON', 'WON', 'WON', 'WON', 'WON', 'WON', 'WON', 'WON', 'WON', 'WON', 'WON', 'WON', 'WON', 'WON', 'WON', 'WON', 'WON', 'WON', 'WON', 'WON', 'WON', 'WON', 'WON', 'WON', 'WON', 'WON', 'WON', 'WON', 'WON', 'WON', 'WON', 'WON', 'WON', 'WON', 'WON', 'WON', 'WON', 'WON', 'WON', 'WON', 'WON', 'WON', 'WON', 'WON', 'WON', 'WON', 'WON', 'WON', 'WON', 'WON', 'WON', 'WON', 'WON', 'WON', 'WON', 'WON', 'WON', 'WON', 'WON', 'WON', 'WON', 'WON', 'WON', 'WON', 'WON', 'WON', 'WON', 'WON', 'WON', 'WON', 'WON', 'WON', 'WON', 'WON', 'WON', 'WON', 'WON', 'WON', 'WON', 'WON', 'WON', 'WON', 'WON', 'WON', 'WON', 'WON', 'WON', 'WON', 'WON', 'WON', 'WON', 'WON', 'WON', 'WON', 'WON', 'WON', 'WON', 'WON', 'WON', 'WON', 'WON', 'WON', 'WON', 'WON', 'WON', 'WON', 'WON', 'WON', 'WON', 'WON', 'WON', 'WON', 'WON', 'WON', 'WON', 'WON', 'WON', 'WON', 'WON', 'WON', 'WON', 'WON', 'WON', 'WON', 'WON', 'WON', 'WON', 'WON', 'WON', 'WON', 'WON', 'WON', 'WON', 'WON', 'WON', 'WON', 'WON', 'WON', 'WON', 'WON', 'WON', 'WON', 'WON', 'WON', 'WON', 'WON', 'WON', 'WON', 'WON', 'WON', 'WON', 'WON', 'WON', 'WON', 'WON', 'WON', 'WON', 'WON', 'WON', 'WON', 'WON', 'WON', 'WON', 'WON', 'WON', 'WON', 'WON', 'WON', 'WON', 'WON', 'WON', 'WON', 'WON', 'WON', 'WON', 'WON', 'WON', 'WON', 'WON', 'WON', 'WON', 'WON', 'WON', 'WON', 'WON', 'WON', 'WON', 'WON', 'WON', 'WON', 'WON', 'WON', 'WON', 'WON', 'WON', 'WON', 'WON', 'WON', 'WON', 'WON', 'WON', 'WON', 'WON', 'WON', 'WON', 'WON', 'WON', 'WON', 'WON', 'WON', 'WON', 'WON', 'WON', 'WON', 'WON', 'WON', 'WON', 'WON', 'WON', 'WON', 'WON', 'WON', 'WON', 'WON', 'WON', 'WON', 'WON', 'WON', 'WON', 'WON', 'WON', 'WON', 'WON', 'WON', 'WON', 'WON', 'WON', 'WON', 'WON', 'WON', 'WON', 'WON', 'WON', 'WON', 'WON', 'WON', 'WON', 'WON', 'WON', 'WON', 'WON', 'WON', 'WON', 'WON', 'WON', 'WON', 'WON', 'WON', 'WON', 'WON', 'WON', 'WON', 'WON', 'WON', 'WON', 'WON', 'WON', 'WON', 'WON', 'WON', 'WON', 'WON', 'WON', 'WON', 'WON', 'WON', 'WON', 'WON', 'WON', 'WON', 'WON', 'WON', 'WON', 'WON', 'WON', 'WON', 'WON', 'WON', 'WON', 'WON', 'WON', 'WON', 'WON', 'WON', 'WON', 'WON', 'WON', 'WON', 'WON', 'WON', 'WON', 'WON', 'WON', 'WON', 'WON', 'WON', 'WON', 'WON', 'WON', 'WON', 'WON', 'WON', 'WON', 'WON', 'WON', 'WON', 'WON', 'WON', 'WON', 'WON', 'WON', 'WON', 'WON', 'WON', 'WON', 'WON', 'WON', 'WON', 'WON', 'WON', 'WON', 'WON', 'WON', 'WON', 'WON', 'WON', 'WON', 'WON', 'WON', 'WON', 'WON', 'WON', 'WON', 'WON', 'WON', 'WON', 'WON', 'WON', 'WON', 'WON', 'WON', 'WON', 'WON', 'WON', 'WON', 'WON', 'WON', 'WON', 'WON', 'WON', 'WON', 'WON', 'WON', 'WON', 'WON', 'WON', 'WON', 'WON', 'WON', 'WON', 'WON', 'WON', 'WON', 'WON', 'WON', 'WON', 'WON', 'WON', 'WON', 'WON', 'WON', 'WON', 'WON', 'WON', 'WON', 'WON', 'WON', 'WON', 'WON', 'WON', 'WON', 'WON', 'WON', 'WON', 'WON', 'WON', 'WON', 'WON', 'WON', 'WON', 'WON', 'WON', 'WON', 'WON', 'WON', 'WON', 'WON', 'WON', 'WON', 'WON', 'WON', 'WON', 'WON', 'WON', 'WON', 'WON', 'WON', 'WON', 'WON', 'WON', 'WON', 'WON', 'WON', 'WON', 'WON', 'WON', 'WON', 'WON', 'WON', 'WON', 'WON', 'WON', 'WON', 'WON', 'WON', 'WON', 'WON', 'WON', 'WON', 'WON', 'WON', 'WON', 'WON', 'WON', 'WON', 'WON', 'WON', 'WON', 'WON', 'WON', 'WON', 'WON', 'WON', 'WON', 'WON', 'WON', 'WON', 'WON', 'WON', 'WON', 'WON', 'WON', 'WON', 'WON', 'WON', 'WON', 'WON', 'WON', 'WON', 'WON', 'WON', 'WON', 'WON', 'WON', 'WON', 'WON', 'WON', 'WON', 'WON', 'WON', 'WON', 'WON', 'WON', 'WON', 'WON', 'WON', 'WON', 'WON', 'WON', 'WON', 'WON', 'WON', 'WON', 'WON', 'WON', 'WON', 'WON', 'WON', 'WON', 'WON', 'WON', 'WON', 'WON', 'WON', 'WON', 'WON', 'WON', 'WON', 'WON', 'WON', 'WON', 'WON', 'WON', 'WON', 'WON', 'WON', 'WON', 'WON', 'WON', 'WON', 'WON', 'WON', 'WON', 'WON', 'WON', 'WON', 'WON', 'WON', 'WON', 'WON', 'WON', 'WON', 'WON', 'WON', 'WON', 'WON', 'WON', 'WON', 'WON', 'WON', 'WON', 'WON', 'WON', 'WON', 'WON', 'WON', 'WON', 'WON', 'WON', 'WON', 'WON', 'WON', 'WON', 'WON', 'WON', 'WON', 'WON', 'WON', 'WON', 'WON', 'WON', 'WON', 'WON', 'WON', 'WON', 'WON', 'WON', 'WON', 'WON', 'WON', 'WON', 'WON', 'WON', 'WON', 'WON', 'WON', 'WON', 'WON', 'WON', 'WON', 'WON', 'WON', 'WON', 'WON', 'WON', 'WON', 'WON', 'WON', 'WON', 'WON', 'WON', 'WON', 'WON', 'WON', 'WON', 'WON', 'WON', 'WON', 'WON', 'WON', 'WON', 'WON', 'WON', 'WON', 'WON', 'WON', 'WON', 'WON', 'WON', 'WON', 'WON', 'WON', 'WON', 'WON', 'WON', 'WON', 'WON', 'WON', 'WON', 'WON', 'WON', 'WON', 'WON', 'WON', 'WON', 'WON', 'WON', 'WON', 'WON', 'WON', 'WON', 'WON', 'WON', 'WON', 'WON', 'WON', 'WON', 'WON', 'WON', 'WON', 'WON', 'WON', 'WON', 'WON', 'WON', 'WON', 'WON', 'WON', 'WON', 'WON', 'WON', 'WON', 'WON', 'WON', 'WON', 'WON', 'WON', 'WON', 'WON', 'WON', 'WON', 'WON', 'WON', 'WON', 'WON', 'WON', 'WON', 'WON', 'WON', 'WON', 'WON', 'WON', 'WON', 'WON', 'WON', 'WON', 'WON', 'WON', 'WON', 'WON', 'WON', 'WON', 'WON', 'WON', 'WON', 'WON', 'WON', 'WON', 'WON', 'WON', 'WON', 'WON', 'WON', 'WON', 'WON', 'WON', 'WON', 'WON', 'WON', 'WON', 'WON', 'WON', 'WON', 'WON', 'WON', 'WON', 'WON', 'WON', 'WON', 'WON', 'WON', 'WON', 'WON', 'WON', 'WON', 'WON', 'WON', 'WON', 'WON', 'WON', 'WON', 'WON', 'WON', 'WON', 'WON', 'WON', 'WON', 'WON', 'WON', 'WON', 'WON', 'WON', 'WON', 'WON', 'WON', 'WON', 'WON', 'WON', 'WON', 'WON', 'WON', 'WON', 'WON', 'WON', 'WON', 'WON', 'WON', 'WON', 'WON', 'WON', 'WON', 'WON', 'WON', 'WON', 'WON', 'WON', 'WON', 'WON', 'WON', 'WON', 'WON', 'WON', 'WON', 'WON', 'WON', 'WON', 'WON', 'WON', 'WON', 'WON', 'WON', 'WON', 'WON', 'WON', 'WON', 'WON', 'WON', 'WON', 'WON', 'WON', 'WON', 'WON', 'WON', 'WON', 'WON', 'WON', 'WON', 'WON', 'WON', 'WON', 'WON', 'WON', 'WON', 'WON', 'WON', 'WON', 'WON', 'WON', 'WON', 'WON', 'WON', 'WON', 'WON', 'WON', 'WON', 'WON', 'WON', 'WON', 'WON', 'WON', 'WON', 'WON', 'WON', 'WON', 'WON', 'WON', 'WON', 'WON', 'WON', 'WON', 'WON', 'WON', 'WON', 'WON', 'WON', 'WON', 'WON', 'WON', 'WON', 'WON', 'WON', 'WON', 'WON', 'WON', 'WON', 'WON', 'WON', 'WON', 'WON', 'WON', 'WON', 'WON', 'WON', 'WON', 'WON', 'WON', 'WON', 'WON', 'WON', 'WON', 'WON', 'WON', 'WON', 'WON', 'WON', 'WON', 'WON', 'WON', 'WON', 'WON', 'WON', 'WON', 'WON', 'WON', 'WON', 'WON', 'WON', 'WON', 'WON', 'WON', 'WON', 'WON', 'WON', 'WON', 'WON', 'WON', 'WON', 'WON', 'WON', 'WON', 'WON', 'WON', 'WON', 'WON', 'WON', 'WON', 'WON', 'WON', 'WON', 'WON', 'WON', 'WON', 'WON', 'WON', 'WON', 'WON', 'WON', 'WON', 'WON', 'WON', 'WON', 'WON', 'WON', 'WON', 'WON', 'WON', 'WON', 'WON', 'WON', 'WON', 'WON', 'WON', 'WON', 'WON', 'WON', 'WON', 'WON', 'WON', 'WON', 'WON', 'WON', 'WON', 'WON', 'WON', 'WON', 'WON', 'WON', 'WON', 'WON', 'WON', 'WON', 'WON', 'WON', 'WON', 'WON', 'WON', 'WON', 'WON', 'WON', 'WON', 'WON', 'WON', 'WON', 'WON', 'WON', 'WON', 'WON', 'WON', 'WON', 'WON', 'WON', 'WON', 'WON', 'WON', 'WON', 'WON', 'WON', 'WON', 'WON', 'WON', 'WON', 'WON', 'WON', 'WON', 'WON', 'WON', 'WON', 'WON', 'WON', 'WON', 'WON', 'WON', 'WON', 'WON', 'WON', 'WON', 'WON', 'WON', 'WON', 'WON', 'WON', 'WON', 'WON', 'WON', 'WON', 'WON', 'WON', 'WON', 'WON', 'WON', 'WON', 'WON', 'WON', 'WON', 'WON', 'WON', 'WON', 'WON', 'WON', 'WON', 'WON', 'WON', 'WON', 'WON', 'WON', 'WON', 'WON', 'WON', 'WON', 'WON', 'WON', 'WON', 'WON', 'WON', 'WON', 'WON', 'WON', 'WON', 'WON', 'WON', 'WON', 'WON', 'WON', 'WON', 'WON', 'WON', 'WON', 'WON', 'WON', 'WON', 'WON', 'WON', 'WON', 'WON', 'WON', 'WON', 'WON', 'WON', 'WON', 'WON', 'WON', 'WON', 'WON', 'WON', 'WON', 'WON', 'WON', 'WON', 'WON', 'WON', 'WON', 'WON', 'WON', 'WON', 'WON', 'WON', 'WON', 'WON', 'WON', 'WON', 'WON', 'WON', 'WON', 'WON', 'WON', 'WON', 'WON', 'WON', 'WON', 'WON', 'WON', 'WON', 'WON', 'WON', 'WON', 'WON', 'WON', 'WON', 'WON', 'WON', 'WON', 'WON', 'WON', 'WON', 'WON', 'WON', 'WON', 'WON', 'WON', 'WON', 'WON', 'WON', 'WON', 'WON', 'WON', 'WON', 'WON', 'WON', 'WON', 'WON', 'WON', 'WON', 'WON', 'WON', 'WON', 'WON', 'WON', 'WON', 'WON', 'WON', 'WON', 'WON', 'WON', 'WON', 'WON', 'WON', 'WON', 'WON', 'WON', 'WON', 'WON', 'WON', 'WON', 'WON', 'WON', 'WON', 'WON', 'WON', 'WON', 'WON', 'WON', 'WON', 'WON', 'WON', 'WON', 'WON', 'WON', 'WON', 'WON', 'WON', 'WON', 'WON', 'WON', 'WON', 'WON', 'WON', 'WON', 'WON', 'WON', 'WON', 'WON', 'WON', 'WON', 'WON', 'WON', 'WON', 'WON', 'WON', 'WON', 'WON', 'WON', 'WON', 'WON', 'WON', 'WON', 'WON', 'WON', 'WON', 'WON', 'WON', 'WON', 'WON', 'WON', 'WON', 'WON', 'WON', 'WON', 'WON', 'WON', 'WON', 'WON', 'WON', 'WON', 'WON', 'WON', 'WON', 'WON', 'WON', 'WON', 'WON', 'WON', 'WON', 'WON', 'WON', 'WON', 'WON', 'WON', 'WON', 'WON', 'WON', 'WON', 'WON', 'WON', 'WON', 'WON', 'WON', 'WON', 'WON', 'WON', 'WON', 'WON', 'WON', 'WON', 'WON', 'WON', 'WON', 'WON', 'WON', 'WON', 'WON', 'WON', 'WON', 'WON', 'WON', 'WON', 'WON', 'WON', 'WON', 'WON', 'WON', 'WON', 'WON', 'WON', 'WON', 'WON', 'WON', 'WON', 'WON', 'WON', 'WON', 'WON', 'WON', 'WON', 'WON', 'WON', 'WON', 'WON', 'WON', 'WON', 'WON', 'WON', 'WON', 'WON', 'WON', 'WON', 'WON', 'WON', 'WON', 'WON', 'WON', 'WON', 'WON', 'WON', 'WON', 'WON', 'WON', 'WON', 'WON', 'WON', 'WON', 'WON', 'WON', 'WON', 'WON', 'WON', 'WON', 'WON', 'WON', 'WON', 'WON', 'WON', 'WON', 'WON', 'WON', 'WON', 'WON', 'WON', 'WON', 'WON', 'WON', 'WON', 'WON', 'WON', 'WON', 'WON', 'WON', 'WON', 'WON', 'WON', 'WON', 'WON', 'WON', 'WON', 'WON', 'WON', 'WON', 'WON', 'WON', 'WON', 'WON', 'WON', 'WON', 'WON', 'WON', 'WON', 'WON', 'WON', 'WON', 'WON', 'WON', 'WON', 'WON', 'WON', 'WON', 'WON', 'WON', 'WON', 'WON', 'WON', 'WON', 'WON', 'WON', 'WON', 'WON', 'WON', 'WON', 'WON', 'WON', 'WON', 'WON', 'WON', 'WON', 'WON', 'WON', 'WON', 'WON', 'WON', 'WON', 'WON', 'WON', 'WON', 'WON', 'WON', 'WON', 'WON', 'WON', 'WON', 'WON', 'WON', 'WON', 'WON', 'WON', 'WON', 'WON', 'WON', 'WON', 'WON', 'WON', 'WON', 'WON', 'WON', 'WON', 'WON', 'WON', 'WON', 'WON', 'WON', 'WON', 'WON', 'WON', 'WON', 'WON', 'WON', 'WON', 'WON', 'WON', 'WON', 'WON', 'WON', 'WON', 'WON', 'WON', 'WON', 'WON', 'WON', 'WON', 'WON', 'WON', 'WON', 'WON', 'WON', 'WON', 'WON', 'WON', 'WON', 'WON', 'WON', 'WON', 'WON', 'WON', 'WON', 'WON', 'WON', 'WON', 'WON', 'WON', 'WON', 'WON', 'WON', 'WON', 'WON', 'WON', 'WON', 'WON', 'WON', 'WON', 'WON', 'WON', 'WON', 'WON', 'WON', 'WON', 'WON', 'WON', 'WON', 'WON', 'WON', 'WON', 'WON', 'WON', 'WON', 'WON', 'WON', 'WON', 'WON', 'WON', 'WON', 'WON', 'WON', 'WON', 'WON', 'WON', 'WON', 'WON', 'WON', 'WON', 'WON', 'WON', 'WON', 'WON', 'WON', 'WON', 'WON', 'WON', 'WON', 'WON', 'WON', 'WON', 'WON', 'WON', 'WON', 'WON', 'WON', 'WON', 'WON', 'WON', 'WON', 'WON', 'WON', 'WON', 'WON', 'WON', 'WON', 'WON', 'WON', 'WON', 'WON', 'WON', 'WON', 'WON', 'WON', 'WON', 'WON', 'WON', 'WON', 'WON', 'WON', 'WON', 'WON', 'WON', 'WON', 'WON', 'WON', 'WON', 'WON', 'WON', 'WON', 'WON', 'WON', 'WON', 'WON', 'WON', 'WON', 'WON', 'WON', 'WON', 'WON', 'WON', 'WON', 'WON', 'WON', 'WON', 'WON', 'WON', 'WON', 'WON', 'WON', 'WON', 'WON', 'WON', 'WON', 'WON', 'WON', 'WON', 'WON', 'WON', 'WON', 'WON', 'WON', 'WON', 'WON', 'WON', 'WON', 'WON', 'WON', 'WON', 'WON', 'WON', 'WON', 'WON', 'WON', 'WON', 'WON', 'WON', 'WON', 'WON', 'WON', 'WON', 'WON', 'WON', 'WON', 'WON', 'WON', 'WON', 'WON', 'WON', 'WON', 'WON', 'WON', 'WON', 'WON', 'WON', 'WON', 'WON', 'WON', 'WON', 'WON', 'WON', 'WON', 'WON', 'WON', 'WON', 'WON', 'WON', 'WON', 'WON', 'WON', 'WON', 'WON', 'WON', 'WON', 'WON', 'WON', 'WON', 'WON', 'WON', 'WON', 'WON', 'WON', 'WON', 'WON', 'WON', 'WON', 'WON', 'WON', 'WON', 'WON', 'WON', 'WON', 'WON', 'WON', 'WON', 'WON', 'WON', 'WON', 'WON', 'WON', 'WON', 'WON', 'WON', 'WON', 'WON', 'WON', 'WON', 'WON', 'WON', 'WON', 'WON', 'WON', 'WON', 'WON', 'WON', 'WON', 'WON', 'WON', 'WON', 'WON', 'WON', 'WON', 'WON', 'WON', 'WON', 'WON', 'WON', 'WON', 'WON', 'WON', 'WON', 'WON', 'WON', 'WON', 'WON', 'WON', 'WON', 'WON', 'WON', 'WON', 'WON', 'WON', 'WON', 'WON', 'WON', 'WON', 'WON', 'WON', 'WON', 'WON', 'WON', 'WON', 'WON', 'WON', 'WON', 'WON', 'WON', 'WON', 'WON', 'WON', 'WON', 'WON', 'WON', 'WON', 'WON', 'WON', 'WON', 'WON', 'WON', 'WON', 'WON', 'WON', 'WON', 'WON', 'WON', 'WON', 'WON', 'WON', 'WON', 'WON', 'WON', 'WON', 'WON', 'WON', 'WON', 'WON', 'WON', 'WON', 'WON', 'WON', 'WON', 'WON', 'WON', 'WON', 'WON', 'WON', 'WON', 'WON', 'WON', 'WON', 'WON', 'WON', 'WON', 'WON', 'WON', 'WON', 'WON', 'WON', 'WON', 'WON', 'WON', 'WON', 'WON', 'WON', 'WON', 'WON', 'WON', 'WON', 'WON', 'WON', 'WON', 'WON', 'WON', 'WON', 'WON', 'WON', 'WON', 'WON', 'WON', 'WON', 'WON', 'WON', 'WON', 'WON', 'WON', 'WON', 'WON', 'WON', 'WON', 'WON', 'WON', 'WON', 'WON', 'WON', 'WON', 'WON', 'WON', 'WON', 'WON', 'WON', 'WON', 'WON', 'WON', 'WON', 'WON', 'WON', 'WON', 'WON', 'WON', 'WON', 'WON', 'WON', 'WON', 'WON', 'WON', 'WON', 'WON', 'WON', 'WON', 'WON', 'WON', 'WON', 'WON', 'WON', 'WON', 'WON', 'WON', 'WON', 'WON', 'WON', 'WON', 'WON', 'WON', 'WON', 'WON', 'WON', 'WON', 'WON', 'WON', 'WON', 'WON', 'WON', 'WON', 'WON', 'WON', 'WON', 'WON', 'WON', 'WON', 'WON', 'WON', 'WON', 'WON', 'WON', 'WON', 'WON', 'WON', 'WON', 'WON', 'WON', 'WON', 'WON', 'WON', 'WON', 'WON', 'WON', 'WON', 'WON', 'WON', 'WON', 'WON', 'WON', 'WON', 'WON', 'WON', 'WON', 'WON', 'WON', 'WON', 'WON', 'WON', 'WON', 'WON', 'WON', 'WON', 'WON', 'WON', 'WON', 'WON', 'WON', 'WON', 'WON', 'WON', 'WON', 'WON', 'WON', 'WON', 'WON', 'WON', 'WON', 'WON', 'WON', 'WON', 'WON', 'WON', 'WON', 'WON', 'WON', 'WON', 'WON', 'WON', 'WON', 'WON', 'WON', 'WON', 'WON', 'WON', 'WON', 'WON', 'WON', 'WON', 'WON', 'WON', 'WON', 'WON', 'WON', 'WON', 'WON', 'WON', 'WON', 'WON', 'WON', 'WON', 'WON', 'WON', 'WON', 'WON', 'WON', 'WON', 'WON', 'WON', 'WON', 'WON', 'WON', 'WON', 'WON', 'WON', 'WON', 'WON', 'WON', 'WON', 'WON', 'WON', 'WON', 'WON', 'WON', 'WON', 'WON', 'WON', 'WON', 'WON', 'WON', 'WON', 'WON', 'WON', 'WON', 'WON', 'WON', 'WON', 'WON', 'WON', 'WON', 'WON', 'WON', 'WON', 'WON', 'WON', 'WON', 'WON', 'WON', 'WON', 'WON', 'WON', 'WON', 'WON', 'WON', 'WON', 'WON', 'WON', 'WON', 'WON', 'WON', 'WON', 'WON', 'WON', 'WON', 'WON', 'WON', 'WON', 'WON', 'WON', 'WON', 'WON', 'WON', 'WON', 'WON', 'WON', 'WON', 'WON', 'WON', 'WON', 'WON', 'WON', 'WON', 'WON', 'WON', 'WON', 'WON', 'WON', 'WON', 'WON', 'WON', 'WON', 'WON', 'WON', 'WON', 'WON', 'WON', 'WON', 'WON', 'WON', 'WON', 'WON', 'WON', 'WON', 'WON', 'WON', 'WON', 'WON', 'WON', 'WON', 'WON', 'WON', 'WON', 'WON', 'WON', 'WON', 'WON', 'WON', 'WON', 'WON', 'WON', 'WON', 'WON', 'WON', 'WON', 'WON', 'WON', 'WON', 'WON', 'WON', 'WON', 'WON', 'WON', 'WON', 'WON', 'WON', 'WON', 'WON', 'WON', 'WON', 'WON', 'WON', 'WON', 'WON', 'WON', 'WON', 'WON', 'WON', 'WON', 'WON', 'WON', 'WON', 'WON', 'WON', 'WON', 'WON', 'WON', 'WON', 'WON', 'WON', 'WON', 'WON', 'WON', 'WON', 'WON', 'WON', 'WON', 'WON', 'WON', 'WON', 'WON', 'WON', 'WON', 'WON', 'WON', 'WON', 'WON', 'WON', 'WON', 'WON', 'WON', 'WON', 'WON', 'WON', 'WON', 'WON', 'WON', 'WON', 'WON', 'WON', 'WON', 'WON', 'WON', 'WON', 'WON', 'WON', 'WON', 'WON', 'WON', 'WON', 'WON', 'WON', 'WON', 'WON', 'WON', 'WON', 'WON', 'WON', 'WON', 'WON', 'WON', 'WON', 'WON', 'WON', 'WON', 'WON', 'WON', 'WON', 'WON', 'WON', 'WON', 'WON', 'WON', 'WON', 'WON', 'WON', 'WON', 'WON', 'WON', 'WON', 'WON', 'WON', 'WON', 'WON', 'WON', 'WON', 'WON', 'WON', 'WON', 'WON', 'WON', 'WON', 'WON', 'WON', 'WON', 'WON', 'WON', 'WON', 'WON', 'WON', 'WON', 'WON', 'WON', 'WON', 'WON', 'WON', 'WON', 'WON', 'WON', 'WON', 'WON', 'WON', 'WON', 'WON', 'WON', 'WON', 'WON', 'WON', 'WON', 'WON', 'WON', 'WON', 'WON', 'WON', 'WON', 'WON', 'WON', 'WON', 'WON', 'WON', 'WON', 'WON', 'WON', 'WON', 'WON', 'WON', 'WON', 'WON', 'WON', 'WON', 'WON', 'WON', 'WON', 'WON', 'WON', 'WON', 'WON', 'WON', 'WON', 'WON', 'WON', 'WON', 'WON', 'WON', 'WON', 'WON', 'WON', 'WON', 'WON', 'WON', 'WON', 'WON', 'WON', 'WON', 'WON', 'WON', 'WON', 'WON', 'WON', 'WON', 'WON', 'WON', 'WON', 'WON', 'WON', 'WON', 'WON', 'WON', 'WON', 'WON', 'WON', 'WON', 'WON', 'WON', 'WON', 'WON', 'WON', 'WON', 'WON', 'WON', 'WON', 'WON', 'WON', 'WON', 'WON', 'WON', 'WON', 'WON', 'WON', 'WON', 'WON', 'WON', 'WON', 'WON', 'WON', 'WON', 'WON', 'WON', 'WON', 'WON', 'WON', 'WON', 'WON', 'WON', 'WON', 'WON', 'WON', 'WON', 'WON', 'WON', 'WON', 'WON', 'WON', 'WON', 'WON', 'WON', 'WON', 'WON', 'WON', 'WON', 'WON', 'WON', 'WON', 'WON', 'WON', 'WON', 'WON', 'WON', 'WON', 'WON', 'WON', 'WON', 'WON', 'WON', 'WON', 'WON', 'WON', 'WON', 'WON', 'WON', 'WON', 'WON', 'WON', 'WON', 'WON', 'WON', 'WON', 'WON', 'WON', 'WON', 'WON', 'WON', 'WON', 'WON', 'WON', 'WON', 'WON', 'WON', 'WON', 'WON', 'WON', 'WON', 'WON', 'WON', 'WON', 'WON', 'WON', 'WON', 'WON', 'WON', 'WON', 'WON', 'WON', 'WON', 'WON', 'WON', 'WON', 'WON', 'WON', 'WON', 'WON', 'WON', 'WON', 'WON', 'WON', 'WON', 'WON', 'WON', 'WON', 'WON', 'WON', 'WON', 'WON', 'WON', 'WON', 'WON', 'WON', 'WON', 'WON', 'WON', 'WON', 'WON', 'WON', 'WON', 'WON', 'WON', 'WON', 'WON', 'WON', 'WON', 'WON', 'WON', 'WON', 'WON', 'WON', 'WON', 'WON', 'WON', 'WON', 'WON', 'WON', 'WON', 'WON', 'WON', 'WON', 'WON', 'WON', 'WON', 'WON', 'WON', 'WON', 'WON', 'WON', 'WON', 'WON', 'WON', 'WON', 'WON', 'WON', 'WON', 'WON', 'WON', 'WON', 'WON', 'WON', 'WON', 'WON', 'WON', 'WON', 'WON', 'WON', 'WON', 'WON', 'WON', 'WON', 'WON', 'WON', 'WON', 'WON', 'WON', 'WON', 'WON', 'WON', 'WON', 'WON', 'WON', 'WON', 'WON', 'WON', 'WON', 'WON', 'WON', 'WON', 'WON', 'WON', 'WON', 'WON', 'WON', 'WON', 'WON', 'WON', 'WON', 'WON', 'WON', 'WON', 'WON', 'WON', 'WON', 'WON', 'WON', 'WON', 'WON', 'WON', 'WON', 'WON', 'WON', 'WON', 'WON', 'WON', 'WON', 'WON', 'WON', 'WON', 'WON', 'WON', 'WON', 'WON', 'WON', 'WON', 'WON', 'WON', 'WON', 'WON', 'WON', 'WON', 'WON', 'WON', 'WON', 'WON', 'WON', 'WON', 'WON', 'WON', 'WON', 'WON', 'WON', 'WON', 'WON', 'WON', 'WON', 'WON', 'WON', 'WON', 'WON', 'WON', 'WON', 'WON', 'WON', 'WON', 'WON', 'WON', 'WON', 'WON', 'WON', 'WON', 'WON', 'WON', 'WON', 'WON', 'WON', 'WON', 'WON', 'WON', 'WON', 'WON', 'WON', 'WON', 'WON', 'WON', 'WON', 'WON', 'WON', 'WON', 'WON', 'WON', 'WON', 'WON', 'WON', 'WON', 'WON', 'WON', 'WON', 'WON', 'WON', 'WON', 'WON', 'WON', 'WON', 'WON', 'WON', 'WON', 'WON', 'WON', 'WON', 'WON', 'WON', 'WON', 'WON', 'WON', 'WON', 'WON', 'WON', 'WON', 'WON', 'WON', 'WON', 'WON', 'WON', 'WON', 'WON', 'WON', 'WON', 'WON', 'WON', 'WON', 'WON', 'WON', 'WON', 'WON', 'WON', 'WON', 'WON', 'WON', 'WON', 'WON', 'WON', 'WON', 'WON', 'WON', 'WON', 'WON', 'WON', 'WON', 'WON', 'WON', 'WON', 'WON', 'WON', 'WON', 'WON', 'WON', 'WON', 'WON', 'WON', 'WON', 'WON', 'WON', 'WON', 'WON', 'WON', 'WON', 'WON', 'WON', 'WON', 'WON', 'WON', 'WON', 'WON', 'WON', 'WON', 'WON', 'WON', 'WON', 'WON', 'WON', 'WON', 'WON', 'WON', 'WON', 'WON', 'WON', 'WON', 'WON', 'WON', 'WON', 'WON', 'WON', 'WON', 'WON', 'WON', 'WON', 'WON', 'WON', 'WON', 'WON', 'WON', 'WON', 'WON', 'WON', 'WON', 'WON', 'WON', 'WON', 'WON', 'WON', 'WON', 'WON', 'WON', 'WON', 'WON', 'WON', 'WON', 'WON', 'WON', 'WON', 'WON', 'WON', 'WON', 'WON', 'WON', 'WON', 'WON', 'WON', 'WON', 'WON', 'WON', 'WON', 'WON', 'WON', 'WON', 'WON', 'WON', 'WON', 'WON', 'WON', 'WON', 'WON', 'WON', 'WON', 'WON', 'WON', 'WON', 'WON', 'WON', 'WON', 'WON', 'WON', 'WON', 'WON', 'WON', 'WON', 'WON', 'WON', 'WON', 'WON', 'WON', 'WON', 'WON', 'WON', 'WON', 'WON', 'WON', 'WON', 'WON', 'WON', 'WON', 'WON', 'WON', 'WON', 'WON', 'WON', 'WON', 'WON', 'WON', 'WON', 'WON', 'WON', 'WON', 'WON', 'WON', 'WON', 'WON', 'WON', 'WON', 'WON', 'WON', 'WON', 'WON', 'WON', 'WON', 'WON', 'WON', 'WON', 'WON', 'WON', 'WON', 'WON', 'WON', 'WON', 'WON', 'WON', 'WON', 'WON', 'WON', 'WON', 'WON', 'WON', 'WON', 'WON', 'WON', 'WON', 'WON', 'WON', 'WON', 'WON', 'WON', 'WON', 'WON', 'WON', 'WON', 'WON', 'WON', 'WON', 'WON', 'WON', 'WON', 'WON', 'WON', 'WON', 'WON', 'WON', 'WON', 'WON', 'WON', 'WON', 'WON', 'WON', 'WON', 'WON', 'WON', 'WON', 'WON', 'WON', 'WON', 'WON', 'WON', 'WON', 'WON', 'WON', 'WON', 'WON', 'WON', 'WON', 'WON', 'WON', 'WON', 'WON', 'WON', 'WON', 'WON', 'WON', 'WON', 'WON', 'WON', 'WON', 'WON', 'WON', 'WON', 'WON', 'WON', 'WON', 'WON', 'WON', 'WON', 'WON', 'WON', 'WON', 'WON', 'WON', 'WON', 'WON', 'WON', 'WON', 'WON', 'WON', 'WON', 'WON', 'WON', 'WON', 'WON', 'WON', 'WON', 'WON', 'WON', 'WON', 'WON', 'WON', 'WON', 'WON', 'WON', 'WON', 'WON', 'WON', 'WON', 'WON', 'WON', 'WON', 'WON', 'WON', 'WON', 'WON', 'WON', 'WON', 'WON', 'WON', 'WON', 'WON', 'WON', 'WON', 'WON', 'WON', 'WON', 'WON', 'WON', 'WON', 'WON', 'WON', 'WON', 'WON', 'WON', 'WON', 'WON', 'WON', 'WON', 'WON', 'WON', 'WON', 'WON', 'WON', 'WON', 'WON', 'WON', 'WON', 'WON', 'WON', 'WON', 'WON', 'WON', 'WON', 'WON', 'WON', 'WON', 'WON', 'WON', 'WON', 'WON', 'WON', 'WON', 'WON', 'WON', 'WON', 'WON', 'WON', 'WON', 'WON', 'WON', 'WON', 'WON', 'WON', 'WON', 'WON', 'WON', 'WON', 'WON', 'WON', 'WON', 'WON', 'WON', 'WON', 'WON', 'WON', 'WON', 'WON', 'WON', 'WON', 'WON', 'WON', 'WON', 'WON', 'WON', 'WON', 'WON', 'WON', 'WON', 'WON', 'WON', 'WON', 'WON', 'WON', 'WON', 'WON', 'WON', 'WON', 'WON', 'WON', 'WON', 'WON', 'WON', 'WON', 'WON', 'WON', 'WON', 'WON', 'WON', 'WON', 'WON', 'WON', 'WON', 'WON', 'WON', 'WON', 'WON', 'WON', 'WON', 'WON', 'WON', 'WON', 'WON', 'WON', 'WON', 'WON', 'WON', 'WON', 'WON', 'WON', 'WON', 'WON', 'WON', 'WON', 'WON', 'WON', 'WON', 'WON', 'WON', 'WON', 'WON', 'WON', 'WON', 'WON', 'WON', 'WON', 'WON', 'WON', 'WON', 'WON', 'WON', 'WON', 'WON', 'WON', 'WON', 'WON', 'WON', 'WON', 'WON', 'WON', 'WON', 'WON', 'WON', 'WON', 'WON', 'WON', 'WON', 'WON', 'WON', 'WON', 'WON', 'WON', 'WON', 'WON', 'WON', 'WON', 'WON', 'WON', 'WON', 'WON', 'WON', 'WON', 'WON', 'WON', 'WON', 'WON', 'WON', 'WON', 'WON', 'WON', 'WON', 'WON', 'WON', 'WON', 'WON', 'WON', 'WON', 'WON', 'WON', 'WON', 'WON', 'WON', 'WON', 'WON', 'WON', 'WON', 'WON', 'WON', 'WON', 'WON', 'WON', 'WON', 'WON', 'WON', 'WON', 'WON', 'WON', 'WON', 'WON', 'WON', 'WON', 'WON', 'WON', 'WON', 'WON', 'WON', 'WON', 'WON', 'WON', 'WON', 'WON', 'WON', 'WON', 'WON', 'WON', 'WON', 'WON', 'WON', 'WON', 'WON', 'WON', 'WON', 'WON', 'WON', 'WON', 'WON', 'WON', 'WON', 'WON', 'WON', 'WON', 'WON', 'WON', 'WON', 'WON', 'WON', 'WON', 'WON', 'WON', 'WON', 'WON', 'WON', 'WON', 'WON', 'WON', 'WON', 'WON', 'WON', 'WON', 'WON', 'WON', 'WON', 'WON', 'WON', 'WON', 'WON', 'WON', 'WON', 'WON', 'WON', 'WON', 'WON', 'WON', 'WON', 'WON', 'WON', 'WON', 'WON', 'WON', 'WON', 'WON', 'WON', 'WON', 'WON', 'WON', 'WON', 'WON', 'WON', 'WON', 'WON', 'WON', 'WON', 'WON', 'WON', 'WON', 'WON', 'WON', 'WON', 'WON', 'WON', 'WON', 'WON', 'WON', 'WON', 'WON', 'WON', 'WON', 'WON', 'WON', 'WON', 'WON', 'WON', 'WON', 'WON', 'WON', 'WON', 'WON', 'WON', 'WON', 'WON', 'WON', 'WON', 'WON', 'WON', 'WON', 'WON', 'WON', 'WON', 'WON', 'WON', 'WON', 'WON', 'WON', 'WON', 'WON', 'WON', 'WON', 'WON', 'WON', 'WON', 'WON', 'WON', 'WON', 'WON', 'WON', 'WON', 'WON', 'WON', 'WON', 'WON', 'WON', 'WON', 'WON', 'WON', 'WON', 'WON', 'WON', 'WON', 'WON', 'WON', 'WON', 'WON', 'WON', 'WON', 'WON', 'WON', 'WON', 'WON', 'WON', 'WON', 'WON', 'WON', 'WON', 'WON', 'WON', 'WON', 'WON', 'WON', 'WON', 'WON', 'WON', 'WON', 'WON', 'WON', 'WON', 'WON', 'WON', 'WON', 'WON', 'WON', 'WON', 'WON', 'WON', 'WON', 'WON', 'WON', 'WON', 'WON', 'WON', 'WON', 'WON', 'WON', 'WON', 'WON', 'WON', 'WON', 'WON', 'WON', 'WON', 'WON', 'WON', 'WON', 'WON', 'WON', 'WON', 'WON', 'WON', 'WON', 'WON', 'WON', 'WON', 'WON', 'WON', 'WON', 'WON', 'WON', 'WON', 'WON', 'WON', 'WON', 'WON', 'WON', 'WON', 'WON', 'WON', 'WON', 'WON', 'WON', 'WON', 'WON', 'WON', 'WON', 'WON', 'WON', 'WON', 'WON', 'WON', 'WON', 'WON', 'WON', 'WON', 'WON', 'WON', 'WON', 'WON', 'WON', 'WON', 'WON', 'WON', 'WON', 'WON', 'WON', 'WON', 'WON', 'WON', 'WON', 'WON', 'WON', 'WON', 'WON', 'WON', 'WON', 'WON', 'WON', 'WON', 'WON', 'WON', 'WON', 'WON', 'WON', 'WON', 'WON', 'WON', 'WON', 'WON', 'WON', 'WON', 'WON', 'WON', 'WON', 'WON', 'WON', 'WON', 'WON', 'WON', 'WON', 'WON', 'WON', 'WON', 'WON', 'WON', 'WON', 'WON', 'WON', 'WON', 'WON', 'WON', 'WON', 'WON', 'WON', 'WON', 'WON', 'WON', 'WON', 'WON', 'WON', 'WON', 'WON', 'WON', 'WON', 'WON', 'WON', 'WON', 'WON', 'WON', 'WON', 'WON', 'WON', 'WON', 'WON', 'WON', 'WON', 'WON', 'WON', 'WON', 'WON', 'WON', 'WON', 'WON', 'WON', 'WON', 'WON', 'WON', 'WON', 'WON', 'WON', 'WON', 'WON', 'WON', 'WON', 'WON', 'WON', 'WON', 'WON', 'WON', 'WON', 'WON', 'WON', 'WON', 'WON', 'WON', 'WON', 'WON', 'WON', 'WON', 'WON', 'WON', 'WON', 'WON', 'WON', 'WON', 'WON', 'WON', 'WON', 'WON', 'WON', 'WON', 'WON', 'WON', 'WON', 'WON', 'WON', 'WON', 'WON', 'WON', 'WON', 'WON', 'WON', 'WON', 'WON', 'WON', 'WON', 'WON', 'WON', 'WON', 'WON', 'WON', 'WON', 'WON', 'WON', 'WON', 'WON', 'WON', 'WON', 'WON', 'WON', 'WON', 'WON', 'WON', 'WON', 'WON', 'WON', 'WON', 'WON', 'WON', 'WON', 'WON', 'WON', 'WON', 'WON', 'WON', 'WON', 'WON', 'WON', 'WON', 'WON', 'WON', 'WON', 'WON', 'WON', 'WON', 'WON', 'WON', 'WON', 'WON', 'WON', 'WON', 'WON', 'WON', 'WON', 'WON', 'WON', 'WON', 'WON', 'WON', 'WON', 'WON', 'WON', 'WON', 'WON', 'WON', 'WON', 'WON', 'WON', 'WON', 'WON', 'WON', 'WON', 'WON', 'WON', 'WON', 'WON', 'WON', 'WON', 'WON', 'WON', 'WON', 'WON', 'WON', 'WON', 'WON', 'WON', 'WON', 'WON', 'WON', 'WON', 'WON', 'WON', 'WON', 'WON', 'WON', 'WON', 'WON', 'WON', 'WON', 'WON', 'WON', 'WON', 'WON', 'WON', 'WON', 'WON', 'WON', 'WON', 'WON', 'WON', 'WON', 'WON', 'WON', 'WON', 'WON', 'WON', 'WON', 'WON', 'WON', 'WON', 'WON', 'WON', 'WON', 'WON', 'WON', 'WON', 'WON', 'WON', 'WON', 'WON', 'WON', 'WON', 'WON', 'WON', 'WON', 'WON', 'WON', 'WON', 'WON', 'WON', 'WON', 'WON', 'WON', 'WON', 'WON', 'WON', 'WON', 'WON', 'WON', 'WON', 'WON', 'WON', 'WON', 'WON', 'WON', 'WON', 'WON', 'WON', 'WON', 'WON', 'WON', 'WON', 'WON', 'WON', 'WON', 'WON', 'WON', 'WON', 'WON', 'WON', 'WON', 'WON', 'WON', 'WON', 'WON', 'WON', 'WON', 'WON', 'WON', 'WON', 'WON', 'WON', 'WON', 'WON', 'WON', 'WON', 'WON', 'WON', 'WON', 'WON', 'WON', 'WON', 'WON', 'WON', 'WON', 'WON', 'WON', 'WON', 'WON', 'WON', 'WON', 'WON', 'WON', 'WON', 'WON', 'WON', 'WON', 'WON', 'WON', 'WON', 'WON', 'WON', 'WON', 'WON', 'WON', 'WON', 'WON', 'WON', 'WON', 'WON', 'WON', 'WON', 'WON', 'WON', 'WON', 'WON', 'WON', 'WON', 'WON', 'WON', 'WON', 'WON', 'WON', 'WON', 'WON', 'WON', 'WON', 'WON', 'WON', 'WON', 'WON', 'WON', 'WON', 'WON', 'WON', 'WON', 'WON', 'WON', 'WON', 'WON', 'WON', 'WON', 'WON', 'WON', 'WON', 'WON', 'WON', 'WON', 'WON', 'WON', 'WON', 'WON', 'WON', 'WON', 'WON', 'WON', 'WON', 'WON', 'WON', 'WON', 'WON', 'WON', 'WON', 'WON', 'WON', 'WON', 'WON', 'WON', 'WON', 'WON', 'WON', 'WON', 'WON', 'WON', 'WON', 'WON', 'WON', 'WON', 'WON', 'WON', 'WON', 'WON', 'WON', 'WON', 'WON', 'WON', 'WON', 'WON', 'WON', 'WON', 'WON', 'WON', 'WON', 'WON', 'WON', 'WON', 'WON', 'WON', 'WON', 'WON', 'WON', 'WON', 'WON', 'WON', 'WON', 'WON', 'WON', 'WON', 'WON', 'WON', 'WON', 'WON', 'WON', 'WON', 'WON', 'WON', 'WON', 'WON', 'WON', 'WON', 'WON', 'WON', 'WON', 'WON', 'WON', 'WON', 'WON', 'WON', 'WON', 'WON', 'WON', 'WON', 'WON', 'WON', 'WON', 'WON', 'WON', 'WON', 'WON', 'WON', 'WON', 'WON', 'WON', 'WON', 'WON', 'WON', 'WON', 'WON', 'WON', 'WON', 'WON', 'WON', 'WON', 'WON', 'WON', 'WON', 'WON', 'WON', 'WON', 'WON', 'WON', 'WON', 'WON', 'WON', 'WON', 'WON', 'WON', 'WON', 'WON', 'WON', 'WON', 'WON', 'WON', 'WON', 'WON', 'WON', 'WON', 'WON', 'WON', 'WON', 'WON', 'WON', 'WON', 'WON', 'WON', 'WON', 'WON', 'WON', 'WON', 'WON', 'WON', 'WON', 'WON', 'WON', 'WON', 'WON', 'WON', 'WON', 'WON', 'WON', 'WON', 'WON', 'WON', 'WON', 'WON', 'WON', 'WON', 'WON', 'WON', 'WON', 'WON', 'WON', 'WON', 'WON', 'WON', 'WON', 'WON', 'WON', 'WON', 'WON', 'WON', 'WON', 'WON', 'WON', 'WON', 'WON', 'WON', 'WON', 'WON', 'WON', 'WON', 'WON', 'WON', 'WON', 'WON', 'WON', 'WON', 'WON', 'WON', 'WON', 'WON', 'WON', 'WON', 'WON', 'WON', 'WON', 'WON', 'WON', 'WON', 'WON', 'WON', 'WON', 'WON', 'WON', 'WON', 'WON', 'WON', 'WON', 'WON', 'WON', 'WON', 'WON', 'WON', 'WON', 'WON', 'WON', 'WON', 'WON', 'WON', 'WON', 'WON', 'WON', 'WON', 'WON', 'WON', 'WON', 'WON', 'WON', 'WON', 'WON', 'WON', 'WON', 'WON', 'WON', 'WON', 'WON', 'WON', 'WON', 'WON', 'WON', 'WON', 'WON', 'WON', 'WON', 'WON', 'WON', 'WON', 'WON', 'WON', 'WON', 'WON', 'WON', 'WON', 'WON', 'WON', 'WON', 'WON', 'WON', 'WON', 'WON', 'WON', 'WON', 'WON', 'WON', 'WON', 'WON', 'WON', 'WON', 'WON', 'WON', 'WON', 'WON', 'WON', 'WON', 'WON', 'WON', 'WON', 'WON', 'WON', 'WON', 'WON', 'WON', 'WON', 'WON', 'WON', 'WON', 'WON', 'WON', 'WON', 'WON', 'WON', 'WON', 'WON', 'WON', 'WON', 'WON', 'WON', 'WON', 'WON', 'WON', 'WON', 'WON', 'WON', 'WON', 'WON', 'WON', 'WON', 'WON', 'WON', 'WON', 'WON', 'WON', 'WON', 'WON', 'WON', 'WON', 'WON', 'WON', 'WON', 'WON', 'WON', 'WON', 'WON', 'WON', 'WON', 'WON', 'WON', 'WON', 'WON', 'WON', 'WON', 'WON', 'WON', 'WON', 'WON', 'WON', 'WON', 'WON', 'WON', 'WON', 'WON', 'WON', 'WON', 'WON', 'WON', 'WON', 'WON', 'WON', 'WON', 'WON', 'WON', 'WON', 'WON', 'WON', 'WON', 'WON', 'WON', 'WON', 'WON', 'WON', 'WON', 'WON', 'WON', 'WON', 'WON', 'WON', 'WON', 'WON', 'WON', 'WON', 'WON', 'WON', 'WON', 'WON', 'WON', 'WON', 'WON', 'WON', 'WON', 'WON', 'WON', 'WON', 'WON', 'WON', 'WON', 'WON', 'WON', 'WON', 'WON', 'WON', 'WON', 'WON', 'WON', 'WON', 'WON', 'WON', 'WON', 'WON', 'WON', 'WON', 'WON', 'WON', 'WON', 'WON', 'WON', 'WON', 'WON', 'WON', 'WON', 'WON', 'WON', 'WON', 'WON', 'WON', 'WON', 'WON', 'WON', 'WON', 'WON', 'WON', 'WON', 'WON', 'WON', 'WON', 'WON', 'WON', 'WON', 'WON', 'WON', 'WON', 'WON', 'WON', 'WON', 'WON', 'WON', 'WON', 'WON', 'WON', 'WON', 'WON', 'WON', 'WON', 'WON', 'WON', 'WON', 'WON', 'WON', 'WON', 'WON', 'WON', 'WON', 'WON', 'WON', 'WON', 'WON', 'WON', 'WON', 'WON', 'WON', 'WON', 'WON', 'WON', 'WON', 'WON', 'WON', 'WON', 'WON', 'WON', 'WON', 'WON', 'WON', 'WON', 'WON', 'WON', 'WON', 'WON', 'WON', 'WON', 'WON', 'WON', 'WON', 'WON', 'WON', 'WON', 'WON', 'WON', 'WON', 'WON', 'WON', 'WON', 'WON', 'WON', 'WON', 'WON', 'WON', 'WON', 'WON', 'WON', 'WON', 'WON', 'WON', 'WON', 'WON', 'WON', 'WON', 'WON', 'WON', 'WON', 'WON', 'WON', 'WON', 'WON', 'WON', 'WON', 'WON', 'WON', 'WON', 'WON', 'WON', 'WON', 'WON', 'WON', 'WON', 'WON', 'WON', 'WON', 'WON', 'WON', 'WON', 'WON', 'WON', 'WON', 'WON', 'WON', 'WON', 'WON', 'WON', 'WON', 'WON', 'WON', 'WON', 'WON', 'WON', 'WON', 'WON', 'WON', 'WON', 'WON', 'WON', 'WON', 'WON', 'WON', 'WON', 'WON', 'WON', 'WON', 'WON', 'WON', 'WON', 'WON', 'WON', 'WON', 'WON', 'WON', 'WON', 'WON', 'WON', 'WON', 'WON', 'WON', 'WON', 'WON', 'WON', 'WON', 'WON', 'WON', 'WON', 'WON', 'WON', 'WON', 'WON', 'WON', 'WON', 'WON', 'WON', 'WON', 'WON', 'WON', 'WON', 'WON', 'WON', 'WON', 'WON', 'WON', 'WON', 'WON', 'WON', 'WON', 'WON', 'WON', 'WON', 'WON', 'WON', 'WON', 'WON', 'WON', 'WON', 'WON', 'WON', 'WON', 'WON', 'WON', 'WON', 'WON', 'WON', 'WON', 'WON', 'WON', 'WON', 'WON', 'WON', 'WON', 'WON', 'WON', 'WON', 'WON', 'WON', 'WON', 'WON', 'WON', 'WON', 'WON', 'WON', 'WON', 'WON', 'WON', 'WON', 'WON', 'WON', 'WON', 'WON', 'WON', 'WON', 'WON', 'WON', 'WON', 'WON', 'WON', 'WON', 'WON', 'WON', 'WON', 'WON', 'WON', 'WON', 'WON', 'WON', 'WON', 'WON', 'WON', 'WON', 'WON', 'WON', 'WON', 'WON', 'WON', 'WON', 'WON', 'WON', 'WON', 'WON', 'WON', 'WON', 'WON', 'WON', 'WON', 'WON', 'WON', 'WON', 'WON', 'WON', 'WON', 'WON', 'WON', 'WON', 'WON', 'WON', 'WON', 'WON', 'WON', 'WON', 'WON', 'WON', 'WON', 'WON', 'WON', 'WON', 'WON', 'WON', 'WON', 'WON', 'WON', 'WON', 'WON', 'WON', 'WON', 'WON', 'WON', 'WON', 'WON', 'WON', 'WON', 'WON', 'WON', 'WON', 'WON', 'WON', 'WON', 'WON', 'WON', 'WON', 'WON', 'WON', 'WON', 'WON', 'WON', 'WON', 'WON', 'WON', 'WON', 'WON', 'WON', 'WON', 'WON', 'WON', 'WON', 'WON', 'WON', 'WON', 'WON', 'WON', 'WON', 'WON', 'WON', 'WON', 'WON', 'WON', 'WON', 'WON', 'WON', 'WON', 'WON', 'WON', 'WON', 'WON', 'WON', 'WON', 'WON', 'WON', 'WON', 'WON', 'WON', 'WON', 'WON', 'WON', 'WON', 'WON', 'WON', 'WON', 'WON', 'WON', 'WON', 'WON', 'WON', 'WON', 'WON', 'WON', 'WON', 'WON', 'WON', 'WON', 'WON', 'WON', 'WON', 'WON', 'WON', 'WON', 'WON', 'WON', 'WON', 'WON', 'WON', 'WON', 'WON', 'WON', 'WON', 'WON', 'WON', 'WON', 'WON', 'WON', 'WON', 'WON', 'WON', 'WON', 'WON', 'WON', 'WON', 'WON', 'WON', 'WON', 'WON', 'WON', 'WON', 'WON', 'WON', 'WON', 'WON', 'WON', 'WON', 'WON', 'WON', 'WON', 'WON', 'WON', 'WON', 'WON', 'WON', 'WON', 'WON', 'WON', 'WON', 'WON', 'WON', 'WON', 'WON', 'WON', 'WON', 'WON', 'WON', 'WON', 'WON', 'WON', 'WON', 'WON', 'WON', 'WON', 'WON', 'WON', 'WON', 'WON', 'WON', 'WON', 'WON', 'WON', 'WON', 'WON', 'WON', 'WON', 'WON', 'WON', 'WON', 'WON', 'WON', 'WON', 'WON', 'WON', 'WON', 'WON', 'WON', 'WON', 'WON', 'WON', 'WON', 'WON', 'WON', 'WON', 'WON', 'WON', 'WON', 'WON', 'WON', 'WON', 'WON', 'WON', 'WON', 'WON', 'WON', 'WON', 'WON', 'WON', 'WON', 'WON', 'WON', 'WON', 'WON', 'WON', 'WON', 'WON', 'WON', 'WON', 'WON', 'WON', 'WON', 'WON', 'WON', 'WON', 'WON', 'WON', 'WON', 'WON', 'WON', 'WON', 'WON', 'WON', 'WON', 'WON', 'WON', 'WON', 'WON', 'WON', 'WON', 'WON', 'WON', 'WON', 'WON', 'WON', 'WON', 'WON', 'WON', 'WON', 'WON', 'WON', 'WON', 'WON', 'WON', 'WON', 'WON', 'WON', 'WON', 'WON', 'WON', 'WON', 'WON', 'WON', 'WON', 'WON', 'WON', 'WON', 'WON', 'WON', 'WON', 'WON', 'WON', 'WON', 'WON', 'WON', 'WON', 'WON', 'WON', 'WON', 'WON', 'WON', 'WON', 'WON', 'WON', 'WON', 'WON', 'WON', 'WON', 'WON', 'WON', 'WON', 'WON', 'WON', 'WON', 'WON', 'WON', 'WON', 'WON', 'WON', 'WON', 'WON', 'WON', 'WON', 'WON', 'WON', 'WON', 'WON', 'WON', 'WON', 'WON', 'WON', 'WON', 'WON', 'WON', 'WON', 'WON', 'WON', 'WON', 'WON', 'WON', 'WON', 'WON', 'WON', 'WON', 'WON', 'WON', 'WON', 'WON', 'WON', 'WON', 'WON', 'WON', 'WON', 'WON', 'WON', 'WON', 'WON', 'WON', 'WON', 'WON', 'WON', 'WON', 'WON', 'WON', 'WON', 'WON', 'WON', 'WON', 'WON', 'WON', 'WON', 'WON', 'WON', 'WON', 'WON', 'WON', 'WON', 'WON', 'WON', 'WON', 'WON', 'WON', 'WON', 'WON', 'WON', 'WON', 'WON', 'WON', 'WON', 'WON', 'WON', 'WON', 'WON', 'WON', 'WON', 'WON', 'WON', 'WON', 'WON', 'WON', 'WON', 'WON', 'WON', 'WON', 'WON', 'WON', 'WON', 'WON', 'WON', 'WON', 'WON', 'WON', 'WON', 'WON', 'WON', 'WON', 'WON', 'WON', 'WON', 'WON', 'WON', 'WON', 'WON', 'WON', 'WON', 'WON', 'WON', 'WON', 'WON', 'WON', 'WON', 'WON', 'WON', 'WON', 'WON', 'WON', 'WON', 'WON', 'WON', 'WON', 'WON', 'WON', 'WON', 'WON', 'WON', 'WON', 'WON', 'WON', 'WON', 'WON', 'WON', 'WON', 'WON', 'WON', 'WON', 'WON', 'WON', 'WON', 'WON', 'WON', 'WON', 'WON']\n"
     ]
    }
   ],
   "source": [
    "print(y_p_c)"
   ]
  },
  {
   "cell_type": "code",
   "execution_count": null,
   "metadata": {},
   "outputs": [],
   "source": []
  }
 ],
 "metadata": {
  "kernelspec": {
   "display_name": "base",
   "language": "python",
   "name": "python3"
  },
  "language_info": {
   "codemirror_mode": {
    "name": "ipython",
    "version": 3
   },
   "file_extension": ".py",
   "mimetype": "text/x-python",
   "name": "python",
   "nbconvert_exporter": "python",
   "pygments_lexer": "ipython3",
   "version": "3.9.12"
  },
  "orig_nbformat": 4
 },
 "nbformat": 4,
 "nbformat_minor": 2
}
